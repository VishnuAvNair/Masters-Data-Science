{
 "cells": [
  {
   "cell_type": "markdown",
   "metadata": {},
   "source": [
    "# Create dataset with sentences constituent parse trees\n",
    "\n",
    "Note: Notebook requires coreNLP server is installed and running..."
   ]
  },
  {
   "cell_type": "code",
   "execution_count": 1,
   "metadata": {},
   "outputs": [
    {
     "name": "stderr",
     "output_type": "stream",
     "text": [
      "Using TensorFlow backend.\n"
     ]
    }
   ],
   "source": [
    "import numpy as np\n",
    "import pandas as pd\n",
    "import os\n",
    "import gc\n",
    "import re\n",
    "\n",
    "from keras.preprocessing.text import Tokenizer\n",
    "from keras.preprocessing.sequence import pad_sequences\n",
    "from keras.utils import to_categorical\n",
    "\n",
    "import matplotlib.pyplot as plt\n",
    "%matplotlib inline  "
   ]
  },
  {
   "cell_type": "code",
   "execution_count": 2,
   "metadata": {
    "collapsed": true
   },
   "outputs": [],
   "source": [
    "# we will use the python CoreNLP wrapper py-coreNLP, per recommendation in Stanford CoreNLP official pages\n",
    "# https://github.com/smilli/py-corenlp\n",
    "\n",
    "from pycorenlp import StanfordCoreNLP\n",
    "nlp = StanfordCoreNLP('http://localhost:9000')"
   ]
  },
  {
   "cell_type": "code",
   "execution_count": 3,
   "metadata": {},
   "outputs": [
    {
     "data": {
      "text/html": [
       "<div>\n",
       "<style scoped>\n",
       "    .dataframe tbody tr th:only-of-type {\n",
       "        vertical-align: middle;\n",
       "    }\n",
       "\n",
       "    .dataframe tbody tr th {\n",
       "        vertical-align: top;\n",
       "    }\n",
       "\n",
       "    .dataframe thead th {\n",
       "        text-align: right;\n",
       "    }\n",
       "</style>\n",
       "<table border=\"1\" class=\"dataframe\">\n",
       "  <thead>\n",
       "    <tr style=\"text-align: right;\">\n",
       "      <th></th>\n",
       "      <th>partition</th>\n",
       "      <th>abstract_id</th>\n",
       "      <th>seq</th>\n",
       "      <th>text</th>\n",
       "      <th>label</th>\n",
       "    </tr>\n",
       "  </thead>\n",
       "  <tbody>\n",
       "    <tr>\n",
       "      <th>0</th>\n",
       "      <td>train</td>\n",
       "      <td>4293578</td>\n",
       "      <td>0</td>\n",
       "      <td>To investigate the efficacy of 6 weeks of daily low-dose oral prednisolone in improving pain , mobility , and systemic low-grade inflammation in the short term and whether the effect would be sustained at 12 weeks in older adults with moderate to severe knee osteoarthritis ( OA ) .</td>\n",
       "      <td>OBJECTIVE</td>\n",
       "    </tr>\n",
       "    <tr>\n",
       "      <th>1</th>\n",
       "      <td>train</td>\n",
       "      <td>4293578</td>\n",
       "      <td>1</td>\n",
       "      <td>A total of 125 patients with primary knee OA were randomized 1:1 ; 63 received 7.5 mg/day of prednisolone and 62 received placebo for 6 weeks .</td>\n",
       "      <td>METHODS</td>\n",
       "    </tr>\n",
       "    <tr>\n",
       "      <th>2</th>\n",
       "      <td>train</td>\n",
       "      <td>4293578</td>\n",
       "      <td>2</td>\n",
       "      <td>Outcome measures included pain reduction and improvement in function scores and systemic inflammation markers .</td>\n",
       "      <td>METHODS</td>\n",
       "    </tr>\n",
       "    <tr>\n",
       "      <th>3</th>\n",
       "      <td>train</td>\n",
       "      <td>4293578</td>\n",
       "      <td>3</td>\n",
       "      <td>Pain was assessed using the visual analog pain scale ( 0-100 mm ) .</td>\n",
       "      <td>METHODS</td>\n",
       "    </tr>\n",
       "    <tr>\n",
       "      <th>4</th>\n",
       "      <td>train</td>\n",
       "      <td>4293578</td>\n",
       "      <td>4</td>\n",
       "      <td>Secondary outcome measures included the Western Ontario and McMaster Universities Osteoarthritis Index scores , patient global assessment ( PGA ) of the severity of knee OA , and 6-min walk distance ( 6MWD ) .</td>\n",
       "      <td>METHODS</td>\n",
       "    </tr>\n",
       "  </tbody>\n",
       "</table>\n",
       "</div>"
      ],
      "text/plain": [
       "  partition  abstract_id  seq  \\\n",
       "0     train      4293578    0   \n",
       "1     train      4293578    1   \n",
       "2     train      4293578    2   \n",
       "3     train      4293578    3   \n",
       "4     train      4293578    4   \n",
       "\n",
       "                                                                                                                                                                                                                                                                                         text  \\\n",
       "0  To investigate the efficacy of 6 weeks of daily low-dose oral prednisolone in improving pain , mobility , and systemic low-grade inflammation in the short term and whether the effect would be sustained at 12 weeks in older adults with moderate to severe knee osteoarthritis ( OA ) .   \n",
       "1                                                                                                                                             A total of 125 patients with primary knee OA were randomized 1:1 ; 63 received 7.5 mg/day of prednisolone and 62 received placebo for 6 weeks .   \n",
       "2                                                                                                                                                                             Outcome measures included pain reduction and improvement in function scores and systemic inflammation markers .   \n",
       "3                                                                                                                                                                                                                         Pain was assessed using the visual analog pain scale ( 0-100 mm ) .   \n",
       "4                                                                           Secondary outcome measures included the Western Ontario and McMaster Universities Osteoarthritis Index scores , patient global assessment ( PGA ) of the severity of knee OA , and 6-min walk distance ( 6MWD ) .   \n",
       "\n",
       "       label  \n",
       "0  OBJECTIVE  \n",
       "1    METHODS  \n",
       "2    METHODS  \n",
       "3    METHODS  \n",
       "4    METHODS  "
      ]
     },
     "execution_count": 3,
     "metadata": {},
     "output_type": "execute_result"
    }
   ],
   "source": [
    "# file PubMed_20k_RCT.csv created by script01_create_single_dataset\n",
    "df_all = pd.read_csv('input/PubMed_20k_RCT.csv')\n",
    "df_train = df_all[df_all['partition']=='train']\n",
    "df_valid = df_all[df_all['partition']=='dev']\n",
    "df_test = df_all[df_all['partition']=='test']\n",
    "pd.set_option('max_colwidth',500)\n",
    "df_all.head()"
   ]
  },
  {
   "cell_type": "code",
   "execution_count": 4,
   "metadata": {},
   "outputs": [
    {
     "name": "stdout",
     "output_type": "stream",
     "text": [
      "Train partition size: 180040\n",
      "Valid partition size: 30212\n",
      "Test partition size: 30135\n",
      "Total dataset size: 240387\n"
     ]
    }
   ],
   "source": [
    "X_train_cnt = df_train.shape[0]\n",
    "X_valid_cnt = df_valid.shape[0]\n",
    "X_test_cnt = df_test.shape[0]\n",
    "\n",
    "X_all = df_all.text.values\n",
    "\n",
    "print('Train partition size: {}'.format(X_train_cnt))\n",
    "print('Valid partition size: {}'.format(X_valid_cnt))\n",
    "print('Test partition size: {}'.format(X_test_cnt))\n",
    "print('Total dataset size: {}'.format(X_all.shape[0]))"
   ]
  },
  {
   "cell_type": "markdown",
   "metadata": {},
   "source": [
    "## Vectorization of constituent parse tree"
   ]
  },
  {
   "cell_type": "code",
   "execution_count": 5,
   "metadata": {
    "scrolled": false
   },
   "outputs": [
    {
     "name": "stdout",
     "output_type": "stream",
     "text": [
      "1323 rows could not be parsed\n",
      "CPU times: user 21min 44s, sys: 3min 32s, total: 25min 17s\n",
      "Wall time: 23h 30min 26s\n"
     ]
    }
   ],
   "source": [
    "%%time\n",
    "\n",
    "i = 1\n",
    "\n",
    "# get dependency parse in bracketted format\n",
    "def get_deptree(txt):\n",
    "    global i\n",
    "    try:\n",
    "        dep_parse = nlp.annotate(txt, properties={'annotators': 'parse', 'outputFormat': 'json'})\n",
    "        dep_parse = dep_parse['sentences'][0]['parse'].replace('\\n','')\n",
    "        dep_parse = re.sub(r'\\s+',r' ',dep_parse)\n",
    "        dep_parse = re.sub(r'(\\(.*?)\\s[\\w\\-\\.\\,\\;\\:]*?\\)',r'\\1)', dep_parse)\n",
    "        dep_parse = re.sub(r'\\(', r'( ', dep_parse)\n",
    "        dep_parse = re.sub(r'\\)', r' )', dep_parse)\n",
    "    except:\n",
    "        i += 1\n",
    "        dep_parse = '( ROOT )'\n",
    "    return dep_parse\n",
    "\n",
    "df_all['deptree'] = df_all['text'].apply(lambda x: get_deptree(x))\n",
    "print('{} rows could not be parsed'.format(i))"
   ]
  },
  {
   "cell_type": "code",
   "execution_count": 67,
   "metadata": {},
   "outputs": [],
   "source": [
    "def check_voc():\n",
    "\n",
    "    s = ' '.join(df_all.deptree2.values)\n",
    "    voc = {token:1 for token in s.split()}\n",
    "    s = [token for token in s.split()]\n",
    "    VOC_SIZE = len(voc)\n",
    "    print('Vocabulary size = {}'.format(VOC_SIZE))\n",
    "    return voc, s"
   ]
  },
  {
   "cell_type": "code",
   "execution_count": 101,
   "metadata": {
    "scrolled": false
   },
   "outputs": [
    {
     "name": "stdout",
     "output_type": "stream",
     "text": [
      "Vocabulary size = 194\n",
      "CPU times: user 25.1 s, sys: 951 ms, total: 26 s\n",
      "Wall time: 26.1 s\n"
     ]
    }
   ],
   "source": [
    "%%time\n",
    "\n",
    "def get_deptree2(txt):\n",
    "    #txt = re.sub(r'\\s([\\w\\-]+[\\/\\+\\-\\@])+[\\w\\-]+\\s\\)',r'',txt)\n",
    "    txt = re.sub(r'\\-([A-Z]{3})\\-', r'\\1', txt)\n",
    "    txt = re.sub(r'\\+\\d+\\s\\)', r'', txt)\n",
    "    txt = re.sub(r'\\s([\\w\\d\\-\\+\\?\\=]+[\\/\\+\\-\\@\\&])+[\\w\\d\\-]*\\s\\)',r'',txt)\n",
    "    txt = re.sub(r'\\shttp\\:.+?\\s\\)', r'', txt)\n",
    "    txt = re.sub(r'\\sgov\\/.+?\\s\\)', r'', txt)\n",
    "    txt = re.sub(r'\\scom\\/.+?\\s\\)', r'', txt)\n",
    "    #txt = re.sub(r'\\sX\\s\\)', r'', txt)\n",
    "    txt = re.sub(r'\\s\\d+\\s\\)', r'', txt)\n",
    "    txt = re.sub(r'\\s\\+\\d+[\\.\\,]\\d+\\s\\)', r'', txt)\n",
    "    txt = re.sub(r'\\sn\\'t\\s\\)', r'', txt)\n",
    "    txt = re.sub(r'\\s[\\+\\*\\%\\<\\>\\~\\|\\/\\:\\!\\=\\&\\#\\$\\@]\\s\\)', r'', txt)\n",
    "    txt = re.sub(r'\\s[Hh]ttps\\:.+?\\s\\)', r'', txt)\n",
    "    txt = re.sub(r'\\s[Hh]ttps\\:.+?\\s\\)', r'', txt)\n",
    "    return txt\n",
    "\n",
    "df_all['deptree2'] = df_all['deptree'].apply(lambda x: get_deptree2(x))\n",
    "voc, s = check_voc()"
   ]
  },
  {
   "cell_type": "code",
   "execution_count": 106,
   "metadata": {
    "scrolled": false
   },
   "outputs": [
    {
     "name": "stdout",
     "output_type": "stream",
     "text": [
      "[('(', 11328176), (')', 11126934), ('NP', 2503916), ('NN', 1466331), ('PP', 729243), ('IN', 676206), ('VP', 665350), ('JJ', 617825), ('S', 429279), ('NNS', 417422), ('DT', 386647), ('CD', 381243), (',', 250487), ('CC', 248855), ('ROOT', 240387), ('.', 238254), ('VBD', 212804), ('VBN', 188630), ('RRB', 173765), ('LRB', 172978), ('PRN', 158895), ('ADJP', 146848), ('NNP', 122749), ('RB', 113344), ('TO', 99911), ('VB', 81203), ('ADVP', 76275), ('VBG', 69221), ('SBAR', 61444), ('JJR', 48684), ('VBZ', 43157), ('NP-TMP', 42126), ('VBP', 25812), ('QP', 23114), ('MD', 21642), ('WHNP', 18779), ('PRP', 18298), ('PRP$', 9592), ('WDT', 9424), ('WP', 8660), ('EX', 8469), ('RBR', 7284), ('POS', 6029), ('JJS', 4979), ('WRB', 4843), ('WHADVP', 4772), ('FRAG', 4435), ('FW', 4332), ('UCP', 3995), (\"''\", 3721), ('LS', 3697), ('``', 3564), (\"'\", 3495), (\"'s\", 3472), ('CONJP', 2681), ('LST', 2591), (':', 2532), ('NNPS', 2074), ('PRT', 2061), ('RBS', 1992), ('RP', 1841), ('SINV', 1655), ('WHPP', 1526), ('NX', 1456), ('X', 1233), ('`', 822), ('NAC', 686), ('$', 651), ('SYM', 494), ('PDT', 481), ('RRC', 460), ('WP$', 259), ('?', 108), ('SQ', 76), ('#', 75), ('INTJ', 53), ('US$', 49), ('SBARQ', 35), ('UH', 35), ('WHADJP', 28), ('#NCT', 13), (\"'S\", 7), ('NZ$', 6), ('</formula>', 6), ('A$', 6), ('<formula>', 6), (\"Plumpy'Nut\", 5), (\"O'Brien\", 5), ('<euro>', 5), (\"o'clock\", 5), (\"d'Ivoire\", 5), (\"O'Leary-Sant\", 4), (\"L'\", 4), ('24', 3), (\"12-o'clock\", 3), (\"D'Agostino\", 3), ('41', 3), ('www.springer.com/00266', 3), ('www.umin.ac.jp/ctr', 3), (\"O'Brien-Fleming\", 3)]\n"
     ]
    },
    {
     "data": {
      "text/plain": [
       "{'#': 1,\n",
       " '#CIF': 1,\n",
       " '#ISRCTN': 1,\n",
       " '#KCT': 1,\n",
       " '#NCT': 1,\n",
       " '#NTR': 1,\n",
       " '#RECF': 1,\n",
       " '$': 1,\n",
       " \"'\": 1,\n",
       " \"''\": 1,\n",
       " \"'Em\": 1,\n",
       " \"'M\": 1,\n",
       " \"'S\": 1,\n",
       " \"'d\": 1,\n",
       " \"'s\": 1,\n",
       " '(': 1,\n",
       " ')': 1,\n",
       " '+.58': 1,\n",
       " '+0.010.07': 1,\n",
       " '+0.020.29': 1,\n",
       " '+0.020.45': 1,\n",
       " '+0.050.28': 1,\n",
       " '+0.070.29': 1,\n",
       " '+0.100.04': 1,\n",
       " '+0.11.0': 1,\n",
       " '+0.110.20': 1,\n",
       " '+0.110.30': 1,\n",
       " '+0.140.43': 1,\n",
       " '+0.300.45': 1,\n",
       " '+0.35.8': 1,\n",
       " '+0.472.18': 1,\n",
       " '+0.853.7': 1,\n",
       " '+20.6829.30': 1,\n",
       " '+29.774.1': 1,\n",
       " '+36,800.00': 1,\n",
       " '+5.343.4': 1,\n",
       " '+5.52.0': 1,\n",
       " '+5.864.30': 1,\n",
       " '+8.440.1': 1,\n",
       " ',': 1,\n",
       " '.': 1,\n",
       " '1': 1,\n",
       " '10': 1,\n",
       " '11': 1,\n",
       " '112': 1,\n",
       " '116': 1,\n",
       " \"12-o'clock\": 1,\n",
       " '133': 1,\n",
       " '16': 1,\n",
       " '184': 1,\n",
       " '23': 1,\n",
       " '24': 1,\n",
       " '26': 1,\n",
       " '308': 1,\n",
       " '31': 1,\n",
       " '315': 1,\n",
       " '33': 1,\n",
       " '34': 1,\n",
       " '35': 1,\n",
       " '37': 1,\n",
       " '41': 1,\n",
       " '6': 1,\n",
       " \"6-o'clock\": 1,\n",
       " ':': 1,\n",
       " ':[': 1,\n",
       " '</formula>': 1,\n",
       " '<and>': 1,\n",
       " '<euro>': 1,\n",
       " '<formula>': 1,\n",
       " '<span': 1,\n",
       " '<span>': 1,\n",
       " '>>': 1,\n",
       " '?': 1,\n",
       " 'A$': 1,\n",
       " 'ADJP': 1,\n",
       " 'ADVP': 1,\n",
       " 'AU$': 1,\n",
       " 'AUD$': 1,\n",
       " \"B'More\": 1,\n",
       " 'CC': 1,\n",
       " 'CD': 1,\n",
       " 'CONJP': 1,\n",
       " \"D'Agostino\": 1,\n",
       " \"D'Annunzio\": 1,\n",
       " 'DT': 1,\n",
       " 'EX': 1,\n",
       " 'FRAG': 1,\n",
       " 'FW': 1,\n",
       " \"Fe'Iso\": 1,\n",
       " 'HK$': 1,\n",
       " 'Http://clinicaltrials.gov': 1,\n",
       " 'IN': 1,\n",
       " 'INTJ': 1,\n",
       " 'JJ': 1,\n",
       " 'JJR': 1,\n",
       " 'JJS': 1,\n",
       " 'Jeopardy!': 1,\n",
       " \"L'\": 1,\n",
       " \"L'Aquila\": 1,\n",
       " 'LRB': 1,\n",
       " 'LS': 1,\n",
       " 'LST': 1,\n",
       " 'MD': 1,\n",
       " 'NAC': 1,\n",
       " 'NN': 1,\n",
       " 'NNP': 1,\n",
       " 'NNPS': 1,\n",
       " 'NNS': 1,\n",
       " 'NP': 1,\n",
       " 'NP-TMP': 1,\n",
       " 'NT$': 1,\n",
       " 'NX': 1,\n",
       " 'NZ$': 1,\n",
       " \"O'Brien\": 1,\n",
       " \"O'Brien-Fleming\": 1,\n",
       " \"O'Leary-Sant\": 1,\n",
       " 'PDT': 1,\n",
       " 'POS': 1,\n",
       " 'PP': 1,\n",
       " 'PRN': 1,\n",
       " 'PRP': 1,\n",
       " 'PRP$': 1,\n",
       " 'PRT': 1,\n",
       " \"Pe'CO\": 1,\n",
       " \"Plumpy'Nut\": 1,\n",
       " 'QP': 1,\n",
       " 'R$': 1,\n",
       " 'RB': 1,\n",
       " 'RBR': 1,\n",
       " 'RBS': 1,\n",
       " 'ROOT': 1,\n",
       " 'RP': 1,\n",
       " 'RRB': 1,\n",
       " 'RRC': 1,\n",
       " 'S': 1,\n",
       " 'SBAR': 1,\n",
       " 'SBARQ': 1,\n",
       " 'SINV': 1,\n",
       " 'SQ': 1,\n",
       " 'SYM': 1,\n",
       " 'TO': 1,\n",
       " \"Tai'an\": 1,\n",
       " \"Takla-O'Donnell\": 1,\n",
       " 'UCP': 1,\n",
       " 'UH': 1,\n",
       " 'US$': 1,\n",
       " \"V'Opeak\": 1,\n",
       " 'VB': 1,\n",
       " 'VBD': 1,\n",
       " 'VBG': 1,\n",
       " 'VBN': 1,\n",
       " 'VBP': 1,\n",
       " 'VBZ': 1,\n",
       " 'VP': 1,\n",
       " 'WDT': 1,\n",
       " 'WHADJP': 1,\n",
       " 'WHADVP': 1,\n",
       " 'WHNP': 1,\n",
       " 'WHPP': 1,\n",
       " 'WP': 1,\n",
       " 'WP$': 1,\n",
       " 'WRB': 1,\n",
       " 'X': 1,\n",
       " \"You'an\": 1,\n",
       " '\\\\': 1,\n",
       " '^': 1,\n",
       " '`': 1,\n",
       " '``': 1,\n",
       " \"d'\": 1,\n",
       " \"d'Action\": 1,\n",
       " \"d'Anesthsie\": 1,\n",
       " \"d'Investigation\": 1,\n",
       " \"d'Ivoire\": 1,\n",
       " 'diethylenetriamine?pentaaceticacid': 1,\n",
       " \"l'Anesthsie\": 1,\n",
       " \"l'Ebre\": 1,\n",
       " \"l'Efficacit\": 1,\n",
       " \"l'Enfant\": 1,\n",
       " \"o'clock\": 1,\n",
       " 'style=\"vertical-align:': 1,\n",
       " 'sub\">': 1,\n",
       " 'trials.com/ISRCTN77772144': 1,\n",
       " 'www.anzctr.org.au/trial_view.aspx?ID=343019': 1,\n",
       " 'www.controlled-trials.com/ISRCTN34354086': 1,\n",
       " 'www.controlled-trials.com/ISRCTN42944026': 1,\n",
       " 'www.controlled-trials.com/ISRCTN85410458': 1,\n",
       " 'www.controlled-trials.com/isrctn': 1,\n",
       " 'www.controlled-trials.com/isrctn/': 1,\n",
       " 'www.karger.com/?doi=363175': 1,\n",
       " 'www.springer.com/00266': 1,\n",
       " 'www.trialregister.nl/trialreg/admin/rctview.asp?TC=1576': 1,\n",
       " 'www.trialregister.nl/trialreg/admin/rctview.asp?TC=3288': 1,\n",
       " 'www.umin.ac.jp/ctr': 1,\n",
       " 'www.umin.ac.jp/ctr/': 1}"
      ]
     },
     "execution_count": 106,
     "metadata": {},
     "output_type": "execute_result"
    }
   ],
   "source": [
    "from collections import Counter\n",
    "x = Counter(s)\n",
    "print(x.most_common(100))\n",
    "voc"
   ]
  },
  {
   "cell_type": "code",
   "execution_count": 103,
   "metadata": {
    "collapsed": true
   },
   "outputs": [],
   "source": [
    "df_all.to_csv('input/PubMed_20k_RCT_CONSTPARSE.csv', index=False)"
   ]
  },
  {
   "cell_type": "code",
   "execution_count": 82,
   "metadata": {},
   "outputs": [
    {
     "data": {
      "text/plain": [
       "array([ '( ROOT ( S ( S ( VP ( TO ) ( VP ( VB ) ( NP ( NP ( DT ) ( NN ) ) ( PP ( IN ) ( NP ( NP ( CD ) ( NNS ) ) ( PP ( IN ) ( NP ( JJ ) ( JJ ) ( JJ ) ( NN ) ) ) ) ) ) ( PP ( IN ) ( S ( VP ( VBG ) ( NP ( NP ( NN ) ) ( , ) ( NP ( NN ) ) ( , ) ( CC ) ( NP ( NP ( JJ ) ( JJ ) ( NN ) ) ( PP ( IN ) ( NP ( DT ) ( JJ ) ( NN ) ) ) ) ) ) ) ) ) ) ) ( CC ) ( S ( NP ( IN ) ( DT ) ( NN ) ) ( VP ( MD ) ( VP ( VB ) ( VP ( VBN ) ( PP ( IN ) ( NP ( NP ( CD ) ( NNS ) ) ( PP ( IN ) ( NP ( NP ( JJR ) ( NNS ) ) ( PP ( IN ) ( NP ( NP ( ADJP ( JJ ) ( PP ( TO ) ( NP ( JJ ) ( NN ) ) ) ) ( NN ) ) ( PRN ( ( NP ( NN ) ) ( ) ) ) ) ) ) ) ) ) ) ) ( . ) ) )',\n",
       "       '( ROOT ( S ( S ( NP ( NP ( DT ) ( NN ) ) ( PP ( IN ) ( NP ( NP ( CD ) ( NNS ) ) ( PP ( IN ) ( NP ( JJ ) ( NN ) ( NN ) ) ) ) ) ) ( VP ( VBD ) ( VP ( VBN ) ( NP ( CD ) ) ) ) ) ( ( S ( NP ( CD ) ) ( VP ( VBD ) ( SBAR ( S ( NP ( NP ( CD ) ( NN ) ( PP ( IN ) ( NP ( NP ( NN ) ) ( CC ) ( NP ( CD ) ) ) ) ) ( VP ( VBD ) ( NP ( NN ) ) ( PP ( IN ) ( NP ( CD ) ( NNS ) ) ) ) ) ) ) ) ( . ) ) )',\n",
       "       '( ROOT ( S ( NP ( NN ) ( NNS ) ) ( VP ( VBD ) ( NP ( NN ) ( NN ) ( CC ) ( NN ) ) ( PP ( IN ) ( NP ( NP ( NN ) ( NNS ) ) ( CC ) ( NP ( JJ ) ( NN ) ( NNS ) ) ) ) ) ( . ) ) )',\n",
       "       ...,\n",
       "       '( ROOT ( S ( NP ( EX ) ) ( VP ( VBD ) ( NP ( NP ( DT ) ( JJ ) ( NN ) ) ( PP ( IN ) ( NP ( NN ) ( CC ) ( NN ) ( NNS ) ) ) ) ( PP ( IN ) ( NP ( NN ) ( CD ) ) ) ) ( . ) ) )',\n",
       "       '( ROOT ( S ( NP ( DT ) ( JJ ) ( NNS ) ) ( VP ( VBD ) ( VP ( VBN ) ) ) ( . ) ) )',\n",
       "       '( ROOT ( S ( S ( VP ( VBG ) ( NP ( NP ( DT ) ( JJ ) ( JJ ) ( NN ) ) ( PP ( IN ) ( NP ( NP ( JJ ) ( JJ ) ( NNS ) ) ( , ) ( PP ( VBN ) ( PP ( TO ) ( NP ( NP ( DT ) ( VBN ) ( CD ) ( NNS ) ) ( PP ( IN ) ( NP ( NN ) ) ) ) ) ) ( , ) ) ) ) ) ) ( VP ( VBD ) ( RB ) ( VP ( VB ) ( PP ( TO ) ( NP ( NP ( JJR ) ( NN ) ) ( PP ( IN ) ( NP ( NNS ) ) ) ) ) ( PP ( IN ) ( NP ( JJ ) ( NN ) ( NN ) ) ) ( , ) ( PP ( VBN ) ( PP ( IN ) ( NP ( NP ( NN ) ) ( CC ) ( NP ( NNP ) ( NNS ) ) ) ) ) ) ) ( . ) ) )'], dtype=object)"
      ]
     },
     "execution_count": 82,
     "metadata": {},
     "output_type": "execute_result"
    }
   ],
   "source": [
    "df_all.deptree2.values"
   ]
  }
 ],
 "metadata": {
  "kernelspec": {
   "display_name": "Python 3",
   "language": "python",
   "name": "python3"
  },
  "language_info": {
   "codemirror_mode": {
    "name": "ipython",
    "version": 3
   },
   "file_extension": ".py",
   "mimetype": "text/x-python",
   "name": "python",
   "nbconvert_exporter": "python",
   "pygments_lexer": "ipython3",
   "version": "3.5.3"
  }
 },
 "nbformat": 4,
 "nbformat_minor": 2
}
