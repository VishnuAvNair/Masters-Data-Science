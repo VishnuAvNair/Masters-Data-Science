{
 "cells": [
  {
   "cell_type": "markdown",
   "metadata": {},
   "source": [
    "# CONV1 with POS TAG (part 1)"
   ]
  },
  {
   "cell_type": "code",
   "execution_count": 1,
   "metadata": {},
   "outputs": [
    {
     "name": "stderr",
     "output_type": "stream",
     "text": [
      "Using TensorFlow backend.\n"
     ]
    }
   ],
   "source": [
    "import numpy as np\n",
    "import pandas as pd\n",
    "import os\n",
    "import gc\n",
    "\n",
    "from keras.preprocessing.text import Tokenizer\n",
    "from keras.preprocessing.sequence import pad_sequences\n",
    "from keras.utils import to_categorical\n",
    "\n",
    "import matplotlib.pyplot as plt\n",
    "%matplotlib inline  "
   ]
  },
  {
   "cell_type": "markdown",
   "metadata": {},
   "source": [
    "## Get Data"
   ]
  },
  {
   "cell_type": "code",
   "execution_count": 2,
   "metadata": {},
   "outputs": [
    {
     "data": {
      "text/html": [
       "<div>\n",
       "<style scoped>\n",
       "    .dataframe tbody tr th:only-of-type {\n",
       "        vertical-align: middle;\n",
       "    }\n",
       "\n",
       "    .dataframe tbody tr th {\n",
       "        vertical-align: top;\n",
       "    }\n",
       "\n",
       "    .dataframe thead th {\n",
       "        text-align: right;\n",
       "    }\n",
       "</style>\n",
       "<table border=\"1\" class=\"dataframe\">\n",
       "  <thead>\n",
       "    <tr style=\"text-align: right;\">\n",
       "      <th></th>\n",
       "      <th>partition</th>\n",
       "      <th>abstract_id</th>\n",
       "      <th>seq</th>\n",
       "      <th>text</th>\n",
       "      <th>label</th>\n",
       "      <th>postaglist</th>\n",
       "    </tr>\n",
       "  </thead>\n",
       "  <tbody>\n",
       "    <tr>\n",
       "      <th>0</th>\n",
       "      <td>train</td>\n",
       "      <td>4293578</td>\n",
       "      <td>0</td>\n",
       "      <td>To investigate the efficacy of 6 weeks of daily low-dose oral prednisolone in improving pain , mobility , and systemic low-grade inflammation in the short term and whether the effect would be sustained at 12 weeks in older adults with moderate to severe knee osteoarthritis ( OA ) .</td>\n",
       "      <td>OBJECTIVE</td>\n",
       "      <td>PART VERB DET NOUN ADP NUM NOUN ADP ADJ ADJ PUNCT NOUN ADJ NOUN ADP VERB NOUN PUNCT NOUN PUNCT CCONJ ADJ ADJ PUNCT NOUN NOUN ADP DET ADJ NOUN CCONJ ADP DET NOUN VERB VERB VERB ADP NUM NOUN ADP ADJ NOUN ADP ADJ ADP ADJ NOUN NOUN PUNCT PROPN PUNCT PUNCT</td>\n",
       "    </tr>\n",
       "    <tr>\n",
       "      <th>1</th>\n",
       "      <td>train</td>\n",
       "      <td>4293578</td>\n",
       "      <td>1</td>\n",
       "      <td>A total of 125 patients with primary knee OA were randomized 1:1 ; 63 received 7.5 mg/day of prednisolone and 62 received placebo for 6 weeks .</td>\n",
       "      <td>METHODS</td>\n",
       "      <td>DET NOUN ADP NUM NOUN ADP ADJ NOUN PROPN VERB VERB NUM PUNCT NUM VERB NUM NOUN SYM NOUN ADP NOUN CCONJ NUM VERB NOUN ADP NUM NOUN PUNCT</td>\n",
       "    </tr>\n",
       "    <tr>\n",
       "      <th>2</th>\n",
       "      <td>train</td>\n",
       "      <td>4293578</td>\n",
       "      <td>2</td>\n",
       "      <td>Outcome measures included pain reduction and improvement in function scores and systemic inflammation markers .</td>\n",
       "      <td>METHODS</td>\n",
       "      <td>PROPN NOUN VERB NOUN NOUN CCONJ NOUN ADP NOUN NOUN CCONJ ADJ NOUN NOUN PUNCT</td>\n",
       "    </tr>\n",
       "    <tr>\n",
       "      <th>3</th>\n",
       "      <td>train</td>\n",
       "      <td>4293578</td>\n",
       "      <td>3</td>\n",
       "      <td>Pain was assessed using the visual analog pain scale ( 0-100 mm ) .</td>\n",
       "      <td>METHODS</td>\n",
       "      <td>PROPN VERB VERB VERB DET ADJ NOUN NOUN NOUN PUNCT NUM SYM NUM NOUN PUNCT PUNCT</td>\n",
       "    </tr>\n",
       "    <tr>\n",
       "      <th>4</th>\n",
       "      <td>train</td>\n",
       "      <td>4293578</td>\n",
       "      <td>4</td>\n",
       "      <td>Secondary outcome measures included the Western Ontario and McMaster Universities Osteoarthritis Index scores , patient global assessment ( PGA ) of the severity of knee OA , and 6-min walk distance ( 6MWD ) .</td>\n",
       "      <td>METHODS</td>\n",
       "      <td>ADJ NOUN NOUN VERB DET PROPN PROPN CCONJ PROPN PROPN PROPN PROPN NOUN PUNCT ADJ ADJ NOUN PUNCT PROPN PUNCT ADP DET NOUN ADP NOUN PROPN PUNCT CCONJ NUM NOUN NOUN PUNCT NOUN PUNCT PUNCT</td>\n",
       "    </tr>\n",
       "  </tbody>\n",
       "</table>\n",
       "</div>"
      ],
      "text/plain": [
       "  partition  abstract_id  seq  \\\n",
       "0     train      4293578    0   \n",
       "1     train      4293578    1   \n",
       "2     train      4293578    2   \n",
       "3     train      4293578    3   \n",
       "4     train      4293578    4   \n",
       "\n",
       "                                                                                                                                                                                                                                                                                         text  \\\n",
       "0  To investigate the efficacy of 6 weeks of daily low-dose oral prednisolone in improving pain , mobility , and systemic low-grade inflammation in the short term and whether the effect would be sustained at 12 weeks in older adults with moderate to severe knee osteoarthritis ( OA ) .   \n",
       "1                                                                                                                                             A total of 125 patients with primary knee OA were randomized 1:1 ; 63 received 7.5 mg/day of prednisolone and 62 received placebo for 6 weeks .   \n",
       "2                                                                                                                                                                             Outcome measures included pain reduction and improvement in function scores and systemic inflammation markers .   \n",
       "3                                                                                                                                                                                                                         Pain was assessed using the visual analog pain scale ( 0-100 mm ) .   \n",
       "4                                                                           Secondary outcome measures included the Western Ontario and McMaster Universities Osteoarthritis Index scores , patient global assessment ( PGA ) of the severity of knee OA , and 6-min walk distance ( 6MWD ) .   \n",
       "\n",
       "       label  \\\n",
       "0  OBJECTIVE   \n",
       "1    METHODS   \n",
       "2    METHODS   \n",
       "3    METHODS   \n",
       "4    METHODS   \n",
       "\n",
       "                                                                                                                                                                                                                                                    postaglist  \n",
       "0  PART VERB DET NOUN ADP NUM NOUN ADP ADJ ADJ PUNCT NOUN ADJ NOUN ADP VERB NOUN PUNCT NOUN PUNCT CCONJ ADJ ADJ PUNCT NOUN NOUN ADP DET ADJ NOUN CCONJ ADP DET NOUN VERB VERB VERB ADP NUM NOUN ADP ADJ NOUN ADP ADJ ADP ADJ NOUN NOUN PUNCT PROPN PUNCT PUNCT  \n",
       "1                                                                                                                      DET NOUN ADP NUM NOUN ADP ADJ NOUN PROPN VERB VERB NUM PUNCT NUM VERB NUM NOUN SYM NOUN ADP NOUN CCONJ NUM VERB NOUN ADP NUM NOUN PUNCT  \n",
       "2                                                                                                                                                                                 PROPN NOUN VERB NOUN NOUN CCONJ NOUN ADP NOUN NOUN CCONJ ADJ NOUN NOUN PUNCT  \n",
       "3                                                                                                                                                                               PROPN VERB VERB VERB DET ADJ NOUN NOUN NOUN PUNCT NUM SYM NUM NOUN PUNCT PUNCT  \n",
       "4                                                                      ADJ NOUN NOUN VERB DET PROPN PROPN CCONJ PROPN PROPN PROPN PROPN NOUN PUNCT ADJ ADJ NOUN PUNCT PROPN PUNCT ADP DET NOUN ADP NOUN PROPN PUNCT CCONJ NUM NOUN NOUN PUNCT NOUN PUNCT PUNCT  "
      ]
     },
     "execution_count": 2,
     "metadata": {},
     "output_type": "execute_result"
    }
   ],
   "source": [
    "# file PubMed_20k_RCT.csv created by script01_create_single_dataset\n",
    "df_all = pd.read_csv('input/PubMed_20k_RCT_POS_TAG.csv')\n",
    "df_train = df_all[df_all['partition']=='train']\n",
    "df_valid = df_all[df_all['partition']=='dev']\n",
    "df_test = df_all[df_all['partition']=='test']\n",
    "pd.set_option('max_colwidth',500)\n",
    "df_all.head()"
   ]
  },
  {
   "cell_type": "code",
   "execution_count": 3,
   "metadata": {},
   "outputs": [
    {
     "name": "stdout",
     "output_type": "stream",
     "text": [
      "Train partition size: 180040\n",
      "Valid partition size: 30212\n",
      "Test partition size: 30135\n",
      "Total dataset size: 240387\n"
     ]
    }
   ],
   "source": [
    "X_train_cnt = df_train.shape[0]\n",
    "X_valid_cnt = df_valid.shape[0]\n",
    "X_test_cnt = df_test.shape[0]\n",
    "\n",
    "X_all = df_all.postaglist.values\n",
    "\n",
    "print('Train partition size: {}'.format(X_train_cnt))\n",
    "print('Valid partition size: {}'.format(X_valid_cnt))\n",
    "print('Test partition size: {}'.format(X_test_cnt))\n",
    "print('Total dataset size: {}'.format(X_all.shape[0]))"
   ]
  },
  {
   "cell_type": "markdown",
   "metadata": {},
   "source": [
    "## Create token sequences"
   ]
  },
  {
   "cell_type": "code",
   "execution_count": 4,
   "metadata": {},
   "outputs": [
    {
     "name": "stdout",
     "output_type": "stream",
     "text": [
      "Vocabulary size = 15\n",
      "CPU times: user 10 s, sys: 56.9 ms, total: 10.1 s\n",
      "Wall time: 10.1 s\n"
     ]
    }
   ],
   "source": [
    "%%time\n",
    "\n",
    "# reduce vocabulary size to make problem manageable for available computing resources\n",
    "#SEQ_VOC = 50000\n",
    "#print('Number of tokens for sequences = {}'.format(SEQ_VOC))\n",
    "\n",
    "#tokenizer = Tokenizer(num_words=VOC_SIZE, filters='!\"*,./:;?@\\`|')\n",
    "tokenizer = Tokenizer()\n",
    "tokenizer.fit_on_texts(X_all)\n",
    "sequences = tokenizer.texts_to_sequences(X_all)\n",
    "\n",
    "word_index = tokenizer.word_index\n",
    "VOC_SIZE = len(word_index)\n",
    "print('Vocabulary size = {}'.format(VOC_SIZE))"
   ]
  },
  {
   "cell_type": "code",
   "execution_count": 5,
   "metadata": {},
   "outputs": [
    {
     "data": {
      "text/plain": [
       "{'adj': 5,\n",
       " 'adp': 3,\n",
       " 'adv': 10,\n",
       " 'cconj': 9,\n",
       " 'det': 7,\n",
       " 'intj': 15,\n",
       " 'noun': 1,\n",
       " 'num': 6,\n",
       " 'part': 12,\n",
       " 'pron': 14,\n",
       " 'propn': 8,\n",
       " 'punct': 2,\n",
       " 'sym': 11,\n",
       " 'verb': 4,\n",
       " 'x': 13}"
      ]
     },
     "execution_count": 5,
     "metadata": {},
     "output_type": "execute_result"
    }
   ],
   "source": [
    "word_index"
   ]
  },
  {
   "cell_type": "code",
   "execution_count": 6,
   "metadata": {},
   "outputs": [
    {
     "data": {
      "image/png": "[encoded data removed]",
      "text/plain": [
       "<matplotlib.figure.Figure at 0x10e658eb8>"
      ]
     },
     "metadata": {},
     "output_type": "display_data"
    }
   ],
   "source": [
    "seq_len = [len(seq) for seq in sequences]\n",
    "fig, axes = plt.subplots(nrows=1, ncols=2, figsize=(15, 4))\n",
    "axes[0].boxplot(seq_len)\n",
    "axes[1].hist(seq_len, bins=100)\n",
    "plt.show()"
   ]
  },
  {
   "cell_type": "code",
   "execution_count": 7,
   "metadata": {},
   "outputs": [
    {
     "name": "stdout",
     "output_type": "stream",
     "text": [
      "(240387, 120)\n"
     ]
    }
   ],
   "source": [
    "MAX_SEQ_LEN = 120\n",
    "X_token_seq_all = pad_sequences(sequences, maxlen=MAX_SEQ_LEN, dtype='int32', padding='pre', truncating='post', value=0)\n",
    "print(X_token_seq_all.shape)"
   ]
  },
  {
   "cell_type": "markdown",
   "metadata": {},
   "source": [
    "## Vectorize output labels"
   ]
  },
  {
   "cell_type": "code",
   "execution_count": 8,
   "metadata": {},
   "outputs": [
    {
     "name": "stdout",
     "output_type": "stream",
     "text": [
      "CPU times: user 2.03 s, sys: 59.5 ms, total: 2.09 s\n",
      "Wall time: 2.1 s\n"
     ]
    }
   ],
   "source": [
    "%%time\n",
    "\n",
    "labels = df_all.label.values\n",
    "label_dict = {label: no for no, label in enumerate(set(labels))}\n",
    "number_of_classes = len(label_dict)\n",
    "\n",
    "# get labels as integers\n",
    "y_all = [label_dict[label] for label in labels]\n",
    "\n",
    "# change y to categorical (vectorize output)\n",
    "y_all = np.array([to_categorical(i, num_classes=number_of_classes) for i in y_all])"
   ]
  },
  {
   "cell_type": "markdown",
   "metadata": {},
   "source": [
    "## Onehot encode POS TAG labels"
   ]
  },
  {
   "cell_type": "code",
   "execution_count": 9,
   "metadata": {},
   "outputs": [
    {
     "name": "stdout",
     "output_type": "stream",
     "text": [
      "(240387, 120)\n"
     ]
    },
    {
     "data": {
      "text/plain": [
       "array([[0, 0, 0, ..., 8, 2, 2],\n",
       "       [0, 0, 0, ..., 6, 1, 2],\n",
       "       [0, 0, 0, ..., 1, 1, 2],\n",
       "       ..., \n",
       "       [0, 0, 0, ..., 1, 6, 2],\n",
       "       [0, 0, 0, ..., 4, 4, 2],\n",
       "       [0, 0, 0, ..., 8, 1, 2]], dtype=int32)"
      ]
     },
     "execution_count": 9,
     "metadata": {},
     "output_type": "execute_result"
    }
   ],
   "source": [
    "print(X_token_seq_all.shape)\n",
    "X_token_seq_all"
   ]
  },
  {
   "cell_type": "code",
   "execution_count": 10,
   "metadata": {},
   "outputs": [
    {
     "name": "stdout",
     "output_type": "stream",
     "text": [
      "(240387, 1800)\n",
      "(240387, 1800)\n",
      "CPU times: user 2min 10s, sys: 2.15 s, total: 2min 12s\n",
      "Wall time: 2min 17s\n"
     ]
    }
   ],
   "source": [
    "%%time\n",
    "\n",
    "EMBEDDING_DIM = VOC_SIZE\n",
    "\n",
    "def get_vector(token):\n",
    "    vector = np.zeros(EMBEDDING_DIM)\n",
    "    if token != 0:\n",
    "        vector[token-1] = 1\n",
    "    return vector\n",
    "\n",
    "X_token_seq_all_v = np.zeros((X_token_seq_all.shape[0], X_token_seq_all.shape[1] * EMBEDDING_DIM))\n",
    "print(X_token_seq_all_v.shape)\n",
    "i = 0\n",
    "for token_seq in X_token_seq_all:\n",
    "    X_token_seq_all_v[i] = np.array([get_vector(token) for token in token_seq]).flatten()\n",
    "    i += 1\n",
    "    \n",
    "print(X_token_seq_all_v.shape)"
   ]
  },
  {
   "cell_type": "code",
   "execution_count": 11,
   "metadata": {},
   "outputs": [
    {
     "name": "stdout",
     "output_type": "stream",
     "text": [
      "_________________________________________________________________\n",
      "Layer (type)                 Output Shape              Param #   \n",
      "=================================================================\n",
      "input_1 (InputLayer)         (None, 120, 15)           0         \n",
      "_________________________________________________________________\n",
      "conv1d_1 (Conv1D)            (None, 116, 64)           4864      \n",
      "_________________________________________________________________\n",
      "conv1d_2 (Conv1D)            (None, 112, 64)           20544     \n",
      "_________________________________________________________________\n",
      "max_pooling1d_1 (MaxPooling1 (None, 22, 64)            0         \n",
      "_________________________________________________________________\n",
      "conv1d_3 (Conv1D)            (None, 18, 128)           41088     \n",
      "_________________________________________________________________\n",
      "conv1d_4 (Conv1D)            (None, 14, 128)           82048     \n",
      "_________________________________________________________________\n",
      "global_average_pooling1d_1 ( (None, 128)               0         \n",
      "_________________________________________________________________\n",
      "dropout_1 (Dropout)          (None, 128)               0         \n",
      "_________________________________________________________________\n",
      "sentence_vector_1 (Dense)    (None, 100)               12900     \n",
      "_________________________________________________________________\n",
      "dropout_2 (Dropout)          (None, 100)               0         \n",
      "_________________________________________________________________\n",
      "dense_1 (Dense)              (None, 5)                 505       \n",
      "=================================================================\n",
      "Total params: 161,949\n",
      "Trainable params: 161,949\n",
      "Non-trainable params: 0\n",
      "_________________________________________________________________\n",
      "Train on 180040 samples, validate on 30212 samples\n",
      "Epoch 1/20\n",
      "180040/180040 [==============================] - 386s 2ms/step - loss: 1.1249 - acc: 0.5252 - val_loss: 0.9131 - val_acc: 0.6431\n",
      "Epoch 2/20\n",
      "180040/180040 [==============================] - 351s 2ms/step - loss: 0.9290 - acc: 0.6385 - val_loss: 0.8636 - val_acc: 0.6651\n",
      "Epoch 3/20\n",
      "180040/180040 [==============================] - 305s 2ms/step - loss: 0.8859 - acc: 0.6593 - val_loss: 0.8286 - val_acc: 0.6790\n",
      "Epoch 4/20\n",
      "180040/180040 [==============================] - 313s 2ms/step - loss: 0.8578 - acc: 0.6710 - val_loss: 0.8177 - val_acc: 0.6822\n",
      "Epoch 5/20\n",
      "180040/180040 [==============================] - 313s 2ms/step - loss: 0.8377 - acc: 0.6811 - val_loss: 0.8069 - val_acc: 0.6896\n",
      "Epoch 6/20\n",
      "180040/180040 [==============================] - 310s 2ms/step - loss: 0.8224 - acc: 0.6875 - val_loss: 0.8062 - val_acc: 0.6902\n",
      "Epoch 7/20\n",
      "180040/180040 [==============================] - 312s 2ms/step - loss: 0.8082 - acc: 0.6919 - val_loss: 0.8137 - val_acc: 0.6846\n",
      "CPU times: user 1h 11min 18s, sys: 9min 33s, total: 1h 20min 51s\n",
      "Wall time: 38min 15s\n"
     ]
    }
   ],
   "source": [
    "%%time\n",
    "\n",
    "# implementing 1D convolution ann as decribed in Keras tutorial\n",
    "# https://keras.io/getting-started/sequential-model-guide/\n",
    "\n",
    "from keras.models import Model\n",
    "from keras.layers import Conv1D, Input, Flatten, Dropout, Dense, MaxPooling1D, GlobalAveragePooling1D\n",
    "from keras.callbacks import EarlyStopping\n",
    "\n",
    "# reshape input to apply convolution\n",
    "KERNEL_SIZE = 5\n",
    "\n",
    "X_seq_input = X_token_seq_all_v.reshape(X_token_seq_all_v.shape[0], MAX_SEQ_LEN, EMBEDDING_DIM)\n",
    "\n",
    "postags = Input(shape=(MAX_SEQ_LEN, EMBEDDING_DIM), dtype='float32')\n",
    "C1 = Conv1D(64, KERNEL_SIZE, activation='relu')(postags)\n",
    "C1 = Conv1D(64, KERNEL_SIZE, activation='relu')(C1)\n",
    "C1 = MaxPooling1D(KERNEL_SIZE)(C1)\n",
    "C1 = Conv1D(128, KERNEL_SIZE, activation='relu')(C1)\n",
    "C1 = Conv1D(128, KERNEL_SIZE, activation='relu')(C1)\n",
    "C1 = GlobalAveragePooling1D()(C1)\n",
    "C1 = Dropout(0.5)(C1)\n",
    "C1 = Dense(100, activation='relu', name='sentence_vector_1')(C1)\n",
    "C1 = Dropout(0.5)(C1)\n",
    "preds = Dense(5, activation='softmax')(C1)\n",
    "\n",
    "model = Model(postags, preds)\n",
    "model.compile(loss='categorical_crossentropy',\n",
    "              optimizer='adam',\n",
    "              metrics=['accuracy'])\n",
    "\n",
    "model.summary()\n",
    "\n",
    "# learn\n",
    "model.fit(X_seq_input[:X_train_cnt], y_all[:X_train_cnt], \\\n",
    "          validation_data=(X_seq_input[X_train_cnt:(X_train_cnt+X_valid_cnt)], \\\n",
    "                                 y_all[X_train_cnt:(X_train_cnt+X_valid_cnt)]), \\\n",
    "          callbacks=[EarlyStopping(patience=1, monitor='val_loss')], \\\n",
    "          verbose=1, epochs=20, batch_size=256)\n",
    "\n",
    "model1 = model"
   ]
  },
  {
   "cell_type": "code",
   "execution_count": 12,
   "metadata": {},
   "outputs": [
    {
     "name": "stdout",
     "output_type": "stream",
     "text": [
      "_________________________________________________________________\n",
      "Layer (type)                 Output Shape              Param #   \n",
      "=================================================================\n",
      "input_2 (InputLayer)         (None, 120, 15)           0         \n",
      "_________________________________________________________________\n",
      "conv1d_5 (Conv1D)            (None, 118, 64)           2944      \n",
      "_________________________________________________________________\n",
      "conv1d_6 (Conv1D)            (None, 116, 64)           12352     \n",
      "_________________________________________________________________\n",
      "max_pooling1d_2 (MaxPooling1 (None, 38, 64)            0         \n",
      "_________________________________________________________________\n",
      "conv1d_7 (Conv1D)            (None, 36, 128)           24704     \n",
      "_________________________________________________________________\n",
      "conv1d_8 (Conv1D)            (None, 34, 128)           49280     \n",
      "_________________________________________________________________\n",
      "global_average_pooling1d_2 ( (None, 128)               0         \n",
      "_________________________________________________________________\n",
      "dropout_3 (Dropout)          (None, 128)               0         \n",
      "_________________________________________________________________\n",
      "sentence_vector_1 (Dense)    (None, 100)               12900     \n",
      "_________________________________________________________________\n",
      "dropout_4 (Dropout)          (None, 100)               0         \n",
      "_________________________________________________________________\n",
      "dense_2 (Dense)              (None, 5)                 505       \n",
      "=================================================================\n",
      "Total params: 102,685\n",
      "Trainable params: 102,685\n",
      "Non-trainable params: 0\n",
      "_________________________________________________________________\n",
      "Train on 180040 samples, validate on 30212 samples\n",
      "Epoch 1/20\n",
      "180040/180040 [==============================] - 291s 2ms/step - loss: 1.1540 - acc: 0.5062 - val_loss: 0.9326 - val_acc: 0.6353\n",
      "Epoch 2/20\n",
      "180040/180040 [==============================] - 290s 2ms/step - loss: 0.9552 - acc: 0.6258 - val_loss: 0.8833 - val_acc: 0.6582\n",
      "Epoch 3/20\n",
      "180040/180040 [==============================] - 284s 2ms/step - loss: 0.9121 - acc: 0.6462 - val_loss: 0.8498 - val_acc: 0.6715\n",
      "Epoch 4/20\n",
      "180040/180040 [==============================] - 288s 2ms/step - loss: 0.8864 - acc: 0.6575 - val_loss: 0.8317 - val_acc: 0.6778\n",
      "Epoch 5/20\n",
      "180040/180040 [==============================] - 285s 2ms/step - loss: 0.8707 - acc: 0.6646 - val_loss: 0.8211 - val_acc: 0.6834\n",
      "Epoch 6/20\n",
      "180040/180040 [==============================] - 286s 2ms/step - loss: 0.8555 - acc: 0.6725 - val_loss: 0.8116 - val_acc: 0.6869\n",
      "Epoch 7/20\n",
      "180040/180040 [==============================] - 370s 2ms/step - loss: 0.8427 - acc: 0.6788 - val_loss: 0.8045 - val_acc: 0.6895\n",
      "Epoch 8/20\n",
      "180040/180040 [==============================] - 376s 2ms/step - loss: 0.8343 - acc: 0.6817 - val_loss: 0.7996 - val_acc: 0.6876\n",
      "Epoch 9/20\n",
      "180040/180040 [==============================] - 378s 2ms/step - loss: 0.8239 - acc: 0.6852 - val_loss: 0.8008 - val_acc: 0.6902\n",
      "CPU times: user 1h 31min 13s, sys: 11min 7s, total: 1h 42min 21s\n",
      "Wall time: 47min 35s\n"
     ]
    }
   ],
   "source": [
    "%%time\n",
    "\n",
    "# implementing 1D convolution ann as decribed in Keras tutorial\n",
    "# https://keras.io/getting-started/sequential-model-guide/\n",
    "\n",
    "from keras.models import Model\n",
    "from keras.layers import Conv1D, Input, Flatten, Dropout, Dense, MaxPooling1D, GlobalAveragePooling1D\n",
    "from keras.callbacks import EarlyStopping\n",
    "\n",
    "# reshape input to apply convolution\n",
    "KERNEL_SIZE = 3\n",
    "\n",
    "X_seq_input = X_token_seq_all_v.reshape(X_token_seq_all_v.shape[0], MAX_SEQ_LEN, EMBEDDING_DIM)\n",
    "\n",
    "postags = Input(shape=(MAX_SEQ_LEN, EMBEDDING_DIM), dtype='float32')\n",
    "C1 = Conv1D(64, KERNEL_SIZE, activation='relu')(postags)\n",
    "C1 = Conv1D(64, KERNEL_SIZE, activation='relu')(C1)\n",
    "C1 = MaxPooling1D(KERNEL_SIZE)(C1)\n",
    "C1 = Conv1D(128, KERNEL_SIZE, activation='relu')(C1)\n",
    "C1 = Conv1D(128, KERNEL_SIZE, activation='relu')(C1)\n",
    "C1 = GlobalAveragePooling1D()(C1)\n",
    "C1 = Dropout(0.5)(C1)\n",
    "C1 = Dense(100, activation='relu', name='sentence_vector_1')(C1)\n",
    "C1 = Dropout(0.5)(C1)\n",
    "preds = Dense(5, activation='softmax')(C1)\n",
    "\n",
    "model = Model(postags, preds)\n",
    "model.compile(loss='categorical_crossentropy',\n",
    "              optimizer='adam',\n",
    "              metrics=['accuracy'])\n",
    "\n",
    "model.summary()\n",
    "\n",
    "# learn\n",
    "model.fit(X_seq_input[:X_train_cnt], y_all[:X_train_cnt], \\\n",
    "          validation_data=(X_seq_input[X_train_cnt:(X_train_cnt+X_valid_cnt)], \\\n",
    "                                 y_all[X_train_cnt:(X_train_cnt+X_valid_cnt)]), \\\n",
    "          callbacks=[EarlyStopping(patience=1, monitor='val_loss')], \\\n",
    "          verbose=1, epochs=20, batch_size=256)\n",
    "\n",
    "model2 = model"
   ]
  },
  {
   "cell_type": "code",
   "execution_count": 14,
   "metadata": {},
   "outputs": [
    {
     "name": "stdout",
     "output_type": "stream",
     "text": [
      "_________________________________________________________________\n",
      "Layer (type)                 Output Shape              Param #   \n",
      "=================================================================\n",
      "input_3 (InputLayer)         (None, 120, 15)           0         \n",
      "_________________________________________________________________\n",
      "conv1d_9 (Conv1D)            (None, 119, 64)           1984      \n",
      "_________________________________________________________________\n",
      "conv1d_10 (Conv1D)           (None, 118, 64)           8256      \n",
      "_________________________________________________________________\n",
      "max_pooling1d_3 (MaxPooling1 (None, 59, 64)            0         \n",
      "_________________________________________________________________\n",
      "conv1d_11 (Conv1D)           (None, 58, 128)           16512     \n",
      "_________________________________________________________________\n",
      "conv1d_12 (Conv1D)           (None, 57, 128)           32896     \n",
      "_________________________________________________________________\n",
      "global_average_pooling1d_3 ( (None, 128)               0         \n",
      "_________________________________________________________________\n",
      "dropout_5 (Dropout)          (None, 128)               0         \n",
      "_________________________________________________________________\n",
      "sentence_vector_1 (Dense)    (None, 100)               12900     \n",
      "_________________________________________________________________\n",
      "dropout_6 (Dropout)          (None, 100)               0         \n",
      "_________________________________________________________________\n",
      "dense_3 (Dense)              (None, 5)                 505       \n",
      "=================================================================\n",
      "Total params: 73,053\n",
      "Trainable params: 73,053\n",
      "Non-trainable params: 0\n",
      "_________________________________________________________________\n",
      "Train on 180040 samples, validate on 30212 samples\n",
      "Epoch 1/20\n",
      "180040/180040 [==============================] - 273s 2ms/step - loss: 1.1833 - acc: 0.4947 - val_loss: 0.9951 - val_acc: 0.6006\n",
      "Epoch 2/20\n",
      "180040/180040 [==============================] - 263s 1ms/step - loss: 0.9886 - acc: 0.6079 - val_loss: 0.9263 - val_acc: 0.6322\n",
      "Epoch 3/20\n",
      "180040/180040 [==============================] - 264s 1ms/step - loss: 0.9312 - acc: 0.6375 - val_loss: 0.8714 - val_acc: 0.6644\n",
      "Epoch 4/20\n",
      "180040/180040 [==============================] - 290s 2ms/step - loss: 0.9076 - acc: 0.6507 - val_loss: 0.8454 - val_acc: 0.6760\n",
      "Epoch 5/20\n",
      "180040/180040 [==============================] - 283s 2ms/step - loss: 0.8902 - acc: 0.6567 - val_loss: 0.8385 - val_acc: 0.6783\n",
      "Epoch 6/20\n",
      "180040/180040 [==============================] - 258s 1ms/step - loss: 0.8762 - acc: 0.6635 - val_loss: 0.8427 - val_acc: 0.6714\n",
      "CPU times: user 57min 3s, sys: 6min 4s, total: 1h 3min 8s\n",
      "Wall time: 27min 17s\n"
     ]
    }
   ],
   "source": [
    "%%time\n",
    "\n",
    "# implementing 1D convolution ann as decribed in Keras tutorial\n",
    "# https://keras.io/getting-started/sequential-model-guide/\n",
    "\n",
    "from keras.models import Model\n",
    "from keras.layers import Conv1D, Input, Flatten, Dropout, Dense, MaxPooling1D, GlobalAveragePooling1D\n",
    "from keras.callbacks import EarlyStopping\n",
    "\n",
    "# reshape input to apply convolution\n",
    "KERNEL_SIZE = 2\n",
    "\n",
    "X_seq_input = X_token_seq_all_v.reshape(X_token_seq_all_v.shape[0], MAX_SEQ_LEN, EMBEDDING_DIM)\n",
    "\n",
    "postags = Input(shape=(MAX_SEQ_LEN, EMBEDDING_DIM), dtype='float32')\n",
    "C1 = Conv1D(64, KERNEL_SIZE, activation='relu')(postags)\n",
    "C1 = Conv1D(64, KERNEL_SIZE, activation='relu')(C1)\n",
    "C1 = MaxPooling1D(KERNEL_SIZE)(C1)\n",
    "C1 = Conv1D(128, KERNEL_SIZE, activation='relu')(C1)\n",
    "C1 = Conv1D(128, KERNEL_SIZE, activation='relu')(C1)\n",
    "C1 = GlobalAveragePooling1D()(C1)\n",
    "C1 = Dropout(0.5)(C1)\n",
    "C1 = Dense(100, activation='relu', name='sentence_vector_1')(C1)\n",
    "C1 = Dropout(0.5)(C1)\n",
    "preds = Dense(5, activation='softmax')(C1)\n",
    "\n",
    "model = Model(postags, preds)\n",
    "model.compile(loss='categorical_crossentropy',\n",
    "              optimizer='adam',\n",
    "              metrics=['accuracy'])\n",
    "\n",
    "model.summary()\n",
    "\n",
    "# learn\n",
    "model.fit(X_seq_input[:X_train_cnt], y_all[:X_train_cnt], \\\n",
    "          validation_data=(X_seq_input[X_train_cnt:(X_train_cnt+X_valid_cnt)], \\\n",
    "                                 y_all[X_train_cnt:(X_train_cnt+X_valid_cnt)]), \\\n",
    "          callbacks=[EarlyStopping(patience=1, monitor='val_loss')], \\\n",
    "          verbose=1, epochs=20, batch_size=256)\n",
    "\n",
    "model3 = model"
   ]
  },
  {
   "cell_type": "markdown",
   "metadata": {
    "collapsed": true
   },
   "source": [
    "## Save model"
   ]
  },
  {
   "cell_type": "code",
   "execution_count": 15,
   "metadata": {
    "collapsed": true
   },
   "outputs": [],
   "source": [
    "model1.save('input/Extension_Part1_CONV1_POS_TAG1.h5')\n",
    "model2.save('input/Extension_Part1_CONV1_POS_TAG2.h5')\n",
    "model3.save('input/Extension_Part1_CONV1_POS_TAG3.h5')"
   ]
  },
  {
   "cell_type": "code",
   "execution_count": null,
   "metadata": {
    "collapsed": true
   },
   "outputs": [],
   "source": []
  }
 ],
 "metadata": {
  "kernelspec": {
   "display_name": "Python 3",
   "language": "python",
   "name": "python3"
  },
  "language_info": {
   "codemirror_mode": {
    "name": "ipython",
    "version": 3
   },
   "file_extension": ".py",
   "mimetype": "text/x-python",
   "name": "python",
   "nbconvert_exporter": "python",
   "pygments_lexer": "ipython3",
   "version": "3.5.3"
  }
 },
 "nbformat": 4,
 "nbformat_minor": 2
}
