{
 "cells": [
  {
   "cell_type": "markdown",
   "metadata": {},
   "source": [
    "# L665 ML for NLPSpring 2018 \n",
    "\n",
    "## Assignment 2 - Task 1 \n",
    "\n",
    "Author: Carlos Sathler"
   ]
  },
  {
   "cell_type": "code",
   "execution_count": 1,
   "metadata": {},
   "outputs": [
    {
     "name": "stderr",
     "output_type": "stream",
     "text": [
      "Using TensorFlow backend.\n"
     ]
    },
    {
     "name": "stdout",
     "output_type": "stream",
     "text": [
      "[nltk_data] Downloading package brown to /Users/carlos2/nltk_data...\n",
      "[nltk_data]   Package brown is already up-to-date!\n",
      "[nltk_data] Downloading package universal_tagset to\n",
      "[nltk_data]     /Users/carlos2/nltk_data...\n",
      "[nltk_data]   Package universal_tagset is already up-to-date!\n"
     ]
    },
    {
     "data": {
      "text/plain": [
       "True"
      ]
     },
     "execution_count": 1,
     "metadata": {},
     "output_type": "execute_result"
    }
   ],
   "source": [
    "import numpy as np\n",
    "import nltk\n",
    "\n",
    "import matplotlib.pyplot as plt\n",
    "%matplotlib inline  \n",
    "\n",
    "from keras.preprocessing.sequence import pad_sequences\n",
    "from keras.utils import to_categorical\n",
    "from keras.models import Model, Input\n",
    "from keras.layers import LSTM, Embedding, Dense, TimeDistributed, Dropout, Bidirectional\n",
    "from keras.callbacks import EarlyStopping\n",
    "\n",
    "from sklearn.model_selection import train_test_split\n",
    "from sklearn.metrics import accuracy_score\n",
    "\n",
    "from nltk.corpus import brown\n",
    "nltk.download('brown')\n",
    "nltk.download('universal_tagset')"
   ]
  },
  {
   "cell_type": "code",
   "execution_count": 2,
   "metadata": {},
   "outputs": [
    {
     "name": "stdout",
     "output_type": "stream",
     "text": [
      "CPU times: user 10.6 s, sys: 482 ms, total: 11.1 s\n",
      "Wall time: 11.4 s\n"
     ]
    }
   ],
   "source": [
    "%%time\n",
    "\n",
    "# create lists of tokens and tags from corpora\n",
    "# add UNK to map unknown tag values, PAD to pad sequences for RNN\n",
    "tokens, tags = zip(*brown.tagged_words())\n",
    "tokens = list(tokens)\n",
    "tokens.append('PAD')\n",
    "tags = list(tags)\n",
    "tags.append('PAD')\n",
    "\n",
    "# create token embedding dictionary and inverse dictionary\n",
    "token_dict = {token: no for no, token in enumerate(set(tokens))}\n",
    "token_dict_inv = {no: token for token, no in token_dict.items()}\n",
    "\n",
    "# create tag embedding dictionary and inverse dictionary\n",
    "tag_dict = {tag: no for no, tag in enumerate(set(tags))}\n",
    "tag_dict_inv = {no: tag for tag, no in tag_dict.items()}\n",
    "\n",
    "# Create dictionary with sentence number as key, \n",
    "# and tuple with lists of token, token numbers, tags, tag numbers  \n",
    "\n",
    "sents = {}\n",
    "start = 0\n",
    "for sent_no, token_list in enumerate(brown.sents()):\n",
    "    end = start + len(token_list)\n",
    "    # get tags for this sentence, and then embedding\n",
    "    sent_tokens = tokens[start: end]\n",
    "    token_nos   = [token_dict[token] for token in sent_tokens]\n",
    "    sent_tags   = tags[start: end]\n",
    "    tag_nos     = [tag_dict[tag] for tag in sent_tags]\n",
    "    sents[sent_no] = (tokens, token_nos, tags, tag_nos)\n",
    "    start = end\n",
    "\n",
    "# determine len of longer sentence\n",
    "token_seqs = [sents[1][1] for sents in sents.items()]\n",
    "tag_seqs = [sents[1][3] for sents in sents.items()]"
   ]
  },
  {
   "cell_type": "code",
   "execution_count": 3,
   "metadata": {},
   "outputs": [
    {
     "name": "stdout",
     "output_type": "stream",
     "text": [
      "Number of pos tags: 473\n",
      "\n",
      "List of tags: dict_values(['OD', 'UH-HL', 'WDT+BER+PP', 'NP+BEZ', 'PN+MD', 'NN+IN', 'PPL-NC', 'NPS$-HL', '*-HL', 'PPS-NC', 'MD+PPSS', 'PPS+BEZ-NC', 'JJ', 'FW-PPSS', 'NN-TL', 'CS-HL', 'NR-HL', 'RP', 'WRB+BEZ-TL', ',-HL', 'WRB+IN', 'UH-TL', 'FW-PPL+VBZ', 'NNS', 'FW-NPS-TL', 'VBD', 'NP-HL', 'NN$', 'FW-DT', 'QL-HL', 'QLP', 'BEDZ', 'AP-NC', 'EX-NC', 'NNS+MD', 'PPSS-TL', 'VBN+TO', 'RP-TL', 'DO-TL', 'FW-OD-NC', 'RN', 'DOZ-HL', 'WDT-HL', 'WRB+MD', 'FW-NN-TL', '*', 'JJS-HL', 'NNS-TL-NC', 'NNS$-HL', 'DT-TL', ')-HL', ',-TL', 'ABN-TL', 'NNS$', 'NN$-HL', 'IN-HL', 'JJ-TL', 'WRB+DO', 'PP$-TL', 'RB', 'PPSS+MD', 'FW-NNS-TL', 'WDT+DO+PPS', 'FW-NN-TL-NC', 'FW-AT-HL', 'VBN', 'NN+MD', 'PPL-TL', 'VBN-HL', 'NP$', 'MD*', 'FW-CC-TL', 'BER-HL', 'JJS-TL', 'FW-VBZ', 'VBN-TL-NC', ',-NC', 'DO', 'BER-NC', 'PPLS', 'IN-NC', 'AP', 'DTX', 'FW-PPL', 'OD-HL', 'AT-NC', 'NP$-HL', 'AP-TL', 'FW-IN+AT-TL', 'WRB+BEZ', 'VBG-NC', 'EX-HL', 'JJT-TL', 'WPS+BEZ', \"''\", 'RB-HL', 'VBG-TL', 'WRB-NC', 'PPO-TL', '.', ':-TL', 'PPSS+HVD', 'FW-*-TL', 'BEZ*', 'VBZ-NC', 'VBN-TL', 'FW-PPO', 'BE-TL', 'WDT-NC', 'WDT', 'EX+HVD', 'JJR-HL', 'CD', 'RB+CS', 'WPS+MD', 'WRB+BER', 'FW-VBG', 'WDT+BEZ-TL', 'TO+VB', 'TO-NC', 'NR-TL-HL', 'HVZ-TL', 'FW-CD-TL', 'FW-IN+NP-TL', 'NP+HVZ-NC', 'PN-NC', 'NPS-NC', 'FW-CC', 'ABN', 'JJR-NC', 'QL-NC', 'FW-IN+AT', 'WPO', 'FW-CD', 'PPS+MD', 'PPSS+BER', 'PPO', 'PPS+HVZ', 'NN+BEZ-TL', 'DTI-TL', 'CD-NC', 'PPSS-HL', 'NPS$-TL', 'VB+IN', 'PPL', 'IN-TL-HL', 'HV-NC', 'FW-IN+AT-T', 'FW-VB-NC', 'PPSS+HV', 'DOD-NC', \"'\", 'NR-TL', 'TO-HL', 'BEM-NC', 'FW-RB-TL', 'FW-NP-TL', 'WRB-TL', 'NNS$-TL-HL', 'CS', 'DTI-HL', 'FW-RB', 'FW-NR-TL', 'IN', 'FW-PP$-NC', 'WPS-NC', 'VB+TO', 'FW-VB', 'CS-NC', 'JJ-NC', 'NNS$-TL', 'NR$-TL', 'RP-NC', 'FW-WPS', 'FW-AT+NP-TL', 'DOD', 'HVD', 'WPS+BEZ-NC', 'PN-HL', 'HV', 'BEZ-TL', 'PN-TL', 'FW-NPS', 'NPS-TL', 'FW-CS', 'WRB+DOD', 'VB-NC', 'CC-HL', 'DO+PPSS', 'TO', 'PN+BEZ', 'NN-HL', 'VBG+TO', 'NN+HVZ', 'FW-BEZ', 'FW-PPO+IN', '(-HL', ')', 'IN-TL', 'VBZ-HL', 'VB-TL', 'VB+JJ-NC', 'BEM*', 'FW-NN', 'ABL', 'PPS-TL', 'PPSS+BER-NC', 'FW-PPS', 'FW-BER', 'NP', 'BEM', 'NR-NC', 'BEZ-NC', 'NN+NN-NC', 'DT+BEZ-NC', 'NP-TL', 'FW-TO+VB', 'NP+HVZ', 'WDT+HVZ', 'NN+HVD-TL', 'VB', 'FW-VBD-TL', 'JJR-TL', 'PPSS+BER-TL', 'CC-NC', 'RB+BEZ-HL', 'JJ-HL', 'CD$', 'BER*', 'FW-PP$-TL', 'FW-PP$', 'HVN', 'WRB+DOZ', 'EX+HVZ', 'WDT+DOD', 'CS-TL', 'RBR+CS', 'FW-DTS', 'FW-JJT', 'BER-TL', 'BEDZ-NC', 'NNS-TL', 'FW-PPSS+HV', 'AT-TL-HL', 'FW-IN+NN', 'FW-AT', 'NR', 'FW-*', 'NPS-HL', 'AP$', 'MD+HV', 'BEN-TL', 'AT', 'WPS-HL', 'VBN-NC', 'AT-HL', 'RBR', 'DOZ*-TL', 'BED*', 'VBG-HL', 'VBZ', ':-HL', 'DTS+BEZ', 'NN-NC', 'PAD', 'FW-NN$', 'PPO-HL', 'NP-NC', 'JJR', 'HV-HL', 'DTS', 'MD-HL', 'PPS', 'NNS-NC', 'WDT+BEZ', 'DOZ*', 'UH-NC', 'NR+MD', 'BEG', 'BE', 'PPS-HL', 'WPO-NC', 'RP+IN', 'BEZ', 'PPSS+BEZ*', 'FW-QL', 'FW-NR', 'HVZ', 'MD', 'PP$-NC', 'HVD*', 'FW-JJ-TL', 'FW-DT+BEZ', 'FW-BE', 'HVG', 'JJ$-TL', 'PPS+HVD', 'RB$', 'BEDZ*', 'DT$', 'WPS+HVD', 'WPS+HVZ', 'FW-IN', 'IN+PPO', 'DO-HL', 'BER*-NC', 'RBT', 'CC-TL', 'PN', 'VB-HL', '.-NC', 'DT-HL', ':', 'FW-VBG-TL', '(', 'MD-NC', 'NN+BEZ', 'NP-TL-HL', 'WQL-TL', 'WPS-TL', 'AP-HL', 'FW-UH-NC', 'MD-TL', 'AP+AP-NC', 'FW-WPO', 'PPS+BEZ', '---HL', 'WRB', 'JJR+CS', 'BED-NC', 'WDT+BEZ-HL', 'NPS$', 'PPSS-NC', 'RB-NC', 'MD*-HL', 'PPSS+BEM', 'HVG-HL', 'PP$$', 'FW-RB+CC', 'NRS-TL', 'VBD-NC', 'NN-TL-HL', 'WPS', 'BEDZ-HL', 'ABN-HL', 'WP$', 'CC', 'OD-TL', 'VBG', 'FW-IN-TL', 'WPS+BEZ-TL', 'NNS-TL-HL', '``', 'FW-WDT', 'PPO-NC', 'FW-UH', 'JJS', 'WRB+DOD*', 'NR$', 'EX+BEZ', 'PN$', 'VBN-TL-HL', '.-TL', 'ABN-NC', 'PPL-HL', 'FW-NN$-TL', 'FW-HV', '*-TL', 'NIL', 'FW-NP', 'DT+MD', 'RB+BEZ', 'NNS$-NC', 'NN+HVZ-TL', 'FW-AT-TL', '.-HL', 'FW-IN+NN-TL', 'RBR-NC', 'JJ-TL-HL', 'FW-UH-TL', 'DO*', 'IN+IN', 'JJT', 'BE-HL', 'NN$-TL', 'WDT+BEZ-NC', 'FW-VBN', 'VB+PPO', 'ABX', 'VB+VB-NC', 'DTI', 'VB+RP', 'DT-NC', 'VBZ-TL', 'PPSS+MD-NC', 'DT+BEZ', 'NP+BEZ-NC', 'CC-TL-HL', 'FW-VB-TL', '*-NC', 'NN-TL-NC', 'NPS', 'WRB-HL', 'PPSS+HV-TL', 'UH', 'HV-TL', 'NP+MD', 'QL-TL', 'NRS', 'FW-NNS', 'FW-OD-TL', 'VBD-TL', 'JJT-HL', 'TO-TL', 'DT', 'EX+MD', 'PN+HVD', 'JJT-NC', 'PPS+BEZ-HL', 'PPSS+BER-N', 'AT-TL', 'BEN', 'PPSS+BEZ', 'DTS-HL', 'FW-AT+NN-TL', 'EX', 'MD+TO', 'JJ-TL-NC', 'CD-TL-HL', 'OD-NC', 'NP$-TL', 'NNS-HL', 'DO*-HL', 'DOZ', 'RP-HL', 'FW-JJ', 'PP$-HL', 'NN', 'RB-TL', 'BED', 'PN+HVZ', 'DOD*-TL', 'VBD-HL', 'WPO-TL', 'HV+TO', 'FW-NN-NC', 'DOZ-TL', 'WDT+BER', 'FW-JJ-NC', 'BEZ-HL', 'WQL', 'FW-NNS-NC', 'HV*', ',', 'CD-HL', '--', 'RB+BEZ-NC', 'PPSS', 'JJ+JJ-NC', 'PP$', 'FW-PN', 'HVZ*', 'DOD*', 'DO-NC', 'BER', 'FW-VBD', 'FW-JJR', 'PPSS+VB', 'HVZ-NC', 'CD-TL', 'VB+AT', 'HVD-HL', 'QL'])\n"
     ]
    }
   ],
   "source": [
    "print('Number of pos tags: {}\\n'.format(len(tag_dict_inv)))\n",
    "print('List of tags: {}'.format(tag_dict_inv.values()))"
   ]
  },
  {
   "cell_type": "code",
   "execution_count": 4,
   "metadata": {},
   "outputs": [
    {
     "data": {
      "image/png": "[encoded data removed]",
      "text/plain": [
       "<matplotlib.figure.Figure at 0x1a1a566ac8>"
      ]
     },
     "metadata": {},
     "output_type": "display_data"
    }
   ],
   "source": [
    "# visualize length of sentences\n",
    "sentence_lengths = [len(seq) for seq in token_seqs]\n",
    "_ = plt.hist(sentence_lengths)"
   ]
  },
  {
   "cell_type": "code",
   "execution_count": 5,
   "metadata": {},
   "outputs": [
    {
     "data": {
      "image/png": "[encoded data removed]",
      "text/plain": [
       "<matplotlib.figure.Figure at 0x1a29956438>"
      ]
     },
     "metadata": {},
     "output_type": "display_data"
    }
   ],
   "source": [
    "_ = plt.boxplot(sentence_lengths)"
   ]
  },
  {
   "cell_type": "code",
   "execution_count": 6,
   "metadata": {
    "collapsed": true
   },
   "outputs": [],
   "source": [
    "# will set MAX_SEQ to reasonable value based on distribution of sentence lengths\n",
    "# this will help better evaluate accuracy of our model\n",
    "MAX_SEQ = 45\n",
    "\n",
    "# pad token and tag sequences to MAX_SEQ with PAD to get X and y for sequence to sequence model\n",
    "X = pad_sequences(maxlen=MAX_SEQ, sequences=token_seqs, padding=\"pre\", value=token_dict['PAD'])\n",
    "y = pad_sequences(maxlen=MAX_SEQ, sequences=tag_seqs, padding=\"pre\", value=tag_dict['PAD'])"
   ]
  },
  {
   "cell_type": "code",
   "execution_count": 7,
   "metadata": {},
   "outputs": [
    {
     "name": "stdout",
     "output_type": "stream",
     "text": [
      "[ 6645  6645  6645  6645  6645  6645  6645  6645  6645  6645  6645  6645\n",
      "  6645  6645  6645  6645  6645  6645  6645  6645  6645  6645  6645  6645\n",
      "  6645  6645  6645  6645  6645  6645  6645 38409 46952 52892 27703 20272\n",
      " 21646 28044  1593 11680 40684 10718 22115 24849 53671]\n",
      "[264 264 264 264 264 264 264 264 264 264 264 264 264 264 264 264 264 264\n",
      " 264 264 264 264 264 264 264 264 264 264 264 264 264 272  25 159 252 437\n",
      " 352 220  23 189 220  94 414 437  99]\n"
     ]
    }
   ],
   "source": [
    "# check if X and y were properly created\n",
    "print(X[10])\n",
    "print(y[10])"
   ]
  },
  {
   "cell_type": "code",
   "execution_count": 8,
   "metadata": {
    "collapsed": true
   },
   "outputs": [],
   "source": [
    "# define LSTM bidirectional seq to seq model\n",
    "# will vectorize word embeddings to vectors of size wordvec_dim\n",
    "\n",
    "WORDVEC_DIM = 20\n",
    "\n",
    "def get_model(max_seq, voc_size, wordvec_dim, tag_count):\n",
    "    \n",
    "    input = Input(shape=(max_seq,), dtype='float64')\n",
    "    embed = Embedding(input_dim=voc_size, output_dim=wordvec_dim, input_length=MAX_SEQ, \\\n",
    "                      embeddings_initializer='uniform')(input)\n",
    "    #drop = Dropout(0.5)(embed)\n",
    "    #lstm = Bidirectional(LSTM(units=100, return_sequences=True, recurrent_dropout=0.1))(embed)\n",
    "    lstm = Bidirectional(LSTM(units=100, return_sequences=True))(embed)\n",
    "    out = TimeDistributed(Dense(tag_count, activation=\"softmax\"))(lstm) \n",
    "\n",
    "    model = Model(input, out)\n",
    "    model.compile(optimizer=\"rmsprop\", loss=\"categorical_crossentropy\", metrics=[\"accuracy\"])\n",
    "\n",
    "    model.summary()\n",
    "    \n",
    "    return model"
   ]
  },
  {
   "cell_type": "code",
   "execution_count": 9,
   "metadata": {
    "collapsed": true
   },
   "outputs": [],
   "source": [
    "vocabulary_size = len(token_dict)\n",
    "number_of_classes = len(tag_dict)\n",
    "\n",
    "# need to change y to categorical \n",
    "ycat = [to_categorical(i, num_classes=number_of_classes) for i in y]\n",
    "\n",
    "# reserve 10% of the dataset for testing after training the model\n",
    "X_train, X_test, y_train, y_test = train_test_split(X, ycat, test_size=0.1)"
   ]
  },
  {
   "cell_type": "code",
   "execution_count": 10,
   "metadata": {},
   "outputs": [
    {
     "name": "stdout",
     "output_type": "stream",
     "text": [
      "_________________________________________________________________\n",
      "Layer (type)                 Output Shape              Param #   \n",
      "=================================================================\n",
      "input_1 (InputLayer)         (None, 45)                0         \n",
      "_________________________________________________________________\n",
      "embedding_1 (Embedding)      (None, 45, 20)            1121160   \n",
      "_________________________________________________________________\n",
      "bidirectional_1 (Bidirection (None, 45, 200)           96800     \n",
      "_________________________________________________________________\n",
      "time_distributed_1 (TimeDist (None, 45, 473)           95073     \n",
      "=================================================================\n",
      "Total params: 1,313,033\n",
      "Trainable params: 1,313,033\n",
      "Non-trainable params: 0\n",
      "_________________________________________________________________\n",
      "Train on 36124 samples, validate on 15482 samples\n",
      "Epoch 1/10\n",
      "36124/36124 [==============================] - 155s 4ms/step - loss: 0.9272 - acc: 0.7775 - val_loss: 0.3488 - val_acc: 0.9130\n",
      "Epoch 2/10\n",
      "36124/36124 [==============================] - 140s 4ms/step - loss: 0.2306 - acc: 0.9429 - val_loss: 0.1791 - val_acc: 0.9562\n",
      "Epoch 3/10\n",
      "36124/36124 [==============================] - 143s 4ms/step - loss: 0.1394 - acc: 0.9661 - val_loss: 0.1376 - val_acc: 0.9659\n",
      "Epoch 4/10\n",
      "36124/36124 [==============================] - 139s 4ms/step - loss: 0.1061 - acc: 0.9746 - val_loss: 0.1213 - val_acc: 0.9701\n",
      "Epoch 5/10\n",
      "36124/36124 [==============================] - 142s 4ms/step - loss: 0.0877 - acc: 0.9793 - val_loss: 0.1130 - val_acc: 0.9722\n",
      "Epoch 6/10\n",
      "36124/36124 [==============================] - 137s 4ms/step - loss: 0.0753 - acc: 0.9824 - val_loss: 0.1051 - val_acc: 0.9744\n",
      "Epoch 7/10\n",
      "36124/36124 [==============================] - 140s 4ms/step - loss: 0.0666 - acc: 0.9846 - val_loss: 0.1017 - val_acc: 0.9753\n",
      "Epoch 8/10\n",
      "36124/36124 [==============================] - 142s 4ms/step - loss: 0.0597 - acc: 0.9864 - val_loss: 0.0995 - val_acc: 0.9759\n",
      "Epoch 9/10\n",
      "36124/36124 [==============================] - 148s 4ms/step - loss: 0.0546 - acc: 0.9877 - val_loss: 0.0976 - val_acc: 0.9767\n",
      "Epoch 10/10\n",
      "36124/36124 [==============================] - 149s 4ms/step - loss: 0.0504 - acc: 0.9887 - val_loss: 0.0973 - val_acc: 0.9769\n"
     ]
    },
    {
     "data": {
      "image/png": "[encoded data removed]",
      "text/plain": [
       "<matplotlib.figure.Figure at 0x1e93c76438>"
      ]
     },
     "metadata": {},
     "output_type": "display_data"
    }
   ],
   "source": [
    "model = get_model(MAX_SEQ, vocabulary_size, WORDVEC_DIM, number_of_classes)\n",
    "\n",
    "history = model.fit(X_train, np.array(y_train), batch_size=32, epochs=10, validation_split=0.3, verbose=1,\\\n",
    "                    callbacks=[EarlyStopping(patience=2, monitor='val_loss')])\n",
    "\n",
    "plt.plot(history.history['loss'], label='train')\n",
    "plt.plot(history.history['val_loss'], label='test')   \n",
    "plt.legend()\n",
    "plt.show()"
   ]
  },
  {
   "cell_type": "code",
   "execution_count": 11,
   "metadata": {},
   "outputs": [
    {
     "name": "stdout",
     "output_type": "stream",
     "text": [
      "Accuracy on test partition: 0.9763864666899198\n"
     ]
    }
   ],
   "source": [
    "y_hat = model.predict(X_test)\n",
    "acc = accuracy_score(np.argmax(np.array(y_test), axis=-1).flatten(), np.argmax(y_hat, axis=-1).flatten())\n",
    "print('Accuracy on test partition: {}'.format(acc))"
   ]
  },
  {
   "cell_type": "code",
   "execution_count": 12,
   "metadata": {},
   "outputs": [
    {
     "name": "stdout",
     "output_type": "stream",
     "text": [
      "Prediction:\n",
      "[264 264 264 264 264 264 264 264 264 264 264 264 264 264 264 264 264 264\n",
      " 264 159 283 252 437 163 252 437  23 163 437 163  12 437  23 453 252 348\n",
      "  23 464  59  65 163 252  12 437  99]\n",
      "True values:\n",
      "[264 264 264 264 264 264 264 264 264 264 264 264 264 264 264 264 264 264\n",
      " 264 159 283 252 437 163 252 437  23 163 437 163  12 437  23 453 252 348\n",
      "  23 464  59  65 163 252  12 437  99]\n"
     ]
    }
   ],
   "source": [
    "y_hat = model.predict(X_test[10].reshape(-1,MAX_SEQ))\n",
    "print('Prediction:')\n",
    "print(np.argmax(y_hat, axis=-1).flatten())\n",
    "print('True values:')\n",
    "print(np.array(np.argmax(np.array(y_test[10]), axis=-1).flatten()))"
   ]
  }
 ],
 "metadata": {
  "kernelspec": {
   "display_name": "Python 3",
   "language": "python",
   "name": "python3"
  },
  "language_info": {
   "codemirror_mode": {
    "name": "ipython",
    "version": 3
   },
   "file_extension": ".py",
   "mimetype": "text/x-python",
   "name": "python",
   "nbconvert_exporter": "python",
   "pygments_lexer": "ipython3",
   "version": "3.5.3"
  }
 },
 "nbformat": 4,
 "nbformat_minor": 2
}
