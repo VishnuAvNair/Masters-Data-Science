{
 "cells": [
  {
   "cell_type": "markdown",
   "metadata": {},
   "source": [
    "# L665 ML for NLPSpring 2018 \n",
    "\n",
    "## Assignment 2 - Task 1 \n",
    "\n",
    "Author: Carlos Sathler"
   ]
  },
  {
   "cell_type": "code",
   "execution_count": 1,
   "metadata": {},
   "outputs": [
    {
     "name": "stderr",
     "output_type": "stream",
     "text": [
      "Using TensorFlow backend.\n"
     ]
    },
    {
     "name": "stdout",
     "output_type": "stream",
     "text": [
      "[nltk_data] Downloading package brown to /Users/carlos2/nltk_data...\n",
      "[nltk_data]   Package brown is already up-to-date!\n",
      "[nltk_data] Downloading package universal_tagset to\n",
      "[nltk_data]     /Users/carlos2/nltk_data...\n",
      "[nltk_data]   Package universal_tagset is already up-to-date!\n"
     ]
    },
    {
     "data": {
      "text/plain": [
       "True"
      ]
     },
     "execution_count": 1,
     "metadata": {},
     "output_type": "execute_result"
    }
   ],
   "source": [
    "import numpy as np\n",
    "import nltk\n",
    "\n",
    "import matplotlib.pyplot as plt\n",
    "%matplotlib inline  \n",
    "\n",
    "from keras.preprocessing.sequence import pad_sequences\n",
    "from keras.utils import to_categorical\n",
    "from keras.models import Model, Input\n",
    "from keras.layers import LSTM, Embedding, Dense, TimeDistributed, Dropout, Bidirectional\n",
    "from keras.callbacks import EarlyStopping\n",
    "\n",
    "from sklearn.model_selection import train_test_split\n",
    "from sklearn.metrics import accuracy_score\n",
    "\n",
    "from nltk.corpus import brown\n",
    "nltk.download('brown')\n",
    "nltk.download('universal_tagset')"
   ]
  },
  {
   "cell_type": "code",
   "execution_count": 2,
   "metadata": {},
   "outputs": [
    {
     "name": "stdout",
     "output_type": "stream",
     "text": [
      "CPU times: user 13.4 s, sys: 476 ms, total: 13.9 s\n",
      "Wall time: 14.5 s\n"
     ]
    }
   ],
   "source": [
    "%%time\n",
    "\n",
    "# create lists of tokens and tags from corpora\n",
    "# add UNK to map unknown tag values, PAD to pad sequences for RNN\n",
    "tokens, tags = zip(*brown.tagged_words(tagset='universal'))\n",
    "tokens = list(tokens)\n",
    "tokens.append('PAD')\n",
    "tags = list(tags)\n",
    "tags.append('PAD')\n",
    "\n",
    "# create token embedding dictionary and inverse dictionary\n",
    "token_dict = {token: no for no, token in enumerate(set(tokens))}\n",
    "token_dict_inv = {no: token for token, no in token_dict.items()}\n",
    "\n",
    "# create tag embedding dictionary and inverse dictionary\n",
    "tag_dict = {tag: no for no, tag in enumerate(set(tags))}\n",
    "tag_dict_inv = {no: tag for tag, no in tag_dict.items()}\n",
    "\n",
    "# Create dictionary with sentence number as key, \n",
    "# and tuple with lists of token, token numbers, tags, tag numbers  \n",
    "\n",
    "sents = {}\n",
    "start = 0\n",
    "for sent_no, token_list in enumerate(brown.sents()):\n",
    "    end = start + len(token_list)\n",
    "    # get tags for this sentence, and then embedding\n",
    "    sent_tokens = tokens[start: end]\n",
    "    token_nos   = [token_dict[token] for token in sent_tokens]\n",
    "    sent_tags   = tags[start: end]\n",
    "    tag_nos     = [tag_dict[tag] for tag in sent_tags]\n",
    "    sents[sent_no] = (tokens, token_nos, tags, tag_nos)\n",
    "    start = end\n",
    "\n",
    "# determine len of longer sentence\n",
    "token_seqs = [sents[1][1] for sents in sents.items()]\n",
    "tag_seqs = [sents[1][3] for sents in sents.items()]"
   ]
  },
  {
   "cell_type": "code",
   "execution_count": 3,
   "metadata": {},
   "outputs": [
    {
     "name": "stdout",
     "output_type": "stream",
     "text": [
      "Number of pos tags: 13\n",
      "\n",
      "List of tags: dict_values(['CONJ', 'NUM', 'PRON', 'ADP', 'VERB', 'ADJ', 'PAD', 'ADV', 'PRT', 'NOUN', 'DET', 'X', '.'])\n"
     ]
    }
   ],
   "source": [
    "print('Number of pos tags: {}\\n'.format(len(tag_dict_inv)))\n",
    "print('List of tags: {}'.format(tag_dict_inv.values()))"
   ]
  },
  {
   "cell_type": "code",
   "execution_count": 4,
   "metadata": {},
   "outputs": [
    {
     "data": {
      "image/png": "[encoded data removed]",
      "text/plain": [
       "<matplotlib.figure.Figure at 0x1a24a2d940>"
      ]
     },
     "metadata": {},
     "output_type": "display_data"
    }
   ],
   "source": [
    "# visualize length of sentences in the document\n",
    "sentence_lengths = [len(seq) for seq in token_seqs]\n",
    "_ = plt.hist(sentence_lengths)"
   ]
  },
  {
   "cell_type": "code",
   "execution_count": 5,
   "metadata": {},
   "outputs": [
    {
     "data": {
      "image/png": "[encoded data removed]",
      "text/plain": [
       "<matplotlib.figure.Figure at 0x1a2e8a4978>"
      ]
     },
     "metadata": {},
     "output_type": "display_data"
    }
   ],
   "source": [
    "_ = plt.boxplot(sentence_lengths)"
   ]
  },
  {
   "cell_type": "code",
   "execution_count": 6,
   "metadata": {},
   "outputs": [
    {
     "data": {
      "text/plain": [
       "44.0"
      ]
     },
     "execution_count": 6,
     "metadata": {},
     "output_type": "execute_result"
    }
   ],
   "source": [
    "np.percentile(sentence_lengths, 95)"
   ]
  },
  {
   "cell_type": "code",
   "execution_count": 7,
   "metadata": {
    "collapsed": true
   },
   "outputs": [],
   "source": [
    "# will set MAX_SEQ to reasonable value based on distribution of sentence lengths\n",
    "# this will help better evaluate accuracy of our model\n",
    "MAX_SEQ = 45\n",
    "\n",
    "# pad token and tag sequences to MAX_SEQ with PAD to get X and y for sequence to sequence model\n",
    "X = pad_sequences(maxlen=MAX_SEQ, sequences=token_seqs, padding=\"pre\", value=token_dict['PAD'])\n",
    "y = pad_sequences(maxlen=MAX_SEQ, sequences=tag_seqs, padding=\"pre\", value=tag_dict['PAD'])"
   ]
  },
  {
   "cell_type": "code",
   "execution_count": 8,
   "metadata": {},
   "outputs": [
    {
     "name": "stdout",
     "output_type": "stream",
     "text": [
      "[22214 22214 22214 22214 22214 22214 22214 22214 22214 22214 22214 22214\n",
      " 22214 22214 22214 22214 22214 22214 22214 22214 22214 22214 22214 22214\n",
      " 22214 22214 22214 22214 22214 22214 22214 12795 21793 24468 17498 38580\n",
      " 31365  3386 48808 50932 40983 46975 14318 39816 16778]\n",
      "[ 6  6  6  6  6  6  6  6  6  6  6  6  6  6  6  6  6  6  6  6  6  6  6  6  6\n",
      "  6  6  6  6  6  6  2  4  3 10  9 12  4  9  8  4 12 10  9 12]\n"
     ]
    }
   ],
   "source": [
    "# check if X and y were properly created\n",
    "print(X[10])\n",
    "print(y[10])"
   ]
  },
  {
   "cell_type": "code",
   "execution_count": 9,
   "metadata": {
    "collapsed": true
   },
   "outputs": [],
   "source": [
    "# define LSTM bidirectional seq to seq model\n",
    "# will vectorize word embeddings to vectors of size wordvec_dim\n",
    "\n",
    "WORDVEC_DIM = 20\n",
    "\n",
    "def get_model(max_seq, voc_size, wordvec_dim, tag_count):\n",
    "    \n",
    "    input = Input(shape=(max_seq,), dtype='float64')\n",
    "    embed = Embedding(input_dim=voc_size, output_dim=wordvec_dim, input_length=MAX_SEQ, \\\n",
    "                      embeddings_initializer='uniform')(input)\n",
    "    #drop = Dropout(0.5)(embed)\n",
    "    #lstm = Bidirectional(LSTM(units=100, return_sequences=True, recurrent_dropout=0.1))(embed)\n",
    "    lstm = Bidirectional(LSTM(units=100, return_sequences=True))(embed)\n",
    "    out = TimeDistributed(Dense(tag_count, activation=\"softmax\"))(lstm) \n",
    "\n",
    "    model = Model(input, out)\n",
    "    model.compile(optimizer=\"rmsprop\", loss=\"categorical_crossentropy\", metrics=[\"accuracy\"])\n",
    "\n",
    "    model.summary()\n",
    "    \n",
    "    return model"
   ]
  },
  {
   "cell_type": "code",
   "execution_count": 10,
   "metadata": {
    "collapsed": true
   },
   "outputs": [],
   "source": [
    "vocabulary_size = len(token_dict)\n",
    "number_of_classes = len(tag_dict)\n",
    "\n",
    "# need to change y to categorical \n",
    "ycat = [to_categorical(i, num_classes=number_of_classes) for i in y]\n",
    "\n",
    "# reserve 10% of the dataset for testing after training the model\n",
    "X_train, X_test, y_train, y_test = train_test_split(X, ycat, test_size=0.1)"
   ]
  },
  {
   "cell_type": "code",
   "execution_count": 11,
   "metadata": {},
   "outputs": [
    {
     "name": "stdout",
     "output_type": "stream",
     "text": [
      "_________________________________________________________________\n",
      "Layer (type)                 Output Shape              Param #   \n",
      "=================================================================\n",
      "input_1 (InputLayer)         (None, 45)                0         \n",
      "_________________________________________________________________\n",
      "embedding_1 (Embedding)      (None, 45, 20)            1121160   \n",
      "_________________________________________________________________\n",
      "bidirectional_1 (Bidirection (None, 45, 200)           96800     \n",
      "_________________________________________________________________\n",
      "time_distributed_1 (TimeDist (None, 45, 13)            2613      \n",
      "=================================================================\n",
      "Total params: 1,220,573\n",
      "Trainable params: 1,220,573\n",
      "Non-trainable params: 0\n",
      "_________________________________________________________________\n",
      "Train on 36124 samples, validate on 15482 samples\n",
      "Epoch 1/10\n",
      "36124/36124 [==============================] - 68s 2ms/step - loss: 0.3345 - acc: 0.8919 - val_loss: 0.0811 - val_acc: 0.9734\n",
      "Epoch 2/10\n",
      "36124/36124 [==============================] - 67s 2ms/step - loss: 0.0604 - acc: 0.9807 - val_loss: 0.0554 - val_acc: 0.9821\n",
      "Epoch 3/10\n",
      "36124/36124 [==============================] - 68s 2ms/step - loss: 0.0431 - acc: 0.9866 - val_loss: 0.0478 - val_acc: 0.9849\n",
      "Epoch 4/10\n",
      "36124/36124 [==============================] - 71s 2ms/step - loss: 0.0345 - acc: 0.9896 - val_loss: 0.0445 - val_acc: 0.9860\n",
      "Epoch 5/10\n",
      "36124/36124 [==============================] - 67s 2ms/step - loss: 0.0288 - acc: 0.9915 - val_loss: 0.0429 - val_acc: 0.9866\n",
      "Epoch 6/10\n",
      "36124/36124 [==============================] - 66s 2ms/step - loss: 0.0249 - acc: 0.9928 - val_loss: 0.0406 - val_acc: 0.9876\n",
      "Epoch 7/10\n",
      "36124/36124 [==============================] - 69s 2ms/step - loss: 0.0218 - acc: 0.9937 - val_loss: 0.0411 - val_acc: 0.9874\n",
      "Epoch 8/10\n",
      "36124/36124 [==============================] - 69s 2ms/step - loss: 0.0192 - acc: 0.9945 - val_loss: 0.0403 - val_acc: 0.9878\n",
      "Epoch 9/10\n",
      "36124/36124 [==============================] - 70s 2ms/step - loss: 0.0171 - acc: 0.9952 - val_loss: 0.0410 - val_acc: 0.9876\n",
      "Epoch 10/10\n",
      "36124/36124 [==============================] - 69s 2ms/step - loss: 0.0152 - acc: 0.9957 - val_loss: 0.0414 - val_acc: 0.9877\n"
     ]
    },
    {
     "data": {
      "image/png": "[encoded data removed]",
      "text/plain": [
       "<matplotlib.figure.Figure at 0x1a4114a6d8>"
      ]
     },
     "metadata": {},
     "output_type": "display_data"
    }
   ],
   "source": [
    "model = get_model(MAX_SEQ, vocabulary_size, WORDVEC_DIM, number_of_classes)\n",
    "\n",
    "history = model.fit(X_train, np.array(y_train), batch_size=32, epochs=10, validation_split=0.3, verbose=1,\\\n",
    "                    callbacks=[EarlyStopping(patience=2, monitor='val_loss')])\n",
    "\n",
    "plt.plot(history.history['loss'], label='train')\n",
    "plt.plot(history.history['val_loss'], label='test')   \n",
    "plt.legend()\n",
    "plt.show()"
   ]
  },
  {
   "cell_type": "code",
   "execution_count": 12,
   "metadata": {},
   "outputs": [
    {
     "name": "stdout",
     "output_type": "stream",
     "text": [
      "Accuracy on test partition: 0.9875557105762895\n"
     ]
    }
   ],
   "source": [
    "y_hat = model.predict(X_test)\n",
    "acc = accuracy_score(np.argmax(np.array(y_test), axis=-1).flatten(), np.argmax(y_hat, axis=-1).flatten())\n",
    "print('Accuracy on test partition: {}'.format(acc))"
   ]
  },
  {
   "cell_type": "code",
   "execution_count": 13,
   "metadata": {},
   "outputs": [
    {
     "name": "stdout",
     "output_type": "stream",
     "text": [
      "Prediction:\n",
      "[ 6  6  6  6  6  6  6  6  6  6  6  6  6  6  6  6  6  6  6  6  6  6  6  6  6\n",
      "  6  6  6  6  6  6  6  6  6  6  6  6  6  2  4  7  4 10  9 12]\n",
      "True values:\n",
      "[ 6  6  6  6  6  6  6  6  6  6  6  6  6  6  6  6  6  6  6  6  6  6  6  6  6\n",
      "  6  6  6  6  6  6  6  6  6  6  6  6  6  2  4  7  4 10  9 12]\n"
     ]
    }
   ],
   "source": [
    "# predicting on an arbitrarily selected sentence\n",
    "y_hat = model.predict(X_test[10].reshape(-1,MAX_SEQ))\n",
    "print('Prediction:')\n",
    "print(np.argmax(y_hat, axis=-1).flatten())\n",
    "print('True values:')\n",
    "print(np.array(np.argmax(np.array(y_test[10]), axis=-1).flatten()))"
   ]
  },
  {
   "cell_type": "code",
   "execution_count": null,
   "metadata": {
    "collapsed": true
   },
   "outputs": [],
   "source": []
  }
 ],
 "metadata": {
  "kernelspec": {
   "display_name": "Python 3",
   "language": "python",
   "name": "python3"
  },
  "language_info": {
   "codemirror_mode": {
    "name": "ipython",
    "version": 3
   },
   "file_extension": ".py",
   "mimetype": "text/x-python",
   "name": "python",
   "nbconvert_exporter": "python",
   "pygments_lexer": "ipython3",
   "version": "3.5.3"
  }
 },
 "nbformat": 4,
 "nbformat_minor": 2
}
