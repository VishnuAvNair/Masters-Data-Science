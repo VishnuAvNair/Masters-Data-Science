{
 "cells": [
  {
   "cell_type": "markdown",
   "metadata": {},
   "source": [
    "# L665 ML for NLPSpring 2018 \n",
    "\n",
    "## Assignment 2 - Task 1 \n",
    "\n",
    "Author: Carlos Sathler"
   ]
  },
  {
   "cell_type": "code",
   "execution_count": 1,
   "metadata": {},
   "outputs": [
    {
     "name": "stderr",
     "output_type": "stream",
     "text": [
      "Using TensorFlow backend.\n"
     ]
    },
    {
     "name": "stdout",
     "output_type": "stream",
     "text": [
      "[nltk_data] Downloading package brown to /Users/carlos2/nltk_data...\n",
      "[nltk_data]   Package brown is already up-to-date!\n",
      "[nltk_data] Downloading package universal_tagset to\n",
      "[nltk_data]     /Users/carlos2/nltk_data...\n",
      "[nltk_data]   Package universal_tagset is already up-to-date!\n"
     ]
    },
    {
     "data": {
      "text/plain": [
       "True"
      ]
     },
     "execution_count": 1,
     "metadata": {},
     "output_type": "execute_result"
    }
   ],
   "source": [
    "import numpy as np\n",
    "import nltk\n",
    "\n",
    "import matplotlib.pyplot as plt\n",
    "%matplotlib inline  \n",
    "\n",
    "from keras.preprocessing.sequence import pad_sequences\n",
    "from keras.utils import to_categorical\n",
    "from keras.models import Model, Input\n",
    "from keras.layers import LSTM, Embedding, Dense, TimeDistributed, Dropout, Bidirectional\n",
    "from keras.callbacks import EarlyStopping\n",
    "\n",
    "from sklearn.model_selection import train_test_split\n",
    "from sklearn.metrics import accuracy_score\n",
    "\n",
    "from nltk.corpus import brown\n",
    "nltk.download('brown')\n",
    "nltk.download('universal_tagset')"
   ]
  },
  {
   "cell_type": "code",
   "execution_count": 2,
   "metadata": {},
   "outputs": [
    {
     "name": "stdout",
     "output_type": "stream",
     "text": [
      "CPU times: user 11.8 s, sys: 345 ms, total: 12.2 s\n",
      "Wall time: 12.2 s\n"
     ]
    }
   ],
   "source": [
    "%%time\n",
    "\n",
    "# create lists of tokens and tags from corpora\n",
    "# add UNK to map unknown tag values, PAD to pad sequences for RNN\n",
    "tokens, tags = zip(*brown.tagged_words(tagset='universal'))\n",
    "tokens = list(tokens)\n",
    "tokens.append('PAD')\n",
    "tags = list(tags)\n",
    "tags.append('PAD')\n",
    "\n",
    "# create token embedding dictionary and inverse dictionary\n",
    "token_dict = {token: no for no, token in enumerate(set(tokens))}\n",
    "token_dict_inv = {no: token for token, no in token_dict.items()}\n",
    "\n",
    "# create tag embedding dictionary and inverse dictionary\n",
    "tag_dict = {tag: no for no, tag in enumerate(set(tags))}\n",
    "tag_dict_inv = {no: tag for tag, no in tag_dict.items()}\n",
    "\n",
    "# Create dictionary with sentence number as key, \n",
    "# and tuple with lists of token, token numbers, tags, tag numbers  \n",
    "\n",
    "sents = {}\n",
    "start = 0\n",
    "for sent_no, token_list in enumerate(brown.sents()):\n",
    "    end = start + len(token_list)\n",
    "    # get tags for this sentence, and then embedding\n",
    "    sent_tokens = tokens[start: end]\n",
    "    token_nos   = [token_dict[token] for token in sent_tokens]\n",
    "    sent_tags   = tags[start: end]\n",
    "    tag_nos     = [tag_dict[tag] for tag in sent_tags]\n",
    "    sents[sent_no] = (tokens, token_nos, tags, tag_nos)\n",
    "    start = end\n",
    "\n",
    "# determine len of longer sentence\n",
    "token_seqs = [sents[1][1] for sents in sents.items()]\n",
    "tag_seqs = [sents[1][3] for sents in sents.items()]"
   ]
  },
  {
   "cell_type": "code",
   "execution_count": 3,
   "metadata": {},
   "outputs": [
    {
     "data": {
      "image/png": "[encoded data removed]",
      "text/plain": [
       "<matplotlib.figure.Figure at 0x1a2126f860>"
      ]
     },
     "metadata": {},
     "output_type": "display_data"
    }
   ],
   "source": [
    "sentence_lengths = [len(seq) for seq in token_seqs]\n",
    "_ = plt.hist(sentence_lengths)"
   ]
  },
  {
   "cell_type": "code",
   "execution_count": 4,
   "metadata": {},
   "outputs": [
    {
     "data": {
      "image/png": "[encoded data removed]",
      "text/plain": [
       "<matplotlib.figure.Figure at 0x1a2b0cda90>"
      ]
     },
     "metadata": {},
     "output_type": "display_data"
    }
   ],
   "source": [
    "_ = plt.boxplot(sentence_lengths)"
   ]
  },
  {
   "cell_type": "code",
   "execution_count": 5,
   "metadata": {
    "collapsed": true
   },
   "outputs": [],
   "source": [
    "# will set MAX_SEQ to reasonable value based on distribution of sentence lengths\n",
    "# this will help better evaluate accuracy of our model\n",
    "MAX_SEQ = 75\n",
    "\n",
    "# pad token and tag sequences to MAX_SEQ with PAD to get X and y for sequence to sequence model\n",
    "X = pad_sequences(maxlen=MAX_SEQ, sequences=token_seqs, padding=\"pre\", value=token_dict['PAD'])\n",
    "y = pad_sequences(maxlen=MAX_SEQ, sequences=tag_seqs, padding=\"pre\", value=tag_dict['PAD'])"
   ]
  },
  {
   "cell_type": "code",
   "execution_count": 6,
   "metadata": {},
   "outputs": [
    {
     "name": "stdout",
     "output_type": "stream",
     "text": [
      "[28834 28834 28834 28834 28834 28834 28834 28834 28834 28834 28834 28834\n",
      " 28834 28834 28834 28834 28834 28834 28834 28834 28834 28834 28834 28834\n",
      " 28834 28834 28834 28834 28834 28834 28834 28834 28834 28834 28834 28834\n",
      " 28834 28834 28834 28834 28834 28834 28834 28834 28834 28834 28834 28834\n",
      " 28834 28834 28834 28834 28834 28834 28834 28834 28834 28834 28834 28834\n",
      " 28834 48398 12800 53649 49369 16537 55401 32243 49257 20954 35779 52033\n",
      " 42215 18934 17953]\n",
      "[ 6  6  6  6  6  6  6  6  6  6  6  6  6  6  6  6  6  6  6  6  6  6  6  6  6\n",
      "  6  6  6  6  6  6  6  6  6  6  6  6  6  6  6  6  6  6  6  6  6  6  6  6  6\n",
      "  6  6  6  6  6  6  6  6  6  6  6 10  7 12  9  2  8  7  2  4  7  8  9  2  8]\n"
     ]
    }
   ],
   "source": [
    "# check if X and y were properly created\n",
    "print(X[10])\n",
    "print(y[10])"
   ]
  },
  {
   "cell_type": "code",
   "execution_count": 7,
   "metadata": {
    "collapsed": true
   },
   "outputs": [],
   "source": [
    "# define LSTM bidirectional seq to seq model\n",
    "# will vectorize word embeddings to vectors of size wordvec_dim\n",
    "\n",
    "WORDVEC_DIM = 20\n",
    "\n",
    "def get_model(max_seq, voc_size, wordvec_dim, tag_count):\n",
    "    \n",
    "    input = Input(shape=(max_seq,), dtype='float64')\n",
    "    embed = Embedding(input_dim=voc_size, output_dim=wordvec_dim, input_length=MAX_SEQ, \\\n",
    "                      embeddings_initializer='uniform')(input)\n",
    "    #drop = Dropout(0.5)(embed)\n",
    "    #lstm = Bidirectional(LSTM(units=100, return_sequences=True, recurrent_dropout=0.1))(embed)\n",
    "    lstm = Bidirectional(LSTM(units=100, return_sequences=True))(embed)\n",
    "    out = TimeDistributed(Dense(tag_count, activation=\"softmax\"))(lstm) \n",
    "\n",
    "    model = Model(input, out)\n",
    "    model.compile(optimizer=\"rmsprop\", loss=\"categorical_crossentropy\", metrics=[\"accuracy\"])\n",
    "\n",
    "    model.summary()\n",
    "    \n",
    "    return model"
   ]
  },
  {
   "cell_type": "code",
   "execution_count": 8,
   "metadata": {
    "collapsed": true
   },
   "outputs": [],
   "source": [
    "vocabulary_size = len(token_dict)\n",
    "number_of_classes = len(tag_dict)\n",
    "\n",
    "# need to change y to categorical \n",
    "ycat = [to_categorical(i, num_classes=number_of_classes) for i in y]\n",
    "\n",
    "# reserve 10% of the dataset for testing after training the model\n",
    "X_train, X_test, y_train, y_test = train_test_split(X, ycat, test_size=0.1)"
   ]
  },
  {
   "cell_type": "code",
   "execution_count": 9,
   "metadata": {},
   "outputs": [
    {
     "name": "stdout",
     "output_type": "stream",
     "text": [
      "_________________________________________________________________\n",
      "Layer (type)                 Output Shape              Param #   \n",
      "=================================================================\n",
      "input_1 (InputLayer)         (None, 75)                0         \n",
      "_________________________________________________________________\n",
      "embedding_1 (Embedding)      (None, 75, 20)            1121160   \n",
      "_________________________________________________________________\n",
      "bidirectional_1 (Bidirection (None, 75, 200)           96800     \n",
      "_________________________________________________________________\n",
      "time_distributed_1 (TimeDist (None, 75, 13)            2613      \n",
      "=================================================================\n",
      "Total params: 1,220,573\n",
      "Trainable params: 1,220,573\n",
      "Non-trainable params: 0\n",
      "_________________________________________________________________\n",
      "Train on 36124 samples, validate on 15482 samples\n",
      "Epoch 1/10\n",
      "36124/36124 [==============================] - 107s 3ms/step - loss: 0.2154 - acc: 0.9309 - val_loss: 0.0473 - val_acc: 0.9849\n",
      "Epoch 2/10\n",
      "36124/36124 [==============================] - 104s 3ms/step - loss: 0.0362 - acc: 0.9885 - val_loss: 0.0336 - val_acc: 0.9892\n",
      "Epoch 3/10\n",
      "36124/36124 [==============================] - 105s 3ms/step - loss: 0.0261 - acc: 0.9919 - val_loss: 0.0293 - val_acc: 0.9907\n",
      "Epoch 4/10\n",
      "36124/36124 [==============================] - 106s 3ms/step - loss: 0.0210 - acc: 0.9936 - val_loss: 0.0268 - val_acc: 0.9917\n",
      "Epoch 5/10\n",
      "36124/36124 [==============================] - 106s 3ms/step - loss: 0.0176 - acc: 0.9948 - val_loss: 0.0258 - val_acc: 0.9920\n",
      "Epoch 6/10\n",
      "36124/36124 [==============================] - 109s 3ms/step - loss: 0.0152 - acc: 0.9956 - val_loss: 0.0258 - val_acc: 0.9920\n",
      "Epoch 7/10\n",
      "36124/36124 [==============================] - 107s 3ms/step - loss: 0.0133 - acc: 0.9962 - val_loss: 0.0248 - val_acc: 0.9925\n",
      "Epoch 8/10\n",
      "36124/36124 [==============================] - 107s 3ms/step - loss: 0.0117 - acc: 0.9966 - val_loss: 0.0249 - val_acc: 0.9925\n",
      "Epoch 9/10\n",
      "36124/36124 [==============================] - 108s 3ms/step - loss: 0.0105 - acc: 0.9970 - val_loss: 0.0253 - val_acc: 0.9924\n"
     ]
    },
    {
     "data": {
      "image/png": "[encoded data removed]",
      "text/plain": [
       "<matplotlib.figure.Figure at 0x1a5a6d0a58>"
      ]
     },
     "metadata": {},
     "output_type": "display_data"
    }
   ],
   "source": [
    "model = get_model(MAX_SEQ, vocabulary_size, WORDVEC_DIM, number_of_classes)\n",
    "\n",
    "history = model.fit(X_train, np.array(y_train), batch_size=32, epochs=10, validation_split=0.3, verbose=1,\\\n",
    "                    callbacks=[EarlyStopping(patience=2, monitor='val_loss')])\n",
    "\n",
    "plt.plot(history.history['loss'], label='train')\n",
    "plt.plot(history.history['val_loss'], label='test')   \n",
    "plt.legend()\n",
    "plt.show()"
   ]
  },
  {
   "cell_type": "code",
   "execution_count": 10,
   "metadata": {},
   "outputs": [
    {
     "name": "stdout",
     "output_type": "stream",
     "text": [
      "Accuracy on test partition: 0.9923125217997907\n"
     ]
    }
   ],
   "source": [
    "y_hat = model.predict(X_test)\n",
    "acc = accuracy_score(np.argmax(np.array(y_test), axis=-1).flatten(), np.argmax(y_hat, axis=-1).flatten())\n",
    "print('Accuracy on test partition: {}'.format(acc))"
   ]
  },
  {
   "cell_type": "code",
   "execution_count": 12,
   "metadata": {},
   "outputs": [
    {
     "name": "stdout",
     "output_type": "stream",
     "text": [
      "Prediction:\n",
      "[ 6  6  6  6  6  6  6  6  6  6  6  6  6  6  6  6  6  6  6  6  6  6  6  6  6\n",
      "  6  6  6  6  6  6 12 11  7  9  2  8  9  2 12  9  2 12  3  2 12  9  2  7  7\n",
      "  8 11 12  9  2  8  9 11  2 11 12  9 11  2  0 10  7  7  7 12  2 12  9  2  8]\n",
      "True values:\n",
      "[ 6  6  6  6  6  6  6  6  6  6  6  6  6  6  6  6  6  6  6  6  6  6  6  6  6\n",
      "  6  6  6  6  6  6 12 11  7  9  2  8  9  2 12  9  2 12  3  2 12  9  2  7  7\n",
      "  8 11 12  9  2  8  9 11  2 11 12  9 11  2  0 10  7  7  7 12  2 12  9  2  8]\n"
     ]
    }
   ],
   "source": [
    "y_hat = model.predict(X_test[10].reshape(-1,MAX_SEQ))\n",
    "print('Prediction:')\n",
    "print(np.argmax(y_hat, axis=-1).flatten())\n",
    "print('True values:')\n",
    "print(np.array(np.argmax(np.array(y_test[10]), axis=-1).flatten()))"
   ]
  },
  {
   "cell_type": "code",
   "execution_count": null,
   "metadata": {
    "collapsed": true
   },
   "outputs": [],
   "source": []
  }
 ],
 "metadata": {
  "kernelspec": {
   "display_name": "Python 3",
   "language": "python",
   "name": "python3"
  },
  "language_info": {
   "codemirror_mode": {
    "name": "ipython",
    "version": 3
   },
   "file_extension": ".py",
   "mimetype": "text/x-python",
   "name": "python",
   "nbconvert_exporter": "python",
   "pygments_lexer": "ipython3",
   "version": "3.5.3"
  }
 },
 "nbformat": 4,
 "nbformat_minor": 2
}
