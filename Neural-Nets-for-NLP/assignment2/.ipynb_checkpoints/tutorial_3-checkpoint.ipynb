{
 "cells": [
  {
   "cell_type": "markdown",
   "metadata": {},
   "source": [
    "# Adapted from:\n",
    "## \"Guide To Sequence Tagging With Neural Networks In Python\"\n",
    "\n",
    "## Reference:\n",
    "https://www.depends-on-the-definition.com/guide-sequence-tagging-neural-networks-python/"
   ]
  },
  {
   "cell_type": "code",
   "execution_count": 1,
   "metadata": {},
   "outputs": [
    {
     "data": {
      "text/html": [
       "<div>\n",
       "<style scoped>\n",
       "    .dataframe tbody tr th:only-of-type {\n",
       "        vertical-align: middle;\n",
       "    }\n",
       "\n",
       "    .dataframe tbody tr th {\n",
       "        vertical-align: top;\n",
       "    }\n",
       "\n",
       "    .dataframe thead th {\n",
       "        text-align: right;\n",
       "    }\n",
       "</style>\n",
       "<table border=\"1\" class=\"dataframe\">\n",
       "  <thead>\n",
       "    <tr style=\"text-align: right;\">\n",
       "      <th></th>\n",
       "      <th>Sentence #</th>\n",
       "      <th>Word</th>\n",
       "      <th>POS</th>\n",
       "      <th>Tag</th>\n",
       "    </tr>\n",
       "  </thead>\n",
       "  <tbody>\n",
       "    <tr>\n",
       "      <th>1048565</th>\n",
       "      <td>Sentence: 47958</td>\n",
       "      <td>impact</td>\n",
       "      <td>NN</td>\n",
       "      <td>O</td>\n",
       "    </tr>\n",
       "    <tr>\n",
       "      <th>1048566</th>\n",
       "      <td>Sentence: 47958</td>\n",
       "      <td>.</td>\n",
       "      <td>.</td>\n",
       "      <td>O</td>\n",
       "    </tr>\n",
       "    <tr>\n",
       "      <th>1048567</th>\n",
       "      <td>Sentence: 47959</td>\n",
       "      <td>Indian</td>\n",
       "      <td>JJ</td>\n",
       "      <td>B-gpe</td>\n",
       "    </tr>\n",
       "    <tr>\n",
       "      <th>1048568</th>\n",
       "      <td>Sentence: 47959</td>\n",
       "      <td>forces</td>\n",
       "      <td>NNS</td>\n",
       "      <td>O</td>\n",
       "    </tr>\n",
       "    <tr>\n",
       "      <th>1048569</th>\n",
       "      <td>Sentence: 47959</td>\n",
       "      <td>said</td>\n",
       "      <td>VBD</td>\n",
       "      <td>O</td>\n",
       "    </tr>\n",
       "    <tr>\n",
       "      <th>1048570</th>\n",
       "      <td>Sentence: 47959</td>\n",
       "      <td>they</td>\n",
       "      <td>PRP</td>\n",
       "      <td>O</td>\n",
       "    </tr>\n",
       "    <tr>\n",
       "      <th>1048571</th>\n",
       "      <td>Sentence: 47959</td>\n",
       "      <td>responded</td>\n",
       "      <td>VBD</td>\n",
       "      <td>O</td>\n",
       "    </tr>\n",
       "    <tr>\n",
       "      <th>1048572</th>\n",
       "      <td>Sentence: 47959</td>\n",
       "      <td>to</td>\n",
       "      <td>TO</td>\n",
       "      <td>O</td>\n",
       "    </tr>\n",
       "    <tr>\n",
       "      <th>1048573</th>\n",
       "      <td>Sentence: 47959</td>\n",
       "      <td>the</td>\n",
       "      <td>DT</td>\n",
       "      <td>O</td>\n",
       "    </tr>\n",
       "    <tr>\n",
       "      <th>1048574</th>\n",
       "      <td>Sentence: 47959</td>\n",
       "      <td>attack</td>\n",
       "      <td>NN</td>\n",
       "      <td>O</td>\n",
       "    </tr>\n",
       "  </tbody>\n",
       "</table>\n",
       "</div>"
      ],
      "text/plain": [
       "              Sentence #       Word  POS    Tag\n",
       "1048565  Sentence: 47958     impact   NN      O\n",
       "1048566  Sentence: 47958          .    .      O\n",
       "1048567  Sentence: 47959     Indian   JJ  B-gpe\n",
       "1048568  Sentence: 47959     forces  NNS      O\n",
       "1048569  Sentence: 47959       said  VBD      O\n",
       "1048570  Sentence: 47959       they  PRP      O\n",
       "1048571  Sentence: 47959  responded  VBD      O\n",
       "1048572  Sentence: 47959         to   TO      O\n",
       "1048573  Sentence: 47959        the   DT      O\n",
       "1048574  Sentence: 47959     attack   NN      O"
      ]
     },
     "execution_count": 1,
     "metadata": {},
     "output_type": "execute_result"
    }
   ],
   "source": [
    "import pandas as pd\n",
    "import numpy as np\n",
    "\n",
    "data = pd.read_csv(\"ner_dataset.csv\", encoding=\"latin1\")\n",
    "data = data.fillna(method=\"ffill\")\n",
    "data.tail(10)"
   ]
  },
  {
   "cell_type": "code",
   "execution_count": 2,
   "metadata": {},
   "outputs": [
    {
     "data": {
      "text/plain": [
       "35179"
      ]
     },
     "execution_count": 2,
     "metadata": {},
     "output_type": "execute_result"
    }
   ],
   "source": [
    "words = list(set(data[\"Word\"].values))\n",
    "words.append(\"ENDPAD\")\n",
    "n_words = len(words); n_words"
   ]
  },
  {
   "cell_type": "code",
   "execution_count": 3,
   "metadata": {},
   "outputs": [
    {
     "data": {
      "text/plain": [
       "43"
      ]
     },
     "execution_count": 3,
     "metadata": {},
     "output_type": "execute_result"
    }
   ],
   "source": [
    "tags = list(set(data[\"POS\"].values))\n",
    "tags.append(\"ENDPAD\")\n",
    "n_tags = len(tags); n_tags"
   ]
  },
  {
   "cell_type": "code",
   "execution_count": 4,
   "metadata": {
    "collapsed": true
   },
   "outputs": [],
   "source": [
    "class SentenceGetter(object):\n",
    "    \n",
    "    def __init__(self, data):\n",
    "        self.n_sent = 1\n",
    "        self.data = data\n",
    "        self.empty = False\n",
    "        agg_func = lambda s: [(w, p, t) for w, p, t in zip(s[\"Word\"].values.tolist(),\n",
    "                                                           s[\"POS\"].values.tolist(),\n",
    "                                                           s[\"Tag\"].values.tolist())]\n",
    "        self.grouped = self.data.groupby(\"Sentence #\").apply(agg_func)\n",
    "        self.sentences = [s for s in self.grouped]\n",
    "    \n",
    "    def get_next(self):\n",
    "        try:\n",
    "            s = self.grouped[\"Sentence: {}\".format(self.n_sent)]\n",
    "            self.n_sent += 1\n",
    "            return s\n",
    "        except:\n",
    "            return None"
   ]
  },
  {
   "cell_type": "code",
   "execution_count": 5,
   "metadata": {},
   "outputs": [
    {
     "name": "stdout",
     "output_type": "stream",
     "text": [
      "[('Thousands', 'NNS', 'O'), ('of', 'IN', 'O'), ('demonstrators', 'NNS', 'O'), ('have', 'VBP', 'O'), ('marched', 'VBN', 'O'), ('through', 'IN', 'O'), ('London', 'NNP', 'B-geo'), ('to', 'TO', 'O'), ('protest', 'VB', 'O'), ('the', 'DT', 'O'), ('war', 'NN', 'O'), ('in', 'IN', 'O'), ('Iraq', 'NNP', 'B-geo'), ('and', 'CC', 'O'), ('demand', 'VB', 'O'), ('the', 'DT', 'O'), ('withdrawal', 'NN', 'O'), ('of', 'IN', 'O'), ('British', 'JJ', 'B-gpe'), ('troops', 'NNS', 'O'), ('from', 'IN', 'O'), ('that', 'DT', 'O'), ('country', 'NN', 'O'), ('.', '.', 'O')]\n"
     ]
    }
   ],
   "source": [
    "getter = SentenceGetter(data)\n",
    "sent = getter.get_next()\n",
    "print(sent)"
   ]
  },
  {
   "cell_type": "code",
   "execution_count": 6,
   "metadata": {},
   "outputs": [
    {
     "data": {
      "image/png": "[encoded data removed]",
      "text/plain": [
       "<matplotlib.figure.Figure at 0x113d63a20>"
      ]
     },
     "metadata": {},
     "output_type": "display_data"
    }
   ],
   "source": [
    "# get all sentences\n",
    "sentences = getter.sentences\n",
    "\n",
    "# plot lengths\n",
    "import matplotlib.pyplot as plt\n",
    "plt.style.use(\"ggplot\")\n",
    "plt.hist([len(s) for s in sentences], bins=50)\n",
    "plt.show()"
   ]
  },
  {
   "cell_type": "code",
   "execution_count": 7,
   "metadata": {},
   "outputs": [
    {
     "name": "stdout",
     "output_type": "stream",
     "text": [
      "27970\n",
      "38\n"
     ]
    },
    {
     "name": "stderr",
     "output_type": "stream",
     "text": [
      "Using TensorFlow backend.\n"
     ]
    },
    {
     "name": "stdout",
     "output_type": "stream",
     "text": [
      "[ 8176 15567 18547 10513  9916 17936  1247 13778 17936 25839 18671 28144\n",
      " 12715  2634 26246  5730 30706 26642  7716 29426    22 32996  5611  6363\n",
      " 34965 35178 35178 35178 35178 35178 35178 35178 35178 35178 35178 35178\n",
      " 35178 35178 35178 35178 35178 35178 35178 35178 35178 35178 35178 35178\n",
      " 35178 35178]\n",
      "[40 16 20 38 20 41 27 28 41 40 40 16 30  2 28 33  4 30  2 33 28 28 12 37 23\n",
      " 42 42 42 42 42 42 42 42 42 42 42 42 42 42 42 42 42 42 42 42 42 42 42 42 42]\n"
     ]
    }
   ],
   "source": [
    "# create sequences and pad them to length 50\n",
    "max_len = 50\n",
    "\n",
    "word2idx = {w: i for i, w in enumerate(words)}\n",
    "tag2idx = {t: i for i, t in enumerate(tags)}\n",
    "print(word2idx[\"Obama\"])\n",
    "print(tag2idx[\"PRP\"])\n",
    "\n",
    "# pad word sequence with ENDPAD index\n",
    "from keras.preprocessing.sequence import pad_sequences\n",
    "X = [[word2idx[w[0]] for w in s] for s in sentences]\n",
    "X = pad_sequences(maxlen=max_len, sequences=X, padding=\"post\", value=n_words - 1)\n",
    "print(X[1])\n",
    "\n",
    "# pad pos tag sequence with ENDPAD index\n",
    "y = [[tag2idx[w[1]] for w in s] for s in sentences]\n",
    "y = pad_sequences(maxlen=max_len, sequences=y, padding=\"post\", value=n_tags - 1)\n",
    "print(y[1])"
   ]
  },
  {
   "cell_type": "code",
   "execution_count": 8,
   "metadata": {
    "collapsed": true
   },
   "outputs": [],
   "source": [
    "# change y to categorical \n",
    "\n",
    "from keras.utils import to_categorical\n",
    "ycat = [to_categorical(i, num_classes=n_tags) for i in y]\n",
    "\n",
    "# partition dataset\n",
    "from sklearn.model_selection import train_test_split\n",
    "X_tr, X_te, y_tr, y_te = train_test_split(X, ycat, test_size=0.1)"
   ]
  },
  {
   "cell_type": "code",
   "execution_count": 9,
   "metadata": {},
   "outputs": [
    {
     "name": "stdout",
     "output_type": "stream",
     "text": [
      "_________________________________________________________________\n",
      "Layer (type)                 Output Shape              Param #   \n",
      "=================================================================\n",
      "input_1 (InputLayer)         (None, 50)                0         \n",
      "_________________________________________________________________\n",
      "embedding_1 (Embedding)      (None, 50, 50)            1758950   \n",
      "_________________________________________________________________\n",
      "dropout_1 (Dropout)          (None, 50, 50)            0         \n",
      "_________________________________________________________________\n",
      "bidirectional_1 (Bidirection (None, 50, 200)           120800    \n",
      "_________________________________________________________________\n",
      "time_distributed_1 (TimeDist (None, 50, 43)            8643      \n",
      "=================================================================\n",
      "Total params: 1,888,393\n",
      "Trainable params: 1,888,393\n",
      "Non-trainable params: 0\n",
      "_________________________________________________________________\n",
      "Train on 38846 samples, validate on 4317 samples\n",
      "Epoch 1/5\n",
      "38846/38846 [==============================] - 100s 3ms/step - loss: 0.3619 - acc: 0.9012 - val_loss: 0.0613 - val_acc: 0.9826\n",
      "Epoch 2/5\n",
      "38846/38846 [==============================] - 97s 3ms/step - loss: 0.0462 - acc: 0.9867 - val_loss: 0.0417 - val_acc: 0.9879\n",
      "Epoch 3/5\n",
      "38846/38846 [==============================] - 95s 2ms/step - loss: 0.0322 - acc: 0.9907 - val_loss: 0.0362 - val_acc: 0.9895\n",
      "Epoch 4/5\n",
      "38846/38846 [==============================] - 98s 3ms/step - loss: 0.0259 - acc: 0.9926 - val_loss: 0.0333 - val_acc: 0.9902\n",
      "Epoch 5/5\n",
      "38846/38846 [==============================] - 98s 3ms/step - loss: 0.0220 - acc: 0.9936 - val_loss: 0.0323 - val_acc: 0.9905\n",
      "CPU times: user 37min 6s, sys: 5min 49s, total: 42min 55s\n",
      "Wall time: 8min 12s\n"
     ]
    }
   ],
   "source": [
    "%%time\n",
    "\n",
    "# implement bi-directional LSTM with embedding layer of dimension 50\n",
    "\n",
    "# references used to understand this model:\n",
    "# https://machinelearningmastery.com/timedistributed-layer-for-long-short-term-memory-networks-in-python/\n",
    "# https://github.com/keras-team/keras/issues/1029\n",
    "\n",
    "from keras.models import Model, Input\n",
    "from keras.layers import LSTM, Embedding, Dense, TimeDistributed, Dropout, Bidirectional\n",
    "\n",
    "input = Input(shape=(max_len,), dtype='float64')\n",
    "model = Embedding(input_dim=n_words, output_dim=50, input_length=max_len, embeddings_initializer='uniform')(input)\n",
    "model = Dropout(0.1)(model)\n",
    "model = Bidirectional(LSTM(units=100, return_sequences=True, recurrent_dropout=0.1))(model)\n",
    "out = TimeDistributed(Dense(n_tags, activation=\"softmax\"))(model)  # softmax output layer\n",
    "\n",
    "model = Model(input, out)\n",
    "model.compile(optimizer=\"rmsprop\", loss=\"categorical_crossentropy\", metrics=[\"accuracy\"])\n",
    "\n",
    "model.summary()\n",
    "\n",
    "history = model.fit(X_tr, np.array(y_tr), batch_size=32, epochs=5, validation_split=0.1, verbose=1)"
   ]
  },
  {
   "cell_type": "code",
   "execution_count": 10,
   "metadata": {},
   "outputs": [
    {
     "data": {
      "image/png": "[encoded data removed]",
      "text/plain": [
       "<matplotlib.figure.Figure at 0x1141838d0>"
      ]
     },
     "metadata": {},
     "output_type": "display_data"
    }
   ],
   "source": [
    "hist = pd.DataFrame(history.history)\n",
    "\n",
    "plt.plot(hist[\"acc\"])\n",
    "plt.plot(hist[\"val_acc\"])\n",
    "plt.legend()\n",
    "_ = plt.show()"
   ]
  },
  {
   "cell_type": "code",
   "execution_count": 11,
   "metadata": {},
   "outputs": [
    {
     "data": {
      "image/png": "[encoded data removed]",
      "text/plain": [
       "<matplotlib.figure.Figure at 0x1a659eb7f0>"
      ]
     },
     "metadata": {},
     "output_type": "display_data"
    }
   ],
   "source": [
    "plt.plot(hist['loss'], label='train')\n",
    "plt.plot(hist['val_loss'], label='test')   \n",
    "plt.legend()\n",
    "plt.show()"
   ]
  },
  {
   "cell_type": "code",
   "execution_count": 46,
   "metadata": {},
   "outputs": [
    {
     "name": "stdout",
     "output_type": "stream",
     "text": [
      "Word            (True ): Pred\n",
      "Years           (NNS  ): NN\n",
      "of              (IN   ): IN\n",
      "drought         (NN   ): NN\n",
      ",               (,    ): ,\n",
      "flooding        (NN   ): NN\n",
      ",               (,    ): ,\n",
      "civil           (JJ   ): JJ\n",
      "conflict        (NN   ): NN\n",
      ",               (,    ): ,\n",
      "disease         (NN   ): NN\n",
      "and             (CC   ): CC\n",
      "food            (NN   ): NN\n",
      "shortages       (NNS  ): NNS\n",
      "have            (VBP  ): VBP\n",
      "left            (VBN  ): VBN\n",
      "residents       (NNS  ): NNS\n",
      "in              (IN   ): IN\n",
      "Ogaden          (NNP  ): NNP\n",
      "vulnerable      (NN   ): JJ\n",
      "to              (TO   ): TO\n",
      "poverty         (NN   ): NN\n",
      "and             (CC   ): CC\n",
      "famine          (NN   ): NN\n",
      ".               (.    ): .\n",
      "ENDPAD          (ENDPAD): ENDPAD\n",
      "ENDPAD          (ENDPAD): ENDPAD\n",
      "ENDPAD          (ENDPAD): ENDPAD\n",
      "ENDPAD          (ENDPAD): ENDPAD\n",
      "ENDPAD          (ENDPAD): ENDPAD\n",
      "ENDPAD          (ENDPAD): ENDPAD\n",
      "ENDPAD          (ENDPAD): ENDPAD\n",
      "ENDPAD          (ENDPAD): ENDPAD\n",
      "ENDPAD          (ENDPAD): ENDPAD\n",
      "ENDPAD          (ENDPAD): ENDPAD\n",
      "ENDPAD          (ENDPAD): ENDPAD\n",
      "ENDPAD          (ENDPAD): ENDPAD\n",
      "ENDPAD          (ENDPAD): ENDPAD\n",
      "ENDPAD          (ENDPAD): ENDPAD\n",
      "ENDPAD          (ENDPAD): ENDPAD\n",
      "ENDPAD          (ENDPAD): ENDPAD\n",
      "ENDPAD          (ENDPAD): ENDPAD\n",
      "ENDPAD          (ENDPAD): ENDPAD\n",
      "ENDPAD          (ENDPAD): ENDPAD\n",
      "ENDPAD          (ENDPAD): ENDPAD\n",
      "ENDPAD          (ENDPAD): ENDPAD\n",
      "ENDPAD          (ENDPAD): ENDPAD\n",
      "ENDPAD          (ENDPAD): ENDPAD\n",
      "ENDPAD          (ENDPAD): ENDPAD\n",
      "ENDPAD          (ENDPAD): ENDPAD\n",
      "ENDPAD          (ENDPAD): ENDPAD\n"
     ]
    }
   ],
   "source": [
    "def get_tag(one_hot_cat):\n",
    "    idx = [i for i, j in enumerate(one_hot_cat.tolist()) if j == 1].pop()\n",
    "    tag = [k for k, v in tag2idx.items() if v == idx].pop()\n",
    "    return tag\n",
    "    \n",
    "i = 200\n",
    "p = model.predict(np.array([X_te[i]]))\n",
    "p = np.argmax(p, axis=-1)\n",
    "print(\"{:15} ({:5}): {}\".format(\"Word\", \"True\", \"Pred\"))\n",
    "for w, actual, pred in zip(X_te[i], y_te[i], p[0]):\n",
    "    print(\"{:15} ({:5}): {}\".format(words[w], get_tag(actual), tags[pred]))"
   ]
  },
  {
   "cell_type": "code",
   "execution_count": null,
   "metadata": {
    "collapsed": true
   },
   "outputs": [],
   "source": []
  }
 ],
 "metadata": {
  "kernelspec": {
   "display_name": "Python 3",
   "language": "python",
   "name": "python3"
  },
  "language_info": {
   "codemirror_mode": {
    "name": "ipython",
    "version": 3
   },
   "file_extension": ".py",
   "mimetype": "text/x-python",
   "name": "python",
   "nbconvert_exporter": "python",
   "pygments_lexer": "ipython3",
   "version": "3.5.3"
  }
 },
 "nbformat": 4,
 "nbformat_minor": 2
}
