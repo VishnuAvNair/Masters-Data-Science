{
 "cells": [
  {
   "cell_type": "markdown",
   "metadata": {},
   "source": [
    "# L665 ML for NLPSpring 2018 \n",
    "\n",
    "## Assignment 2 - Task 1 \n",
    "\n",
    "Author: Carlos Sathler"
   ]
  },
  {
   "cell_type": "code",
   "execution_count": 1,
   "metadata": {},
   "outputs": [
    {
     "name": "stderr",
     "output_type": "stream",
     "text": [
      "Using TensorFlow backend.\n"
     ]
    },
    {
     "name": "stdout",
     "output_type": "stream",
     "text": [
      "[nltk_data] Downloading package brown to /Users/carlos2/nltk_data...\n",
      "[nltk_data]   Package brown is already up-to-date!\n",
      "[nltk_data] Downloading package universal_tagset to\n",
      "[nltk_data]     /Users/carlos2/nltk_data...\n",
      "[nltk_data]   Package universal_tagset is already up-to-date!\n"
     ]
    },
    {
     "data": {
      "text/plain": [
       "True"
      ]
     },
     "execution_count": 1,
     "metadata": {},
     "output_type": "execute_result"
    }
   ],
   "source": [
    "import numpy as np\n",
    "import nltk\n",
    "\n",
    "import matplotlib.pyplot as plt\n",
    "%matplotlib inline  \n",
    "\n",
    "from keras.preprocessing.sequence import pad_sequences\n",
    "from keras.utils import to_categorical\n",
    "from keras.models import Model, Input\n",
    "from keras.layers import LSTM, Embedding, Dense, TimeDistributed, Dropout, Bidirectional\n",
    "from keras.callbacks import EarlyStopping\n",
    "\n",
    "from sklearn.model_selection import train_test_split\n",
    "from sklearn.metrics import accuracy_score\n",
    "\n",
    "from nltk.corpus import brown\n",
    "nltk.download('brown')\n",
    "nltk.download('universal_tagset')"
   ]
  },
  {
   "cell_type": "code",
   "execution_count": 2,
   "metadata": {},
   "outputs": [
    {
     "name": "stdout",
     "output_type": "stream",
     "text": [
      "CPU times: user 11.1 s, sys: 501 ms, total: 11.6 s\n",
      "Wall time: 12.1 s\n"
     ]
    }
   ],
   "source": [
    "%%time\n",
    "\n",
    "# create lists of tokens and tags from corpora\n",
    "# add UNK to map unknown tag values, PAD to pad sequences for RNN\n",
    "tokens, tags = zip(*brown.tagged_words())\n",
    "tokens = list(tokens)\n",
    "tokens.append('PAD')\n",
    "tags = list(tags)\n",
    "tags.append('PAD')\n",
    "\n",
    "# create token embedding dictionary and inverse dictionary\n",
    "token_dict = {token: no for no, token in enumerate(set(tokens))}\n",
    "token_dict_inv = {no: token for token, no in token_dict.items()}\n",
    "\n",
    "# create tag embedding dictionary and inverse dictionary\n",
    "tag_dict = {tag: no for no, tag in enumerate(set(tags))}\n",
    "tag_dict_inv = {no: tag for tag, no in tag_dict.items()}\n",
    "\n",
    "# Create dictionary with sentence number as key, \n",
    "# and tuple with lists of token, token numbers, tags, tag numbers  \n",
    "\n",
    "sents = {}\n",
    "start = 0\n",
    "for sent_no, token_list in enumerate(brown.sents()):\n",
    "    end = start + len(token_list)\n",
    "    # get tags for this sentence, and then embedding\n",
    "    sent_tokens = tokens[start: end]\n",
    "    token_nos   = [token_dict[token] for token in sent_tokens]\n",
    "    sent_tags   = tags[start: end]\n",
    "    tag_nos     = [tag_dict[tag] for tag in sent_tags]\n",
    "    sents[sent_no] = (tokens, token_nos, tags, tag_nos)\n",
    "    start = end\n",
    "\n",
    "# determine len of longer sentence\n",
    "token_seqs = [sents[1][1] for sents in sents.items()]\n",
    "tag_seqs = [sents[1][3] for sents in sents.items()]"
   ]
  },
  {
   "cell_type": "code",
   "execution_count": 3,
   "metadata": {},
   "outputs": [
    {
     "name": "stdout",
     "output_type": "stream",
     "text": [
      "Number of pos tags: 473\n",
      "\n",
      "List of tags: dict_values(['VBN-TL-HL', 'RB$', 'VBG-NC', 'NN-TL', '(', 'AP+AP-NC', '.-HL', 'FW-BER', 'FW-*', 'FW-TO+VB', 'CD-NC', 'WPS+MD', 'RB+BEZ', 'FW-NPS', 'WDT+BEZ', 'NN-HL', 'FW-AT-TL', 'NRS-TL', 'NNS-TL-HL', 'RBR', 'VBN', 'FW-JJT', 'PP$-TL', 'RB+CS', '*-NC', 'RP-HL', 'PPSS+BEZ*', 'PPS', 'HVN', 'FW-PPL+VBZ', 'AP', 'PP$$', 'PPO', 'CC-TL-HL', 'RP', 'TO+VB', 'NP$', 'FW-NR-TL', 'WPS-NC', 'FW-NN-TL', 'CD-HL', 'NRS', 'BEZ-TL', ')', 'FW-CC', 'FW-NPS-TL', 'RN', 'RB+BEZ-HL', 'FW-VBN', \"''\", 'BEN', 'NR', 'VBG-HL', 'FW-IN+NP-TL', 'WRB+IN', 'WPS+BEZ-TL', 'WPS', 'FW-IN+AT-TL', 'DOZ', ':-TL', 'PPSS+HV', 'WRB', 'FW-UH-TL', 'BEZ-NC', 'NNS', 'FW-PPS', 'AT-TL-HL', 'FW-VB-NC', 'EX+HVZ', 'TO', 'NP+BEZ-NC', 'NN-TL-NC', '(-HL', 'VBD-HL', 'FW-WDT', 'VBN-TL-NC', 'AP-TL', 'JJT', 'NN', 'NP-TL-HL', 'VB-NC', 'NP-TL', 'DO-NC', 'PPSS', 'DOZ*', 'NNS-HL', 'DOD', 'NNS$-TL-HL', 'CC-NC', 'VBG', 'PP$', 'JJT-HL', 'VBZ-HL', 'WPS+BEZ-NC', 'MD*', 'FW-CS', 'UH', 'FW-AT+NP-TL', 'RP-NC', 'FW-PPO', 'NR+MD', 'NP-NC', 'PPSS+BER-N', 'FW-OD-NC', 'BEM', 'TO-TL', 'WDT+BEZ-NC', '.-TL', 'DTI', 'PPL', 'PPS-TL', 'VBN-HL', 'NNS$-HL', 'QL-TL', 'FW-PPSS+HV', 'NN+BEZ', 'PPSS+MD-NC', 'BE', 'NN+IN', 'CS-TL', 'DTI-HL', 'BEM-NC', 'FW-NN$', 'PN+MD', 'FW-CD-TL', 'WDT+DO+PPS', 'BER-HL', 'VBG-TL', 'FW-NN$-TL', 'NN+NN-NC', 'PPSS-NC', 'FW-PPSS', 'WDT+BER', 'JJ-TL', 'HV*', 'VB+RP', 'FW-PP$-NC', 'DT', 'EX+MD', 'RB-HL', 'NR-HL', 'FW-VBG', 'WRB+DO', 'EX-HL', 'BER*-NC', 'FW-IN+AT-T', 'FW-*-TL', 'PPSS+BER-NC', 'EX+HVD', 'ABN-TL', 'FW-PN', 'NP+HVZ', 'HV-HL', 'HVZ*', 'FW-IN+NN', 'NN-TL-HL', 'NP$-HL', 'BER*', 'NR-TL-HL', 'BEDZ*', 'MD-HL', '*-HL', 'PPO-NC', 'NP-HL', 'DTI-TL', 'ABN-NC', 'WPS+BEZ', 'PN-TL', ',-TL', 'CC-HL', 'BE-TL', 'AT', 'WDT+DOD', 'ABN', 'PPLS', 'AT-TL', 'IN-HL', 'FW-QL', 'FW-UH', 'FW-VBG-TL', 'FW-JJ-NC', 'HVZ-TL', 'HVG-HL', 'VB+AT', 'NN$', 'HVD', 'PPSS+BER', 'FW-CD', 'RB+BEZ-NC', 'JJS-TL', 'VBN+TO', '*-TL', 'NR-NC', 'NN+HVD-TL', '``', 'JJ-TL-HL', 'NNS+MD', 'NNS$-TL', 'BED-NC', 'CD-TL', 'NN+HVZ', 'RP+IN', 'VBG+TO', 'NPS$-HL', 'NR-TL', 'TO-NC', 'WPS+HVZ', 'FW-DTS', 'JJR-HL', 'FW-DT+BEZ', 'FW-NN-TL-NC', 'WDT+BEZ-HL', 'WPO-TL', 'PPO-TL', 'PN', 'BEM*', '---HL', ',-HL', 'FW-IN-TL', 'FW-CC-TL', 'MD*-HL', 'PPS+MD', 'FW-RB', 'NP+BEZ', 'QL', 'NNS-NC', 'FW-AT-HL', 'WQL', 'DO*', 'FW-PP$', 'BEN-TL', 'PN+BEZ', 'PPS+HVZ', 'WRB+DOD', 'NP+HVZ-NC', '.-NC', 'PPL-NC', '--', 'PPSS+BEZ', 'PPS+HVD', 'NR$', 'PPS-NC', 'FW-OD-TL', 'BED*', 'NNS-TL', 'PPSS+MD', 'DOD*', 'JJ-TL-NC', 'BER-NC', 'CD', 'CC', 'NN+HVZ-TL', 'DTS-HL', 'DTS+BEZ', 'NN+BEZ-TL', 'NPS-HL', 'MD-NC', 'FW-JJ', 'NPS-TL', 'WDT+BER+PP', 'JJ$-TL', 'VBN-TL', 'IN+PPO', 'FW-NP-TL', 'NP$-TL', 'PN-HL', ')-HL', 'DT-NC', 'DT$', 'FW-AT', 'FW-IN+AT', 'HVG', 'DOZ-TL', 'VBN-NC', 'DOZ-HL', 'DO*-HL', 'DO', 'WRB-TL', 'BEDZ', 'FW-VBD-TL', ',-NC', 'FW-VBD', 'CD-TL-HL', 'WRB+DOD*', 'PPSS-HL', 'AP$', 'DTS', 'HV+TO', 'FW-VBZ', 'DOD*-TL', 'VB+TO', 'WDT', 'JJR+CS', 'WPO', 'FW-PP$-TL', 'MD+TO', 'FW-NNS-NC', 'VBZ-TL', 'PPS-HL', 'CS-NC', 'FW-IN', 'ABX', 'QLP', 'JJS-HL', 'WPS-TL', 'FW-NN', 'IN+IN', 'PPSS-TL', 'JJ-NC', 'FW-PPO+IN', 'WDT-NC', 'PPS+BEZ-HL', 'IN-NC', 'UH-HL', \"'\", 'BEZ-HL', 'PN-NC', 'OD-TL', 'VB+PPO', 'QL-HL', 'DT-TL', 'RB-TL', '*', 'FW-PPL', 'BEG', 'WPS-HL', 'BER-TL', 'FW-BEZ', 'QL-NC', 'FW-UH-NC', 'OD', 'FW-NNS-TL', 'HVZ', 'VBD-NC', 'PAD', 'CS', 'NR$-TL', 'WDT+BEZ-TL', 'MD+PPSS', 'DOZ*-TL', 'VB-TL', 'WRB+BEZ', 'PN+HVD', 'NPS$', 'FW-IN+NN-TL', 'UH-NC', ':', '.', 'WRB+BER', 'NN+MD', 'CD$', ':-HL', 'WRB-HL', 'BED', 'EX', 'NN$-HL', 'PPO-HL', 'DTX', 'PPSS+BEM', 'RBT', 'RP-TL', 'VBD', 'BEDZ-HL', 'CC-TL', 'BER', 'NP', 'NNS$-NC', 'WPO-NC', 'VB-HL', 'PPL-TL', 'BEDZ-NC', 'VBD-TL', 'AT-HL', 'NPS-NC', 'HVD-HL', 'RB-NC', 'NIL', 'DT+BEZ', 'WP$', 'MD-TL', 'RBR+CS', 'RBR-NC', 'FW-WPS', 'HVD*', 'PP$-HL', 'PPSS+HV-TL', 'PN+HVZ', 'HVZ-NC', 'FW-JJR', 'PPSS+BER-TL', 'WQL-TL', 'OD-HL', 'IN', 'NN-NC', 'DOD-NC', 'NN$-TL', 'DO+PPSS', 'FW-NN-NC', 'WRB+DOZ', 'MD+HV', 'FW-VB-TL', 'WRB+BEZ-TL', 'JJ-HL', 'MD', 'VB+JJ-NC', 'DO-HL', 'WPS+HVD', 'FW-DT', 'PPS+BEZ-NC', 'DT+MD', 'NPS', 'JJ', 'VBZ', 'BE-HL', 'FW-AT+NN-TL', 'VBZ-NC', 'AT-NC', 'BEZ*', 'UH-TL', 'VB+VB-NC', 'FW-BE', 'RB', 'JJR', 'AP-NC', 'WRB+MD', 'FW-HV', 'NNS$', 'JJS', 'PPSS+HVD', 'FW-RB-TL', 'HV', 'BEZ', 'FW-NNS', 'PPSS+VB', 'JJT-TL', 'CS-HL', 'NP+MD', 'FW-NR', 'FW-RB+CC', 'FW-NP', 'FW-WPO', 'IN-TL-HL', 'TO-HL', 'HV-NC', 'ABL', 'JJT-NC', 'OD-NC', 'FW-JJ-TL', 'JJ+JJ-NC', 'NPS$-TL', 'PPS+BEZ', 'WDT+HVZ', 'EX-NC', 'HV-TL', 'PPL-HL', 'EX+BEZ', 'DT+BEZ-NC', ',', 'VB', 'WDT-HL', 'NNS-TL-NC', 'IN-TL', 'JJR-NC', 'JJR-TL', 'ABN-HL', 'FW-VB', 'PP$-NC', 'DT-HL', 'DO-TL', 'VB+IN', 'AP-HL', 'WRB-NC', 'PN$'])\n"
     ]
    }
   ],
   "source": [
    "print('Number of pos tags: {}\\n'.format(len(tag_dict_inv)))\n",
    "print('List of tags: {}'.format(tag_dict_inv.values()))"
   ]
  },
  {
   "cell_type": "code",
   "execution_count": 4,
   "metadata": {},
   "outputs": [
    {
     "data": {
      "image/png": "[encoded data removed]",
      "text/plain": [
       "<matplotlib.figure.Figure at 0x1a1dfe63c8>"
      ]
     },
     "metadata": {},
     "output_type": "display_data"
    }
   ],
   "source": [
    "# visualize length of sentences\n",
    "sentence_lengths = [len(seq) for seq in token_seqs]\n",
    "_ = plt.hist(sentence_lengths)"
   ]
  },
  {
   "cell_type": "code",
   "execution_count": 5,
   "metadata": {},
   "outputs": [
    {
     "data": {
      "image/png": "[encoded data removed]",
      "text/plain": [
       "<matplotlib.figure.Figure at 0x1a1e1d5320>"
      ]
     },
     "metadata": {},
     "output_type": "display_data"
    }
   ],
   "source": [
    "_ = plt.boxplot(sentence_lengths)"
   ]
  },
  {
   "cell_type": "code",
   "execution_count": 6,
   "metadata": {
    "collapsed": true
   },
   "outputs": [],
   "source": [
    "# will set MAX_SEQ to reasonable value based on distribution of sentence lengths\n",
    "# this will help better evaluate accuracy of our model\n",
    "MAX_SEQ = 45\n",
    "\n",
    "# pad token and tag sequences to MAX_SEQ with PAD to get X and y for sequence to sequence model\n",
    "X = pad_sequences(maxlen=MAX_SEQ, sequences=token_seqs, padding=\"pre\", value=token_dict['PAD'])\n",
    "y = pad_sequences(maxlen=MAX_SEQ, sequences=tag_seqs, padding=\"pre\", value=tag_dict['PAD'])"
   ]
  },
  {
   "cell_type": "code",
   "execution_count": 7,
   "metadata": {},
   "outputs": [
    {
     "name": "stdout",
     "output_type": "stream",
     "text": [
      "[45247 45247 45247 45247 45247 45247 45247 45247 45247 45247 45247 45247\n",
      " 45247 45247 45247 45247 45247 45247 45247 45247 45247 45247 45247 45247\n",
      " 45247 45247 45247 45247 45247 45247 45247 45247 45247 45247 45247 45247\n",
      " 45247 45247 45247 45247 45247 45247 45247 45247 45247 45247 45247 45247\n",
      " 45247 45247 45247 45247 45247 45247 45247 45247 45247 45247 45247 45247\n",
      " 45247 52365 51677  6845 49419 31486 45830 51782 32645 15143 55231  7159\n",
      " 38725 40190  6810]\n",
      "[334 334 334 334 334 334 334 334 334 334 334 334 334 334 334 334 334 334\n",
      " 334 334 334 334 334 334 334 334 334 334 334 334 334 334 334 334 334 334\n",
      " 334 334 334 334 334 334 334 334 334 334 334 334 334 334 334 334 334 334\n",
      " 334 334 334 334 334 334 334  27 361 335 171  78 194 458  64  69 458  49\n",
      " 137  78 347]\n"
     ]
    }
   ],
   "source": [
    "# check if X and y were properly created\n",
    "print(X[10])\n",
    "print(y[10])"
   ]
  },
  {
   "cell_type": "code",
   "execution_count": 8,
   "metadata": {
    "collapsed": true
   },
   "outputs": [],
   "source": [
    "# define LSTM bidirectional seq to seq model\n",
    "# will vectorize word embeddings to vectors of size wordvec_dim\n",
    "\n",
    "WORDVEC_DIM = 20\n",
    "\n",
    "def get_model(max_seq, voc_size, wordvec_dim, tag_count):\n",
    "    \n",
    "    input = Input(shape=(max_seq,), dtype='float64')\n",
    "    embed = Embedding(input_dim=voc_size, output_dim=wordvec_dim, input_length=MAX_SEQ, \\\n",
    "                      embeddings_initializer='uniform')(input)\n",
    "    #drop = Dropout(0.5)(embed)\n",
    "    #lstm = Bidirectional(LSTM(units=100, return_sequences=True, recurrent_dropout=0.1))(embed)\n",
    "    lstm = Bidirectional(LSTM(units=100, return_sequences=True))(embed)\n",
    "    out = TimeDistributed(Dense(tag_count, activation=\"softmax\"))(lstm) \n",
    "\n",
    "    model = Model(input, out)\n",
    "    model.compile(optimizer=\"rmsprop\", loss=\"categorical_crossentropy\", metrics=[\"accuracy\"])\n",
    "\n",
    "    model.summary()\n",
    "    \n",
    "    return model"
   ]
  },
  {
   "cell_type": "code",
   "execution_count": null,
   "metadata": {
    "collapsed": true
   },
   "outputs": [],
   "source": [
    "vocabulary_size = len(token_dict)\n",
    "number_of_classes = len(tag_dict)\n",
    "\n",
    "# need to change y to categorical \n",
    "ycat = [to_categorical(i, num_classes=number_of_classes) for i in y]\n",
    "\n",
    "# reserve 10% of the dataset for testing after training the model\n",
    "X_train, X_test, y_train, y_test = train_test_split(X, ycat, test_size=0.1)"
   ]
  },
  {
   "cell_type": "code",
   "execution_count": null,
   "metadata": {},
   "outputs": [
    {
     "name": "stdout",
     "output_type": "stream",
     "text": [
      "_________________________________________________________________\n",
      "Layer (type)                 Output Shape              Param #   \n",
      "=================================================================\n",
      "input_1 (InputLayer)         (None, 75)                0         \n",
      "_________________________________________________________________\n",
      "embedding_1 (Embedding)      (None, 75, 20)            1121160   \n",
      "_________________________________________________________________\n",
      "bidirectional_1 (Bidirection (None, 75, 200)           96800     \n",
      "_________________________________________________________________\n",
      "time_distributed_1 (TimeDist (None, 75, 473)           95073     \n",
      "=================================================================\n",
      "Total params: 1,313,033\n",
      "Trainable params: 1,313,033\n",
      "Non-trainable params: 0\n",
      "_________________________________________________________________\n",
      "Train on 36124 samples, validate on 15482 samples\n",
      "Epoch 1/10\n",
      "36124/36124 [==============================] - 256s 7ms/step - loss: 0.5606 - acc: 0.8671 - val_loss: 0.2029 - val_acc: 0.9501\n",
      "Epoch 2/10\n",
      "36124/36124 [==============================] - 259s 7ms/step - loss: 0.1343 - acc: 0.9670 - val_loss: 0.1061 - val_acc: 0.9740\n",
      "Epoch 3/10\n",
      "36124/36124 [==============================] - 250s 7ms/step - loss: 0.0816 - acc: 0.9802 - val_loss: 0.0821 - val_acc: 0.9796\n",
      "Epoch 4/10\n",
      "36124/36124 [==============================] - 253s 7ms/step - loss: 0.0619 - acc: 0.9851 - val_loss: 0.0717 - val_acc: 0.9820\n",
      "Epoch 5/10\n",
      "36124/36124 [==============================] - 276s 8ms/step - loss: 0.0511 - acc: 0.9878 - val_loss: 0.0660 - val_acc: 0.9834\n",
      "Epoch 6/10\n",
      "36124/36124 [==============================] - 261s 7ms/step - loss: 0.0441 - acc: 0.9896 - val_loss: 0.0627 - val_acc: 0.9845\n",
      "Epoch 7/10\n",
      "36124/36124 [==============================] - 250s 7ms/step - loss: 0.0390 - acc: 0.9910 - val_loss: 0.0609 - val_acc: 0.9851\n",
      "Epoch 8/10\n",
      "36096/36124 [============================>.] - ETA: 0s - loss: 0.0350 - acc: 0.9919"
     ]
    },
    {
     "name": "stderr",
     "output_type": "stream",
     "text": [
      "ERROR:root:Internal Python error in the inspect module.\n",
      "Below is the traceback from this internal error.\n",
      "\n"
     ]
    },
    {
     "name": "stdout",
     "output_type": "stream",
     "text": [
      "Traceback (most recent call last):\n",
      "  File \"/Users/carlos2/anaconda/envs/nlp/lib/python3.5/site-packages/IPython/core/interactiveshell.py\", line 2910, in run_code\n",
      "    exec(code_obj, self.user_global_ns, self.user_ns)\n",
      "  File \"<ipython-input-10-85cce1dfa5b7>\", line 3, in <module>\n",
      "    history = model.fit(X_train, np.array(y_train), batch_size=32, epochs=10, validation_split=0.3, verbose=1,                    callbacks=[EarlyStopping(patience=2, monitor='val_loss')])\n",
      "  File \"/Users/carlos2/anaconda/envs/nlp/lib/python3.5/site-packages/keras/engine/training.py\", line 1657, in fit\n",
      "    validation_steps=validation_steps)\n",
      "  File \"/Users/carlos2/anaconda/envs/nlp/lib/python3.5/site-packages/keras/engine/training.py\", line 1227, in _fit_loop\n",
      "    verbose=0)\n",
      "  File \"/Users/carlos2/anaconda/envs/nlp/lib/python3.5/site-packages/keras/engine/training.py\", line 1368, in _test_loop\n",
      "    ins_batch = _slice_arrays(ins, batch_ids)\n",
      "  File \"/Users/carlos2/anaconda/envs/nlp/lib/python3.5/site-packages/keras/engine/training.py\", line 415, in _slice_arrays\n",
      "    return [None if x is None else x[start] for x in arrays]\n",
      "  File \"/Users/carlos2/anaconda/envs/nlp/lib/python3.5/site-packages/keras/engine/training.py\", line 415, in <listcomp>\n",
      "    return [None if x is None else x[start] for x in arrays]\n",
      "KeyboardInterrupt\n",
      "\n",
      "During handling of the above exception, another exception occurred:\n",
      "\n",
      "Traceback (most recent call last):\n",
      "  File \"/Users/carlos2/anaconda/envs/nlp/lib/python3.5/site-packages/IPython/core/interactiveshell.py\", line 1828, in showtraceback\n",
      "    stb = value._render_traceback_()\n",
      "AttributeError: 'KeyboardInterrupt' object has no attribute '_render_traceback_'\n",
      "\n",
      "During handling of the above exception, another exception occurred:\n",
      "\n",
      "Traceback (most recent call last):\n",
      "  File \"/Users/carlos2/anaconda/envs/nlp/lib/python3.5/site-packages/IPython/core/ultratb.py\", line 1090, in get_records\n",
      "    return _fixed_getinnerframes(etb, number_of_lines_of_context, tb_offset)\n",
      "  File \"/Users/carlos2/anaconda/envs/nlp/lib/python3.5/site-packages/IPython/core/ultratb.py\", line 311, in wrapped\n",
      "    return f(*args, **kwargs)\n",
      "  File \"/Users/carlos2/anaconda/envs/nlp/lib/python3.5/site-packages/IPython/core/ultratb.py\", line 345, in _fixed_getinnerframes\n",
      "    records = fix_frame_records_filenames(inspect.getinnerframes(etb, context))\n",
      "  File \"/Users/carlos2/anaconda/envs/nlp/lib/python3.5/inspect.py\", line 1454, in getinnerframes\n",
      "    frameinfo = (tb.tb_frame,) + getframeinfo(tb, context)\n",
      "  File \"/Users/carlos2/anaconda/envs/nlp/lib/python3.5/inspect.py\", line 1411, in getframeinfo\n",
      "    filename = getsourcefile(frame) or getfile(frame)\n",
      "  File \"/Users/carlos2/anaconda/envs/nlp/lib/python3.5/inspect.py\", line 671, in getsourcefile\n",
      "    if getattr(getmodule(object, filename), '__loader__', None) is not None:\n",
      "  File \"/Users/carlos2/anaconda/envs/nlp/lib/python3.5/inspect.py\", line 714, in getmodule\n",
      "    f = getabsfile(module)\n",
      "  File \"/Users/carlos2/anaconda/envs/nlp/lib/python3.5/inspect.py\", line 684, in getabsfile\n",
      "    return os.path.normcase(os.path.abspath(_filename))\n",
      "  File \"/Users/carlos2/anaconda/envs/nlp/lib/python3.5/posixpath.py\", line 364, in abspath\n",
      "    return normpath(path)\n",
      "  File \"/Users/carlos2/anaconda/envs/nlp/lib/python3.5/posixpath.py\", line 346, in normpath\n",
      "    new_comps.append(comp)\n",
      "KeyboardInterrupt\n"
     ]
    },
    {
     "ename": "KeyboardInterrupt",
     "evalue": "",
     "output_type": "error",
     "traceback": [
      "\u001b[0;31m---------------------------------------------------------------------------\u001b[0m"
     ]
    },
    {
     "name": "stderr",
     "output_type": "stream",
     "text": [
      "ERROR:tornado.general:Uncaught exception, closing connection.\n",
      "Traceback (most recent call last):\n",
      "  File \"/Users/carlos2/anaconda/envs/nlp/lib/python3.5/site-packages/zmq/eventloop/zmqstream.py\", line 414, in _run_callback\n",
      "    callback(*args, **kwargs)\n",
      "  File \"/Users/carlos2/anaconda/envs/nlp/lib/python3.5/site-packages/tornado/stack_context.py\", line 277, in null_wrapper\n",
      "    return fn(*args, **kwargs)\n",
      "  File \"/Users/carlos2/anaconda/envs/nlp/lib/python3.5/site-packages/ipykernel/kernelbase.py\", line 283, in dispatcher\n",
      "    return self.dispatch_shell(stream, msg)\n",
      "  File \"/Users/carlos2/anaconda/envs/nlp/lib/python3.5/site-packages/ipykernel/kernelbase.py\", line 235, in dispatch_shell\n",
      "    handler(stream, idents, msg)\n",
      "  File \"/Users/carlos2/anaconda/envs/nlp/lib/python3.5/site-packages/ipykernel/kernelbase.py\", line 421, in execute_request\n",
      "    self._abort_queues()\n",
      "  File \"/Users/carlos2/anaconda/envs/nlp/lib/python3.5/site-packages/ipykernel/kernelbase.py\", line 637, in _abort_queues\n",
      "    self._abort_queue(stream)\n",
      "  File \"/Users/carlos2/anaconda/envs/nlp/lib/python3.5/site-packages/ipykernel/kernelbase.py\", line 662, in _abort_queue\n",
      "    poller.poll(50)\n",
      "  File \"/Users/carlos2/anaconda/envs/nlp/lib/python3.5/site-packages/zmq/sugar/poll.py\", line 99, in poll\n",
      "    return zmq_poll(self.sockets, timeout=timeout)\n",
      "  File \"zmq/backend/cython/_poll.pyx\", line 116, in zmq.backend.cython._poll.zmq_poll (zmq/backend/cython/_poll.c:2036)\n",
      "  File \"zmq/backend/cython/checkrc.pxd\", line 12, in zmq.backend.cython.checkrc._check_rc (zmq/backend/cython/_poll.c:2418)\n",
      "KeyboardInterrupt\n",
      "ERROR:tornado.general:Uncaught exception, closing connection.\n",
      "Traceback (most recent call last):\n",
      "  File \"/Users/carlos2/anaconda/envs/nlp/lib/python3.5/site-packages/zmq/eventloop/zmqstream.py\", line 440, in _handle_events\n",
      "    self._handle_recv()\n",
      "  File \"/Users/carlos2/anaconda/envs/nlp/lib/python3.5/site-packages/zmq/eventloop/zmqstream.py\", line 472, in _handle_recv\n",
      "    self._run_callback(callback, msg)\n",
      "  File \"/Users/carlos2/anaconda/envs/nlp/lib/python3.5/site-packages/zmq/eventloop/zmqstream.py\", line 414, in _run_callback\n",
      "    callback(*args, **kwargs)\n",
      "  File \"/Users/carlos2/anaconda/envs/nlp/lib/python3.5/site-packages/tornado/stack_context.py\", line 277, in null_wrapper\n",
      "    return fn(*args, **kwargs)\n",
      "  File \"/Users/carlos2/anaconda/envs/nlp/lib/python3.5/site-packages/ipykernel/kernelbase.py\", line 283, in dispatcher\n",
      "    return self.dispatch_shell(stream, msg)\n",
      "  File \"/Users/carlos2/anaconda/envs/nlp/lib/python3.5/site-packages/ipykernel/kernelbase.py\", line 235, in dispatch_shell\n",
      "    handler(stream, idents, msg)\n",
      "  File \"/Users/carlos2/anaconda/envs/nlp/lib/python3.5/site-packages/ipykernel/kernelbase.py\", line 421, in execute_request\n",
      "    self._abort_queues()\n",
      "  File \"/Users/carlos2/anaconda/envs/nlp/lib/python3.5/site-packages/ipykernel/kernelbase.py\", line 637, in _abort_queues\n",
      "    self._abort_queue(stream)\n",
      "  File \"/Users/carlos2/anaconda/envs/nlp/lib/python3.5/site-packages/ipykernel/kernelbase.py\", line 662, in _abort_queue\n",
      "    poller.poll(50)\n",
      "  File \"/Users/carlos2/anaconda/envs/nlp/lib/python3.5/site-packages/zmq/sugar/poll.py\", line 99, in poll\n",
      "    return zmq_poll(self.sockets, timeout=timeout)\n",
      "  File \"zmq/backend/cython/_poll.pyx\", line 116, in zmq.backend.cython._poll.zmq_poll (zmq/backend/cython/_poll.c:2036)\n",
      "  File \"zmq/backend/cython/checkrc.pxd\", line 12, in zmq.backend.cython.checkrc._check_rc (zmq/backend/cython/_poll.c:2418)\n",
      "KeyboardInterrupt\n"
     ]
    }
   ],
   "source": [
    "model = get_model(MAX_SEQ, vocabulary_size, WORDVEC_DIM, number_of_classes)\n",
    "\n",
    "history = model.fit(X_train, np.array(y_train), batch_size=32, epochs=10, validation_split=0.3, verbose=1,\\\n",
    "                    callbacks=[EarlyStopping(patience=2, monitor='val_loss')])\n",
    "\n",
    "plt.plot(history.history['loss'], label='train')\n",
    "plt.plot(history.history['val_loss'], label='test')   \n",
    "plt.legend()\n",
    "plt.show()"
   ]
  },
  {
   "cell_type": "code",
   "execution_count": null,
   "metadata": {},
   "outputs": [],
   "source": [
    "y_hat = model.predict(X_test)\n",
    "acc = accuracy_score(np.argmax(np.array(y_test), axis=-1).flatten(), np.argmax(y_hat, axis=-1).flatten())\n",
    "print('Accuracy on test partition: {}'.format(acc))"
   ]
  },
  {
   "cell_type": "code",
   "execution_count": null,
   "metadata": {},
   "outputs": [],
   "source": [
    "y_hat = model.predict(X_test[10].reshape(-1,MAX_SEQ))\n",
    "print('Prediction:')\n",
    "print(np.argmax(y_hat, axis=-1).flatten())\n",
    "print('True values:')\n",
    "print(np.array(np.argmax(np.array(y_test[10]), axis=-1).flatten()))"
   ]
  },
  {
   "cell_type": "code",
   "execution_count": null,
   "metadata": {
    "collapsed": true
   },
   "outputs": [],
   "source": []
  }
 ],
 "metadata": {
  "kernelspec": {
   "display_name": "Python 3",
   "language": "python",
   "name": "python3"
  },
  "language_info": {
   "codemirror_mode": {
    "name": "ipython",
    "version": 3
   },
   "file_extension": ".py",
   "mimetype": "text/x-python",
   "name": "python",
   "nbconvert_exporter": "python",
   "pygments_lexer": "ipython3",
   "version": "3.5.3"
  }
 },
 "nbformat": 4,
 "nbformat_minor": 2
}
