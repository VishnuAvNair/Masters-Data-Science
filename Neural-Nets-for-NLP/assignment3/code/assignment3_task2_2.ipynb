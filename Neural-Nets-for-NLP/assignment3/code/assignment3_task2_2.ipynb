{
 "cells": [
  {
   "cell_type": "markdown",
   "metadata": {},
   "source": [
    "# L665 ML for NLPSpring 2018 \n",
    "\n",
    "## Assignment 3 - Task 2\n",
    "\n",
    "Sentence Classification with recurrent neural net (LSTM)\n",
    "I will compare result with results for CCN-Rand reported in paper by Kim, Yoon entitled \"Convolutional neural networks for sentence classification.\" arXiv preprint arXiv:1408.5882 (2014) <br>\n",
    "\n",
    "Dataset used: MR - Movie Reviews <br>\n",
    "Reference: Pang, Bo, and Lillian Lee. \"Seeing stars: Exploiting class relationships for sentiment categorization with respect to rating scales.\" Proceedings of the 43rd annual meeting on association for computational linguistics. Association for Computational Linguistics, 2005\n",
    "\n",
    "Author: Carlos Sathler"
   ]
  },
  {
   "cell_type": "code",
   "execution_count": 1,
   "metadata": {
    "collapsed": true
   },
   "outputs": [],
   "source": [
    "import numpy as np\n",
    "import pandas as pd\n",
    "\n",
    "import matplotlib.pyplot as plt\n",
    "%matplotlib inline  "
   ]
  },
  {
   "cell_type": "markdown",
   "metadata": {},
   "source": [
    "## Get data"
   ]
  },
  {
   "cell_type": "code",
   "execution_count": 2,
   "metadata": {},
   "outputs": [
    {
     "name": "stdout",
     "output_type": "stream",
     "text": [
      "Dataset size: 10662\n",
      "Count of positive reviews: 5331\n",
      "Count of negative reviews: 5331\n"
     ]
    },
    {
     "data": {
      "text/html": [
       "<div>\n",
       "<style scoped>\n",
       "    .dataframe tbody tr th:only-of-type {\n",
       "        vertical-align: middle;\n",
       "    }\n",
       "\n",
       "    .dataframe tbody tr th {\n",
       "        vertical-align: top;\n",
       "    }\n",
       "\n",
       "    .dataframe thead th {\n",
       "        text-align: right;\n",
       "    }\n",
       "</style>\n",
       "<table border=\"1\" class=\"dataframe\">\n",
       "  <thead>\n",
       "    <tr style=\"text-align: right;\">\n",
       "      <th></th>\n",
       "      <th>review</th>\n",
       "      <th>rating</th>\n",
       "    </tr>\n",
       "  </thead>\n",
       "  <tbody>\n",
       "    <tr>\n",
       "      <th>1837</th>\n",
       "      <td>the sentimental cliches mar an otherwise excel...</td>\n",
       "      <td>1</td>\n",
       "    </tr>\n",
       "    <tr>\n",
       "      <th>3318</th>\n",
       "      <td>if you love the music , and i do , its hard to...</td>\n",
       "      <td>1</td>\n",
       "    </tr>\n",
       "    <tr>\n",
       "      <th>3381</th>\n",
       "      <td>though harris is affecting at times , he canno...</td>\n",
       "      <td>0</td>\n",
       "    </tr>\n",
       "    <tr>\n",
       "      <th>3387</th>\n",
       "      <td>poignant japanese epic about adolescent anomie...</td>\n",
       "      <td>1</td>\n",
       "    </tr>\n",
       "    <tr>\n",
       "      <th>36</th>\n",
       "      <td>cantet perfectly captures the hotel lobbies , ...</td>\n",
       "      <td>1</td>\n",
       "    </tr>\n",
       "  </tbody>\n",
       "</table>\n",
       "</div>"
      ],
      "text/plain": [
       "                                                 review  rating\n",
       "1837  the sentimental cliches mar an otherwise excel...       1\n",
       "3318  if you love the music , and i do , its hard to...       1\n",
       "3381  though harris is affecting at times , he canno...       0\n",
       "3387  poignant japanese epic about adolescent anomie...       1\n",
       "36    cantet perfectly captures the hotel lobbies , ...       1"
      ]
     },
     "execution_count": 2,
     "metadata": {},
     "output_type": "execute_result"
    }
   ],
   "source": [
    "from sklearn.utils import shuffle\n",
    "\n",
    "SEED = 0\n",
    "\n",
    "df_neg = pd.read_table('input/rt-polarity.neg', names=['review'],  header=None, encoding='latin-1')\n",
    "df_pos = pd.read_table('input/rt-polarity.pos', names=['review'],  header=None, encoding='latin-1')\n",
    "df_neg['rating'] = 0\n",
    "df_pos['rating'] = 1\n",
    "df_all = shuffle(pd.concat((df_neg, df_pos), axis=0), random_state=SEED)\n",
    "print('Dataset size: {}'.format(df_all.index.size))\n",
    "print('Count of positive reviews: {}'.format(df_all[df_all['rating']==1].index.size))\n",
    "print('Count of negative reviews: {}'.format(df_all[df_all['rating']==0].index.size))\n",
    "df_all.head()"
   ]
  },
  {
   "cell_type": "markdown",
   "metadata": {},
   "source": [
    "## Create input sequences"
   ]
  },
  {
   "cell_type": "code",
   "execution_count": 3,
   "metadata": {},
   "outputs": [
    {
     "name": "stderr",
     "output_type": "stream",
     "text": [
      "Using TensorFlow backend.\n"
     ]
    }
   ],
   "source": [
    "# following guidelines outlined here:\n",
    "# https://keras.io/preprocessing/text/\n",
    "# https://github.com/keras-team/keras/blob/master/keras/preprocessing/text.py#L134\n",
    "# https://keras.io/preprocessing/sequence/\n",
    "# https://github.com/keras-team/keras/blob/master/keras/preprocessing/sequence.py#L248\n",
    "\n",
    "from keras.preprocessing.text import Tokenizer\n",
    "from keras.preprocessing.sequence import pad_sequences\n",
    "\n",
    "# tokenize text and create dictionary mapping tokens to integers\n",
    "tokenizer = Tokenizer()\n",
    "tokenizer.fit_on_texts(df_all.review)\n",
    "\n",
    "# create sequences of integers to represent reviews, and find longest sentence\n",
    "seqs = tokenizer.texts_to_sequences(df_all.review)\n",
    "max_len = max([len(seq) for seq in seqs])\n",
    "\n",
    "# pad sequences to feed to the embedding layer\n",
    "seqs = pad_sequences(seqs, maxlen=max_len, dtype='int32', padding='pre', truncating='pre', value=0.0)"
   ]
  },
  {
   "cell_type": "code",
   "execution_count": 4,
   "metadata": {},
   "outputs": [
    {
     "name": "stdout",
     "output_type": "stream",
     "text": [
      "Number of documents  = 10662\n",
      "Size of vocabulary   = 19498\n",
      "Maximum sequence len = 51\n"
     ]
    }
   ],
   "source": [
    "print('Number of documents  = {}'.format(tokenizer.document_count))\n",
    "print('Size of vocabulary   = {}'.format(len(tokenizer.word_index)))\n",
    "print('Maximum sequence len = {}'.format(max_len))"
   ]
  },
  {
   "cell_type": "markdown",
   "metadata": {},
   "source": [
    "## Create model\n",
    "\n",
    "LSTM model."
   ]
  },
  {
   "cell_type": "code",
   "execution_count": 7,
   "metadata": {},
   "outputs": [
    {
     "name": "stdout",
     "output_type": "stream",
     "text": [
      "_________________________________________________________________\n",
      "Layer (type)                 Output Shape              Param #   \n",
      "=================================================================\n",
      "input_3 (InputLayer)         (None, 51)                0         \n",
      "_________________________________________________________________\n",
      "embedding_3 (Embedding)      (None, 51, 128)           2495872   \n",
      "_________________________________________________________________\n",
      "bidirectional_3 (Bidirection (None, 51, 200)           183200    \n",
      "_________________________________________________________________\n",
      "flatten_3 (Flatten)          (None, 10200)             0         \n",
      "_________________________________________________________________\n",
      "dense_6 (Dense)              (None, 1)                 10201     \n",
      "=================================================================\n",
      "Total params: 2,689,273\n",
      "Trainable params: 2,689,273\n",
      "Non-trainable params: 0\n",
      "_________________________________________________________________\n"
     ]
    }
   ],
   "source": [
    "MAX_SEQ = max_len\n",
    "VOC_SIZE = len(tokenizer.word_index)\n",
    "\n",
    "from keras.models import Model\n",
    "from keras.optimizers import SGD\n",
    "from keras.layers import Input, Embedding, LSTM, Dropout, Bidirectional, Dense, Flatten\n",
    "from keras import regularizers\n",
    "\n",
    "# model where N=1, M=1 and K=1\n",
    "def get_model(output_dim=128, dense_dim=16):\n",
    "    \n",
    "    input = Input(shape=(MAX_SEQ,), dtype='float64')\n",
    "    embed = Embedding(VOC_SIZE+1, output_dim, input_length=MAX_SEQ, embeddings_initializer='random_uniform')(input)\n",
    "    lstm = Bidirectional(LSTM(units=100, return_sequences=True))(embed)\n",
    "    lstm = Flatten()(lstm)\n",
    "    dense = Dense(dense_dim, activation='relu')(lstm)\n",
    "    dense = Dropout(0.5)(dense)\n",
    "    \n",
    "    pred = Dense(1, kernel_regularizer=regularizers.l2(0.01),\\\n",
    "                 activity_regularizer=regularizers.l1(0.01),\\\n",
    "                 activation='sigmoid')(lstm)\n",
    "    \n",
    "    model = Model(input, pred)\n",
    "    model.compile(loss='binary_crossentropy', optimizer='adam', metrics=['accuracy'])\n",
    "    \n",
    "    return model\n",
    "    \n",
    "get_model().summary()"
   ]
  },
  {
   "cell_type": "code",
   "execution_count": 8,
   "metadata": {
    "scrolled": false
   },
   "outputs": [
    {
     "name": "stdout",
     "output_type": "stream",
     "text": [
      "Train on 9594 samples, validate on 1068 samples\n",
      "Epoch 1/20\n",
      " - 20s - loss: 1.1542 - acc: 0.5216 - val_loss: 1.0128 - val_acc: 0.5918\n",
      "Epoch 2/20\n",
      " - 17s - loss: 0.9054 - acc: 0.7782 - val_loss: 0.9857 - val_acc: 0.7500\n",
      "Epoch 3/20\n",
      " - 18s - loss: 0.7539 - acc: 0.9080 - val_loss: 1.0449 - val_acc: 0.7556\n",
      "Epoch 4/20\n",
      " - 17s - loss: 0.6874 - acc: 0.9604 - val_loss: 1.1238 - val_acc: 0.7406\n",
      "\n",
      "\t>> Score for split 1: 0.7406367041198502\n",
      "\n",
      "Train on 9596 samples, validate on 1066 samples\n",
      "Epoch 1/20\n",
      " - 18s - loss: 1.1555 - acc: 0.5180 - val_loss: 1.0422 - val_acc: 0.5985\n",
      "Epoch 2/20\n",
      " - 17s - loss: 0.9031 - acc: 0.7767 - val_loss: 0.9926 - val_acc: 0.7214\n",
      "Epoch 3/20\n",
      " - 17s - loss: 0.7527 - acc: 0.9096 - val_loss: 1.1040 - val_acc: 0.7402\n",
      "Epoch 4/20\n",
      " - 16s - loss: 0.6868 - acc: 0.9575 - val_loss: 1.1519 - val_acc: 0.7448\n",
      "\n",
      "\t>> Score for split 2: 0.7448405253283302\n",
      "\n",
      "Train on 9596 samples, validate on 1066 samples\n",
      "Epoch 1/20\n",
      " - 18s - loss: 1.1403 - acc: 0.5307 - val_loss: 1.0200 - val_acc: 0.6323\n",
      "Epoch 2/20\n",
      " - 15s - loss: 0.8772 - acc: 0.7975 - val_loss: 1.0222 - val_acc: 0.7411\n",
      "Epoch 3/20\n",
      " - 15s - loss: 0.7333 - acc: 0.9181 - val_loss: 1.0798 - val_acc: 0.7514\n",
      "\n",
      "\t>> Score for split 3: 0.7514071294559099\n",
      "\n",
      "Train on 9596 samples, validate on 1066 samples\n",
      "Epoch 1/20\n",
      " - 18s - loss: 1.1457 - acc: 0.5236 - val_loss: 1.0377 - val_acc: 0.6642\n",
      "Epoch 2/20\n",
      " - 16s - loss: 0.8828 - acc: 0.7974 - val_loss: 1.0093 - val_acc: 0.7054\n",
      "Epoch 3/20\n",
      " - 17s - loss: 0.7453 - acc: 0.9144 - val_loss: 1.0818 - val_acc: 0.7205\n",
      "Epoch 4/20\n",
      " - 16s - loss: 0.6862 - acc: 0.9601 - val_loss: 1.2724 - val_acc: 0.7251\n",
      "\n",
      "\t>> Score for split 4: 0.725140712945591\n",
      "\n",
      "Train on 9596 samples, validate on 1066 samples\n",
      "Epoch 1/20\n",
      " - 20s - loss: 1.1431 - acc: 0.5213 - val_loss: 1.0415 - val_acc: 0.6238\n",
      "Epoch 2/20\n",
      " - 16s - loss: 0.8897 - acc: 0.7877 - val_loss: 1.0147 - val_acc: 0.7139\n",
      "Epoch 3/20\n",
      " - 15s - loss: 0.7402 - acc: 0.9168 - val_loss: 1.1269 - val_acc: 0.7542\n",
      "Epoch 4/20\n",
      " - 16s - loss: 0.6856 - acc: 0.9650 - val_loss: 1.1172 - val_acc: 0.7477\n",
      "\n",
      "\t>> Score for split 5: 0.7476547842401501\n",
      "\n",
      "Train on 9596 samples, validate on 1066 samples\n",
      "Epoch 1/20\n",
      " - 20s - loss: 1.1392 - acc: 0.5332 - val_loss: 1.0433 - val_acc: 0.7486\n",
      "Epoch 2/20\n",
      " - 16s - loss: 0.8897 - acc: 0.7937 - val_loss: 0.9662 - val_acc: 0.7111\n",
      "Epoch 3/20\n",
      " - 18s - loss: 0.7400 - acc: 0.9119 - val_loss: 1.0169 - val_acc: 0.7514\n",
      "Epoch 4/20\n",
      " - 17s - loss: 0.6812 - acc: 0.9638 - val_loss: 1.1590 - val_acc: 0.7345\n",
      "\n",
      "\t>> Score for split 6: 0.7345215759849906\n",
      "\n",
      "Train on 9596 samples, validate on 1066 samples\n",
      "Epoch 1/20\n",
      " - 21s - loss: 1.1513 - acc: 0.5236 - val_loss: 1.0338 - val_acc: 0.6107\n",
      "Epoch 2/20\n",
      " - 19s - loss: 0.8997 - acc: 0.7770 - val_loss: 0.9749 - val_acc: 0.7101\n",
      "Epoch 3/20\n",
      " - 16s - loss: 0.7426 - acc: 0.9117 - val_loss: 1.0411 - val_acc: 0.7383\n",
      "Epoch 4/20\n",
      " - 15s - loss: 0.6867 - acc: 0.9578 - val_loss: 1.1653 - val_acc: 0.7561\n",
      "\n",
      "\t>> Score for split 7: 0.7560975609756098\n",
      "\n",
      "Train on 9596 samples, validate on 1066 samples\n",
      "Epoch 1/20\n",
      " - 19s - loss: 1.1476 - acc: 0.5269 - val_loss: 1.0205 - val_acc: 0.6210\n",
      "Epoch 2/20\n",
      " - 15s - loss: 0.8950 - acc: 0.7841 - val_loss: 1.0405 - val_acc: 0.6839\n",
      "Epoch 3/20\n",
      " - 15s - loss: 0.7388 - acc: 0.9160 - val_loss: 1.0349 - val_acc: 0.7317\n",
      "\n",
      "\t>> Score for split 8: 0.7317073170731707\n",
      "\n",
      "Train on 9596 samples, validate on 1066 samples\n",
      "Epoch 1/20\n",
      " - 19s - loss: 1.1391 - acc: 0.5299 - val_loss: 1.0376 - val_acc: 0.6435\n",
      "Epoch 2/20\n",
      " - 15s - loss: 0.8763 - acc: 0.8037 - val_loss: 1.0086 - val_acc: 0.7251\n",
      "Epoch 3/20\n",
      " - 15s - loss: 0.7345 - acc: 0.9226 - val_loss: 1.0718 - val_acc: 0.7570\n",
      "Epoch 4/20\n",
      " - 16s - loss: 0.6840 - acc: 0.9652 - val_loss: 1.2699 - val_acc: 0.7355\n",
      "\n",
      "\t>> Score for split 9: 0.7354596622889306\n",
      "\n",
      "Train on 9596 samples, validate on 1066 samples\n",
      "Epoch 1/20\n",
      " - 20s - loss: 1.1395 - acc: 0.5312 - val_loss: 1.0171 - val_acc: 0.6295\n",
      "Epoch 2/20\n",
      " - 15s - loss: 0.8823 - acc: 0.7937 - val_loss: 0.9902 - val_acc: 0.6876\n",
      "Epoch 3/20\n",
      " - 17s - loss: 0.7475 - acc: 0.9139 - val_loss: 1.0756 - val_acc: 0.7317\n",
      "Epoch 4/20\n",
      " - 16s - loss: 0.6906 - acc: 0.9536 - val_loss: 1.2259 - val_acc: 0.7176\n",
      "\n",
      "\t>> Score for split 10: 0.7176360225140713\n",
      "\n",
      "Average accuracy = 0.7385101994926605\n"
     ]
    }
   ],
   "source": [
    "from sklearn.model_selection import StratifiedKFold, cross_val_score\n",
    "from keras.callbacks import EarlyStopping\n",
    "from sklearn.metrics import accuracy_score\n",
    "\n",
    "EPOCHS = 20\n",
    "BATCH_SIZE = 128\n",
    "\n",
    "# evaluate using 10-fold CV as in Yoon Kim article\n",
    "FOLDS = 10\n",
    "\n",
    "model = get_model()\n",
    "X = seqs\n",
    "y = np.array(df_all.rating.tolist())\n",
    "kfold = StratifiedKFold(n_splits=FOLDS, shuffle=True, random_state=SEED)\n",
    "acc = list()\n",
    "i = 0\n",
    "for train_index, valid_index in kfold.split(X, y):\n",
    "    i += 1\n",
    "    X_train, X_valid = X[train_index], X[valid_index]\n",
    "    y_train, y_valid = y[train_index], y[valid_index]\n",
    "    model = get_model()\n",
    "    model.fit(X_train, y_train, batch_size=BATCH_SIZE, epochs=EPOCHS, verbose=2, validation_data=(X_valid, y_valid),\\\n",
    "              callbacks=[EarlyStopping(patience=2, monitor='val_loss')])\n",
    "    y_hat = model.predict(X_valid)\n",
    "    y_pred = [round(pred) for pred in y_hat.reshape(-1)]\n",
    "    acc.append(accuracy_score(y_valid, y_pred))\n",
    "    print('\\n\\t>> Score for split {}: {}\\n'.format(i, acc[-1]))\n",
    "\n",
    "print('Average accuracy = {}'.format(np.mean(np.array(acc))))"
   ]
  },
  {
   "cell_type": "code",
   "execution_count": null,
   "metadata": {
    "collapsed": true
   },
   "outputs": [],
   "source": []
  }
 ],
 "metadata": {
  "kernelspec": {
   "display_name": "Python 3",
   "language": "python",
   "name": "python3"
  },
  "language_info": {
   "codemirror_mode": {
    "name": "ipython",
    "version": 3
   },
   "file_extension": ".py",
   "mimetype": "text/x-python",
   "name": "python",
   "nbconvert_exporter": "python",
   "pygments_lexer": "ipython3",
   "version": "3.5.3"
  }
 },
 "nbformat": 4,
 "nbformat_minor": 2
}
