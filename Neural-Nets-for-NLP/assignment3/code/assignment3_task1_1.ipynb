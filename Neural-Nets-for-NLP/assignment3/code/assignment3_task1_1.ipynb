{
 "cells": [
  {
   "cell_type": "markdown",
   "metadata": {},
   "source": [
    "# L665 ML for NLPSpring 2018 \n",
    "\n",
    "## Assignment 3 - Task 1.1 \n",
    "\n",
    "Sentence Classification based on Kim, Yoon paper \"Convolutional neural networks for sentence classification.\" arXiv preprint arXiv:1408.5882 (2014) <br>\n",
    "Model variation: CNN-rand\n",
    "\n",
    "Dataset used: MR - Movie Reviews <br>\n",
    "Reference: Pang, Bo, and Lillian Lee. \"Seeing stars: Exploiting class relationships for sentiment categorization with respect to rating scales.\" Proceedings of the 43rd annual meeting on association for computational linguistics. Association for Computational Linguistics, 2005\n",
    "\n",
    "Author: Carlos Sathler"
   ]
  },
  {
   "cell_type": "code",
   "execution_count": 1,
   "metadata": {
    "collapsed": true
   },
   "outputs": [],
   "source": [
    "import numpy as np\n",
    "import pandas as pd\n",
    "\n",
    "import matplotlib.pyplot as plt\n",
    "%matplotlib inline  "
   ]
  },
  {
   "cell_type": "markdown",
   "metadata": {},
   "source": [
    "## Get data"
   ]
  },
  {
   "cell_type": "code",
   "execution_count": 2,
   "metadata": {},
   "outputs": [
    {
     "name": "stdout",
     "output_type": "stream",
     "text": [
      "Dataset size: 10662\n",
      "Count of positive reviews: 5331\n",
      "Count of negative reviews: 5331\n"
     ]
    },
    {
     "data": {
      "text/html": [
       "<div>\n",
       "<style scoped>\n",
       "    .dataframe tbody tr th:only-of-type {\n",
       "        vertical-align: middle;\n",
       "    }\n",
       "\n",
       "    .dataframe tbody tr th {\n",
       "        vertical-align: top;\n",
       "    }\n",
       "\n",
       "    .dataframe thead th {\n",
       "        text-align: right;\n",
       "    }\n",
       "</style>\n",
       "<table border=\"1\" class=\"dataframe\">\n",
       "  <thead>\n",
       "    <tr style=\"text-align: right;\">\n",
       "      <th></th>\n",
       "      <th>review</th>\n",
       "      <th>rating</th>\n",
       "    </tr>\n",
       "  </thead>\n",
       "  <tbody>\n",
       "    <tr>\n",
       "      <th>1837</th>\n",
       "      <td>the sentimental cliches mar an otherwise excel...</td>\n",
       "      <td>1</td>\n",
       "    </tr>\n",
       "    <tr>\n",
       "      <th>3318</th>\n",
       "      <td>if you love the music , and i do , its hard to...</td>\n",
       "      <td>1</td>\n",
       "    </tr>\n",
       "    <tr>\n",
       "      <th>3381</th>\n",
       "      <td>though harris is affecting at times , he canno...</td>\n",
       "      <td>0</td>\n",
       "    </tr>\n",
       "    <tr>\n",
       "      <th>3387</th>\n",
       "      <td>poignant japanese epic about adolescent anomie...</td>\n",
       "      <td>1</td>\n",
       "    </tr>\n",
       "    <tr>\n",
       "      <th>36</th>\n",
       "      <td>cantet perfectly captures the hotel lobbies , ...</td>\n",
       "      <td>1</td>\n",
       "    </tr>\n",
       "  </tbody>\n",
       "</table>\n",
       "</div>"
      ],
      "text/plain": [
       "                                                 review  rating\n",
       "1837  the sentimental cliches mar an otherwise excel...       1\n",
       "3318  if you love the music , and i do , its hard to...       1\n",
       "3381  though harris is affecting at times , he canno...       0\n",
       "3387  poignant japanese epic about adolescent anomie...       1\n",
       "36    cantet perfectly captures the hotel lobbies , ...       1"
      ]
     },
     "execution_count": 2,
     "metadata": {},
     "output_type": "execute_result"
    }
   ],
   "source": [
    "from sklearn.utils import shuffle\n",
    "\n",
    "SEED = 0\n",
    "\n",
    "df_neg = pd.read_table('input/rt-polarity.neg', names=['review'],  header=None, encoding='latin-1')\n",
    "df_pos = pd.read_table('input/rt-polarity.pos', names=['review'],  header=None, encoding='latin-1')\n",
    "df_neg['rating'] = 0\n",
    "df_pos['rating'] = 1\n",
    "df_all = shuffle(pd.concat((df_neg, df_pos), axis=0), random_state=SEED)\n",
    "print('Dataset size: {}'.format(df_all.index.size))\n",
    "print('Count of positive reviews: {}'.format(df_all[df_all['rating']==1].index.size))\n",
    "print('Count of negative reviews: {}'.format(df_all[df_all['rating']==0].index.size))\n",
    "df_all.head()"
   ]
  },
  {
   "cell_type": "markdown",
   "metadata": {},
   "source": [
    "## Create input sequences"
   ]
  },
  {
   "cell_type": "code",
   "execution_count": 3,
   "metadata": {},
   "outputs": [
    {
     "name": "stderr",
     "output_type": "stream",
     "text": [
      "Using TensorFlow backend.\n"
     ]
    }
   ],
   "source": [
    "# following guidelines outlined here:\n",
    "# https://keras.io/preprocessing/text/\n",
    "# https://github.com/keras-team/keras/blob/master/keras/preprocessing/text.py#L134\n",
    "# https://keras.io/preprocessing/sequence/\n",
    "# https://github.com/keras-team/keras/blob/master/keras/preprocessing/sequence.py#L248\n",
    "\n",
    "from keras.preprocessing.text import Tokenizer\n",
    "from keras.preprocessing.sequence import pad_sequences\n",
    "\n",
    "# tokenize text and create dictionary mapping tokens to integers\n",
    "tokenizer = Tokenizer()\n",
    "tokenizer.fit_on_texts(df_all.review)\n",
    "\n",
    "# create sequences of integers to represent reviews, and find longest sentence\n",
    "seqs = tokenizer.texts_to_sequences(df_all.review)\n",
    "max_len = max([len(seq) for seq in seqs])\n",
    "\n",
    "# pad sequences to feed to the embedding layer\n",
    "seqs = pad_sequences(seqs, maxlen=max_len, dtype='int32', padding='pre', truncating='pre', value=0.0)"
   ]
  },
  {
   "cell_type": "code",
   "execution_count": 4,
   "metadata": {},
   "outputs": [
    {
     "name": "stdout",
     "output_type": "stream",
     "text": [
      "Number of documents  = 10662\n",
      "Size of vocabulary   = 19498\n",
      "Maximum sequence len = 51\n"
     ]
    }
   ],
   "source": [
    "print('Number of documents  = {}'.format(tokenizer.document_count))\n",
    "print('Size of vocabulary   = {}'.format(len(tokenizer.word_index)))\n",
    "print('Maximum sequence len = {}'.format(max_len))"
   ]
  },
  {
   "cell_type": "markdown",
   "metadata": {},
   "source": [
    "## Create model\n",
    "\n",
    "Using \"ConvNet Architectures\" guidelines from Stanford \"CS231n: Convolutional Neural Networks for Visual Recognition\" class notes: http://cs231n.github.io/convolutional-networks/ <br>\n",
    "\"INPUT -> [[CONV -> RELU]*N -> POOL?]*M -> [FC -> RELU]*K -> FC <br>\n",
    "where the * indicates repetition, and the POOL? indicates an optional pooling layer. Moreover, N >= 0 (and usually N <= 3), M >= 0, K >= 0 (and usually K < 3)...\""
   ]
  },
  {
   "cell_type": "code",
   "execution_count": 5,
   "metadata": {},
   "outputs": [
    {
     "name": "stdout",
     "output_type": "stream",
     "text": [
      "_________________________________________________________________\n",
      "Layer (type)                 Output Shape              Param #   \n",
      "=================================================================\n",
      "embedding_1 (Embedding)      (None, 51, 64)            1247936   \n",
      "_________________________________________________________________\n",
      "conv1d_1 (Conv1D)            (None, 51, 128)           1572992   \n",
      "_________________________________________________________________\n",
      "dropout_1 (Dropout)          (None, 51, 128)           0         \n",
      "_________________________________________________________________\n",
      "max_pooling1d_1 (MaxPooling1 (None, 26, 128)           0         \n",
      "_________________________________________________________________\n",
      "flatten_1 (Flatten)          (None, 3328)              0         \n",
      "_________________________________________________________________\n",
      "dense_1 (Dense)              (None, 16)                53264     \n",
      "_________________________________________________________________\n",
      "dropout_2 (Dropout)          (None, 16)                0         \n",
      "_________________________________________________________________\n",
      "dense_2 (Dense)              (None, 1)                 17        \n",
      "=================================================================\n",
      "Total params: 2,874,209\n",
      "Trainable params: 2,874,209\n",
      "Non-trainable params: 0\n",
      "_________________________________________________________________\n"
     ]
    }
   ],
   "source": [
    "MAX_SEQ = max_len\n",
    "VOC_SIZE = len(tokenizer.word_index)\n",
    "\n",
    "from keras.models import Sequential\n",
    "from keras.optimizers import SGD\n",
    "from keras.layers import Embedding, Conv1D, Dropout, MaxPooling1D, Flatten, Dense\n",
    "from keras import regularizers\n",
    "\n",
    "# model where N=1, M=1 and K=1\n",
    "def get_model(output_dim=64, filter_size=128, window_size=3, stride=1, pool_size=2, dense_dim=16):\n",
    "\n",
    "    model = Sequential()\n",
    "    model.add(Embedding(VOC_SIZE+1, output_dim, input_length=MAX_SEQ, embeddings_initializer='random_uniform'))\n",
    "    # first convolution looks at window size = window_size\n",
    "    model.add(Conv1D(filter_size, kernel_size=(output_dim*window_size),\\\n",
    "                     padding='same', strides=(stride), activation='relu'))\n",
    "    model.add(Dropout(0.5))\n",
    "    # do max pooling\n",
    "    model.add(MaxPooling1D(pool_size=(pool_size), padding='same'))\n",
    "    # flatten tensor\n",
    "    model.add(Flatten())\n",
    "    # add one fully connected layer\n",
    "    model.add(Dense(dense_dim,activation='relu'))\n",
    "    model.add(Dropout(0.5))\n",
    "    # add output layer\n",
    "    model.add(Dense(1, kernel_regularizer=regularizers.l2(0.01),\\\n",
    "                       activity_regularizer=regularizers.l1(0.01),\\\n",
    "                       activation='sigmoid'))\n",
    "    \n",
    "    #sgd = SGD(lr=0.01, decay=1e-6, momentum=0.9, nesterov=True)\n",
    "    model.compile(loss='binary_crossentropy', optimizer='adam', metrics=['accuracy'])\n",
    "    \n",
    "    return model\n",
    "    \n",
    "get_model().summary()"
   ]
  },
  {
   "cell_type": "code",
   "execution_count": 6,
   "metadata": {
    "scrolled": false
   },
   "outputs": [
    {
     "name": "stdout",
     "output_type": "stream",
     "text": [
      "Train on 9594 samples, validate on 1068 samples\n",
      "Epoch 1/20\n",
      " - 72s - loss: 1.1969 - acc: 0.5009 - val_loss: 1.1187 - val_acc: 0.5000\n",
      "Epoch 2/20\n",
      " - 70s - loss: 0.9929 - acc: 0.6153 - val_loss: 1.0060 - val_acc: 0.7163\n",
      "Epoch 3/20\n",
      " - 73s - loss: 0.7927 - acc: 0.8888 - val_loss: 1.0022 - val_acc: 0.7622\n",
      "Epoch 4/20\n",
      " - 71s - loss: 0.7045 - acc: 0.9553 - val_loss: 1.0828 - val_acc: 0.7537\n",
      "\n",
      "\t>> Score for split 1: 0.7537453183520599\n",
      "\n",
      "Train on 9596 samples, validate on 1066 samples\n",
      "Epoch 1/20\n",
      " - 73s - loss: 1.2202 - acc: 0.4995 - val_loss: 1.1603 - val_acc: 0.5000\n",
      "Epoch 2/20\n",
      " - 70s - loss: 1.0770 - acc: 0.5649 - val_loss: 1.0185 - val_acc: 0.6632\n",
      "Epoch 3/20\n",
      " - 72s - loss: 0.9042 - acc: 0.8433 - val_loss: 1.0009 - val_acc: 0.7411\n",
      "Epoch 4/20\n",
      " - 71s - loss: 0.8058 - acc: 0.9235 - val_loss: 1.0282 - val_acc: 0.7261\n",
      "\n",
      "\t>> Score for split 2: 0.726078799249531\n",
      "\n",
      "Train on 9596 samples, validate on 1066 samples\n",
      "Epoch 1/20\n",
      " - 74s - loss: 1.2087 - acc: 0.4982 - val_loss: 1.1463 - val_acc: 0.5000\n",
      "Epoch 2/20\n",
      " - 422s - loss: 1.0086 - acc: 0.6133 - val_loss: 1.0085 - val_acc: 0.7214\n",
      "Epoch 3/20\n",
      " - 71s - loss: 0.8127 - acc: 0.8782 - val_loss: 1.0331 - val_acc: 0.7627\n",
      "\n",
      "\t>> Score for split 3: 0.7626641651031895\n",
      "\n",
      "Train on 9596 samples, validate on 1066 samples\n",
      "Epoch 1/20\n",
      " - 74s - loss: 1.2030 - acc: 0.5003 - val_loss: 1.1348 - val_acc: 0.5000\n",
      "Epoch 2/20\n",
      " - 69s - loss: 1.0017 - acc: 0.5806 - val_loss: 1.0310 - val_acc: 0.7064\n",
      "Epoch 3/20\n",
      " - 70s - loss: 0.8091 - acc: 0.8806 - val_loss: 1.0328 - val_acc: 0.6989\n",
      "\n",
      "\t>> Score for split 4: 0.698874296435272\n",
      "\n",
      "Train on 9596 samples, validate on 1066 samples\n",
      "Epoch 1/20\n",
      " - 73s - loss: 1.2056 - acc: 0.4993 - val_loss: 1.1609 - val_acc: 0.5000\n",
      "Epoch 2/20\n",
      " - 78s - loss: 1.0114 - acc: 0.6504 - val_loss: 1.0575 - val_acc: 0.7298\n",
      "Epoch 3/20\n",
      " - 77s - loss: 0.8073 - acc: 0.8836 - val_loss: 1.0548 - val_acc: 0.7430\n",
      "Epoch 4/20\n",
      " - 77s - loss: 0.7167 - acc: 0.9470 - val_loss: 1.1697 - val_acc: 0.7233\n",
      "\n",
      "\t>> Score for split 5: 0.723264540337711\n",
      "\n",
      "Train on 9596 samples, validate on 1066 samples\n",
      "Epoch 1/20\n",
      " - 77s - loss: 1.1906 - acc: 0.4998 - val_loss: 1.0884 - val_acc: 0.5000\n",
      "Epoch 2/20\n",
      " - 78s - loss: 0.9736 - acc: 0.5779 - val_loss: 1.0086 - val_acc: 0.7129\n",
      "Epoch 3/20\n",
      " - 78s - loss: 0.7924 - acc: 0.7468 - val_loss: 1.0186 - val_acc: 0.7448\n",
      "\n",
      "\t>> Score for split 6: 0.7448405253283302\n",
      "\n",
      "Train on 9596 samples, validate on 1066 samples\n",
      "Epoch 1/20\n",
      " - 79s - loss: 1.2025 - acc: 0.5001 - val_loss: 1.1105 - val_acc: 0.5000\n",
      "Epoch 2/20\n",
      " - 76s - loss: 0.9882 - acc: 0.6235 - val_loss: 1.0194 - val_acc: 0.6801\n",
      "Epoch 3/20\n",
      " - 71s - loss: 0.7810 - acc: 0.8776 - val_loss: 1.0608 - val_acc: 0.7683\n",
      "\n",
      "\t>> Score for split 7: 0.7682926829268293\n",
      "\n",
      "Train on 9596 samples, validate on 1066 samples\n",
      "Epoch 1/20\n",
      " - 72s - loss: 1.1948 - acc: 0.5008 - val_loss: 1.1135 - val_acc: 0.5000\n",
      "Epoch 2/20\n",
      " - 70s - loss: 0.9915 - acc: 0.6733 - val_loss: 1.0229 - val_acc: 0.6970\n",
      "Epoch 3/20\n",
      " - 71s - loss: 0.7913 - acc: 0.9035 - val_loss: 1.0649 - val_acc: 0.7233\n",
      "\n",
      "\t>> Score for slipt 8: 0.723264540337711\n",
      "\n",
      "Train on 9596 samples, validate on 1066 samples\n",
      "Epoch 1/20\n",
      " - 71s - loss: 1.1965 - acc: 0.4990 - val_loss: 1.1423 - val_acc: 0.5000\n",
      "Epoch 2/20\n",
      " - 71s - loss: 0.9950 - acc: 0.6024 - val_loss: 1.0133 - val_acc: 0.6435\n",
      "Epoch 3/20\n",
      " - 70s - loss: 0.7858 - acc: 0.8868 - val_loss: 1.0308 - val_acc: 0.7289\n",
      "\n",
      "\t>> Score for split 9: 0.7288930581613509\n",
      "\n",
      "Train on 9596 samples, validate on 1066 samples\n",
      "Epoch 1/20\n",
      " - 72s - loss: 1.1991 - acc: 0.5008 - val_loss: 1.1171 - val_acc: 0.5000\n",
      "Epoch 2/20\n",
      " - 71s - loss: 0.9978 - acc: 0.5890 - val_loss: 1.0037 - val_acc: 0.6538\n",
      "Epoch 3/20\n",
      " - 72s - loss: 0.8177 - acc: 0.8706 - val_loss: 1.0548 - val_acc: 0.7167\n",
      "\n",
      "\t>> Score for split 10: 0.7166979362101313\n",
      "\n",
      "Average accuracy = 0.7346615862442116\n"
     ]
    }
   ],
   "source": [
    "from keras.wrappers.scikit_learn import KerasClassifier\n",
    "from sklearn.model_selection import StratifiedKFold, cross_val_score\n",
    "from keras.callbacks import EarlyStopping\n",
    "from sklearn.metrics import accuracy_score\n",
    "\n",
    "EPOCHS = 20\n",
    "BATCH_SIZE = 128\n",
    "\n",
    "# evaluate using 10-fold CV as in Yoon Kim article\n",
    "FOLDS = 10\n",
    "\n",
    "model = get_model()\n",
    "X = seqs\n",
    "y = np.array(df_all.rating.tolist())\n",
    "kfold = StratifiedKFold(n_splits=FOLDS, shuffle=True, random_state=SEED)\n",
    "acc = list()\n",
    "i = 0\n",
    "for train_index, valid_index in kfold.split(X, y):\n",
    "    i += 1\n",
    "    X_train, X_valid = X[train_index], X[valid_index]\n",
    "    y_train, y_valid = y[train_index], y[valid_index]\n",
    "    model = get_model()\n",
    "    model.fit(X_train, y_train, batch_size=BATCH_SIZE, epochs=EPOCHS, verbose=2, validation_data=(X_valid, y_valid),\\\n",
    "              callbacks=[EarlyStopping(patience=1, monitor='val_loss')])\n",
    "    y_hat = model.predict(X_valid)\n",
    "    y_pred = [round(pred) for pred in y_hat.reshape(-1)]\n",
    "    acc.append(accuracy_score(y_valid, y_pred))\n",
    "    print('\\n\\t>> Score for split {}: {}\\n'.format(i, acc[-1]))\n",
    "\n",
    "print('Average accuracy = {}'.format(np.mean(np.array(acc))))"
   ]
  },
  {
   "cell_type": "code",
   "execution_count": null,
   "metadata": {
    "collapsed": true
   },
   "outputs": [],
   "source": []
  }
 ],
 "metadata": {
  "kernelspec": {
   "display_name": "Python 3",
   "language": "python",
   "name": "python3"
  },
  "language_info": {
   "codemirror_mode": {
    "name": "ipython",
    "version": 3
   },
   "file_extension": ".py",
   "mimetype": "text/x-python",
   "name": "python",
   "nbconvert_exporter": "python",
   "pygments_lexer": "ipython3",
   "version": "3.5.3"
  }
 },
 "nbformat": 4,
 "nbformat_minor": 2
}
