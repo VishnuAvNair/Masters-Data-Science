{
 "cells": [
  {
   "cell_type": "markdown",
   "metadata": {},
   "source": [
    "# L665 ML for NLPSpring 2018 \n",
    "\n",
    "## Assignment 3 - Task 2\n",
    "\n",
    "Sentence Classification with recurrent neural net (LSTM)\n",
    "I will compare result with results for CCN-Rand reported in paper by Kim, Yoon entitled \"Convolutional neural networks for sentence classification.\" arXiv preprint arXiv:1408.5882 (2014) <br>\n",
    "\n",
    "Dataset used: MR - Movie Reviews <br>\n",
    "Reference: Pang, Bo, and Lillian Lee. \"Seeing stars: Exploiting class relationships for sentiment categorization with respect to rating scales.\" Proceedings of the 43rd annual meeting on association for computational linguistics. Association for Computational Linguistics, 2005\n",
    "\n",
    "Author: Carlos Sathler"
   ]
  },
  {
   "cell_type": "code",
   "execution_count": 1,
   "metadata": {
    "collapsed": true
   },
   "outputs": [],
   "source": [
    "import numpy as np\n",
    "import pandas as pd\n",
    "\n",
    "import matplotlib.pyplot as plt\n",
    "%matplotlib inline  "
   ]
  },
  {
   "cell_type": "markdown",
   "metadata": {},
   "source": [
    "## Get data"
   ]
  },
  {
   "cell_type": "code",
   "execution_count": 2,
   "metadata": {},
   "outputs": [
    {
     "name": "stdout",
     "output_type": "stream",
     "text": [
      "Dataset size: 10662\n",
      "Count of positive reviews: 5331\n",
      "Count of negative reviews: 5331\n"
     ]
    },
    {
     "data": {
      "text/html": [
       "<div>\n",
       "<style scoped>\n",
       "    .dataframe tbody tr th:only-of-type {\n",
       "        vertical-align: middle;\n",
       "    }\n",
       "\n",
       "    .dataframe tbody tr th {\n",
       "        vertical-align: top;\n",
       "    }\n",
       "\n",
       "    .dataframe thead th {\n",
       "        text-align: right;\n",
       "    }\n",
       "</style>\n",
       "<table border=\"1\" class=\"dataframe\">\n",
       "  <thead>\n",
       "    <tr style=\"text-align: right;\">\n",
       "      <th></th>\n",
       "      <th>review</th>\n",
       "      <th>rating</th>\n",
       "    </tr>\n",
       "  </thead>\n",
       "  <tbody>\n",
       "    <tr>\n",
       "      <th>1837</th>\n",
       "      <td>the sentimental cliches mar an otherwise excel...</td>\n",
       "      <td>1</td>\n",
       "    </tr>\n",
       "    <tr>\n",
       "      <th>3318</th>\n",
       "      <td>if you love the music , and i do , its hard to...</td>\n",
       "      <td>1</td>\n",
       "    </tr>\n",
       "    <tr>\n",
       "      <th>3381</th>\n",
       "      <td>though harris is affecting at times , he canno...</td>\n",
       "      <td>0</td>\n",
       "    </tr>\n",
       "    <tr>\n",
       "      <th>3387</th>\n",
       "      <td>poignant japanese epic about adolescent anomie...</td>\n",
       "      <td>1</td>\n",
       "    </tr>\n",
       "    <tr>\n",
       "      <th>36</th>\n",
       "      <td>cantet perfectly captures the hotel lobbies , ...</td>\n",
       "      <td>1</td>\n",
       "    </tr>\n",
       "  </tbody>\n",
       "</table>\n",
       "</div>"
      ],
      "text/plain": [
       "                                                 review  rating\n",
       "1837  the sentimental cliches mar an otherwise excel...       1\n",
       "3318  if you love the music , and i do , its hard to...       1\n",
       "3381  though harris is affecting at times , he canno...       0\n",
       "3387  poignant japanese epic about adolescent anomie...       1\n",
       "36    cantet perfectly captures the hotel lobbies , ...       1"
      ]
     },
     "execution_count": 2,
     "metadata": {},
     "output_type": "execute_result"
    }
   ],
   "source": [
    "from sklearn.utils import shuffle\n",
    "\n",
    "SEED = 0\n",
    "\n",
    "df_neg = pd.read_table('input/rt-polarity.neg', names=['review'],  header=None, encoding='latin-1')\n",
    "df_pos = pd.read_table('input/rt-polarity.pos', names=['review'],  header=None, encoding='latin-1')\n",
    "df_neg['rating'] = 0\n",
    "df_pos['rating'] = 1\n",
    "df_all = shuffle(pd.concat((df_neg, df_pos), axis=0), random_state=SEED)\n",
    "print('Dataset size: {}'.format(df_all.index.size))\n",
    "print('Count of positive reviews: {}'.format(df_all[df_all['rating']==1].index.size))\n",
    "print('Count of negative reviews: {}'.format(df_all[df_all['rating']==0].index.size))\n",
    "df_all.head()"
   ]
  },
  {
   "cell_type": "markdown",
   "metadata": {},
   "source": [
    "## Create input sequences"
   ]
  },
  {
   "cell_type": "code",
   "execution_count": 3,
   "metadata": {},
   "outputs": [
    {
     "name": "stderr",
     "output_type": "stream",
     "text": [
      "Using TensorFlow backend.\n"
     ]
    }
   ],
   "source": [
    "# following guidelines outlined here:\n",
    "# https://keras.io/preprocessing/text/\n",
    "# https://github.com/keras-team/keras/blob/master/keras/preprocessing/text.py#L134\n",
    "# https://keras.io/preprocessing/sequence/\n",
    "# https://github.com/keras-team/keras/blob/master/keras/preprocessing/sequence.py#L248\n",
    "\n",
    "from keras.preprocessing.text import Tokenizer\n",
    "from keras.preprocessing.sequence import pad_sequences\n",
    "\n",
    "# tokenize text and create dictionary mapping tokens to integers\n",
    "tokenizer = Tokenizer()\n",
    "tokenizer.fit_on_texts(df_all.review)\n",
    "\n",
    "# create sequences of integers to represent reviews, and find longest sentence\n",
    "seqs = tokenizer.texts_to_sequences(df_all.review)\n",
    "max_len = max([len(seq) for seq in seqs])\n",
    "\n",
    "# pad sequences to feed to the embedding layer\n",
    "seqs = pad_sequences(seqs, maxlen=max_len, dtype='int32', padding='pre', truncating='pre', value=0.0)"
   ]
  },
  {
   "cell_type": "code",
   "execution_count": 4,
   "metadata": {},
   "outputs": [
    {
     "name": "stdout",
     "output_type": "stream",
     "text": [
      "Number of documents  = 10662\n",
      "Size of vocabulary   = 19498\n",
      "Maximum sequence len = 51\n"
     ]
    }
   ],
   "source": [
    "print('Number of documents  = {}'.format(tokenizer.document_count))\n",
    "print('Size of vocabulary   = {}'.format(len(tokenizer.word_index)))\n",
    "print('Maximum sequence len = {}'.format(max_len))"
   ]
  },
  {
   "cell_type": "markdown",
   "metadata": {},
   "source": [
    "## Create model\n",
    "\n",
    "LSTM model."
   ]
  },
  {
   "cell_type": "code",
   "execution_count": 15,
   "metadata": {},
   "outputs": [
    {
     "name": "stdout",
     "output_type": "stream",
     "text": [
      "_________________________________________________________________\n",
      "Layer (type)                 Output Shape              Param #   \n",
      "=================================================================\n",
      "input_21 (InputLayer)        (None, 51)                0         \n",
      "_________________________________________________________________\n",
      "embedding_21 (Embedding)     (None, 51, 64)            1247936   \n",
      "_________________________________________________________________\n",
      "bidirectional_4 (Bidirection (None, 51, 200)           132000    \n",
      "_________________________________________________________________\n",
      "flatten_1 (Flatten)          (None, 10200)             0         \n",
      "_________________________________________________________________\n",
      "dense_25 (Dense)             (None, 1)                 10201     \n",
      "=================================================================\n",
      "Total params: 1,390,137\n",
      "Trainable params: 1,390,137\n",
      "Non-trainable params: 0\n",
      "_________________________________________________________________\n"
     ]
    }
   ],
   "source": [
    "MAX_SEQ = max_len\n",
    "VOC_SIZE = len(tokenizer.word_index)\n",
    "\n",
    "from keras.models import Model\n",
    "from keras.optimizers import SGD\n",
    "from keras.layers import Input, Embedding, LSTM, Dropout, Bidirectional, Dense, Flatten\n",
    "from keras import regularizers\n",
    "\n",
    "# model where N=1, M=1 and K=1\n",
    "def get_model(output_dim=64, dense_dim=16):\n",
    "    \n",
    "    input = Input(shape=(MAX_SEQ,), dtype='float64')\n",
    "    embed = Embedding(VOC_SIZE+1, output_dim, input_length=MAX_SEQ, embeddings_initializer='random_uniform')(input)\n",
    "    lstm = Bidirectional(LSTM(units=100, return_sequences=True))(embed)\n",
    "    lstm = Flatten()(lstm)\n",
    "    dense = Dense(dense_dim, activation='relu')(lstm)\n",
    "    dense = Dropout(0.5)(dense)\n",
    "    \n",
    "    pred = Dense(1, kernel_regularizer=regularizers.l2(0.01),\\\n",
    "                 activity_regularizer=regularizers.l1(0.01),\\\n",
    "                 activation='sigmoid')(lstm)\n",
    "    \n",
    "    model = Model(input, pred)\n",
    "    model.compile(loss='binary_crossentropy', optimizer='adam', metrics=['accuracy'])\n",
    "    \n",
    "    return model\n",
    "    \n",
    "get_model().summary()"
   ]
  },
  {
   "cell_type": "code",
   "execution_count": 17,
   "metadata": {
    "scrolled": false
   },
   "outputs": [
    {
     "name": "stdout",
     "output_type": "stream",
     "text": [
      "Train on 9594 samples, validate on 1068 samples\n",
      "Epoch 1/20\n",
      " - 15s - loss: 1.1537 - acc: 0.5175 - val_loss: 1.0334 - val_acc: 0.6470\n",
      "Epoch 2/20\n",
      " - 12s - loss: 0.9032 - acc: 0.7753 - val_loss: 1.0090 - val_acc: 0.7425\n",
      "Epoch 3/20\n",
      " - 12s - loss: 0.7460 - acc: 0.9138 - val_loss: 1.1125 - val_acc: 0.7612\n",
      "Epoch 4/20\n",
      " - 12s - loss: 0.6919 - acc: 0.9557 - val_loss: 1.2229 - val_acc: 0.7491\n",
      "\n",
      "\t>> Score for split 1: 0.7490636704119851\n",
      "\n",
      "Train on 9596 samples, validate on 1066 samples\n",
      "Epoch 1/20\n",
      " - 16s - loss: 1.1566 - acc: 0.5142 - val_loss: 1.0464 - val_acc: 0.6445\n",
      "Epoch 2/20\n",
      " - 12s - loss: 0.9033 - acc: 0.7693 - val_loss: 0.9929 - val_acc: 0.7120\n",
      "Epoch 3/20\n",
      " - 12s - loss: 0.7506 - acc: 0.9100 - val_loss: 1.0859 - val_acc: 0.7373\n",
      "Epoch 4/20\n",
      " - 12s - loss: 0.6915 - acc: 0.9598 - val_loss: 1.0984 - val_acc: 0.7326\n",
      "\n",
      "\t>> Score for split 2: 0.7326454033771107\n",
      "\n",
      "Train on 9596 samples, validate on 1066 samples\n",
      "Epoch 1/20\n",
      " - 15s - loss: 1.1512 - acc: 0.5206 - val_loss: 1.0431 - val_acc: 0.5854\n",
      "Epoch 2/20\n",
      " - 11s - loss: 0.8947 - acc: 0.7806 - val_loss: 1.0178 - val_acc: 0.6585\n",
      "Epoch 3/20\n",
      " - 11s - loss: 0.7484 - acc: 0.9076 - val_loss: 1.0961 - val_acc: 0.6923\n",
      "Epoch 4/20\n",
      " - 12s - loss: 0.6959 - acc: 0.9463 - val_loss: 1.2340 - val_acc: 0.7448\n",
      "\n",
      "\t>> Score for split 3: 0.7448405253283302\n",
      "\n",
      "Train on 9596 samples, validate on 1066 samples\n",
      "Epoch 1/20\n",
      " - 16s - loss: 1.1765 - acc: 0.4995 - val_loss: 1.0612 - val_acc: 0.5750\n",
      "Epoch 2/20\n",
      " - 12s - loss: 0.9227 - acc: 0.7638 - val_loss: 1.0069 - val_acc: 0.7045\n",
      "Epoch 3/20\n",
      " - 12s - loss: 0.7583 - acc: 0.9018 - val_loss: 1.1507 - val_acc: 0.7148\n",
      "Epoch 4/20\n",
      " - 13s - loss: 0.6906 - acc: 0.9550 - val_loss: 1.3441 - val_acc: 0.7073\n",
      "\n",
      "\t>> Score for split 4: 0.7073170731707317\n",
      "\n",
      "Train on 9596 samples, validate on 1066 samples\n",
      "Epoch 1/20\n",
      " - 16s - loss: 1.1574 - acc: 0.5144 - val_loss: 1.0614 - val_acc: 0.5394\n",
      "Epoch 2/20\n",
      " - 13s - loss: 0.9113 - acc: 0.7579 - val_loss: 1.0090 - val_acc: 0.7064\n",
      "Epoch 3/20\n",
      " - 12s - loss: 0.7481 - acc: 0.9074 - val_loss: 1.1379 - val_acc: 0.7552\n",
      "Epoch 4/20\n",
      " - 13s - loss: 0.6864 - acc: 0.9612 - val_loss: 1.2136 - val_acc: 0.7580\n",
      "\n",
      "\t>> Score for split 5: 0.7579737335834896\n",
      "\n",
      "Train on 9596 samples, validate on 1066 samples\n",
      "Epoch 1/20\n",
      " - 17s - loss: 1.1614 - acc: 0.5128 - val_loss: 1.0583 - val_acc: 0.5300\n",
      "Epoch 2/20\n",
      " - 12s - loss: 0.9066 - acc: 0.7692 - val_loss: 0.9778 - val_acc: 0.7083\n",
      "Epoch 3/20\n",
      " - 12s - loss: 0.7565 - acc: 0.9089 - val_loss: 1.0495 - val_acc: 0.7552\n",
      "Epoch 4/20\n",
      " - 12s - loss: 0.6895 - acc: 0.9583 - val_loss: 1.2296 - val_acc: 0.7495\n",
      "\n",
      "\t>> Score for split 6: 0.7495309568480301\n",
      "\n",
      "Train on 9596 samples, validate on 1066 samples\n",
      "Epoch 1/20\n",
      " - 16s - loss: 1.1517 - acc: 0.5093 - val_loss: 1.0381 - val_acc: 0.6764\n",
      "Epoch 2/20\n",
      " - 11s - loss: 0.9042 - acc: 0.7807 - val_loss: 0.9831 - val_acc: 0.7054\n",
      "Epoch 3/20\n",
      " - 11s - loss: 0.7540 - acc: 0.9056 - val_loss: 1.0857 - val_acc: 0.7486\n",
      "Epoch 4/20\n",
      " - 12s - loss: 0.6854 - acc: 0.9595 - val_loss: 1.2038 - val_acc: 0.7448\n",
      "\n",
      "\t>> Score for split 7: 0.7448405253283302\n",
      "\n",
      "Train on 9596 samples, validate on 1066 samples\n",
      "Epoch 1/20\n",
      " - 18s - loss: 1.1570 - acc: 0.5148 - val_loss: 1.0229 - val_acc: 0.6557\n",
      "Epoch 2/20\n",
      " - 12s - loss: 0.9050 - acc: 0.7849 - val_loss: 1.0025 - val_acc: 0.6707\n",
      "Epoch 3/20\n",
      " - 11s - loss: 0.7575 - acc: 0.9012 - val_loss: 1.1102 - val_acc: 0.7092\n",
      "Epoch 4/20\n",
      " - 11s - loss: 0.6927 - acc: 0.9514 - val_loss: 1.1559 - val_acc: 0.7308\n",
      "\n",
      "\t>> Score for split 8: 0.7307692307692307\n",
      "\n",
      "Train on 9596 samples, validate on 1066 samples\n",
      "Epoch 1/20\n",
      " - 17s - loss: 1.1588 - acc: 0.5098 - val_loss: 1.0577 - val_acc: 0.6276\n",
      "Epoch 2/20\n",
      " - 12s - loss: 0.9132 - acc: 0.7637 - val_loss: 1.0232 - val_acc: 0.7186\n",
      "Epoch 3/20\n",
      " - 12s - loss: 0.7546 - acc: 0.9095 - val_loss: 1.0792 - val_acc: 0.7542\n",
      "Epoch 4/20\n",
      " - 13s - loss: 0.6962 - acc: 0.9559 - val_loss: 1.1085 - val_acc: 0.7608\n",
      "\n",
      "\t>> Score for split 9: 0.7607879924953096\n",
      "\n",
      "Train on 9596 samples, validate on 1066 samples\n",
      "Epoch 1/20\n",
      " - 17s - loss: 1.1656 - acc: 0.5095 - val_loss: 1.0500 - val_acc: 0.5816\n",
      "Epoch 2/20\n",
      " - 13s - loss: 0.9182 - acc: 0.7590 - val_loss: 0.9967 - val_acc: 0.6745\n",
      "Epoch 3/20\n",
      " - 13s - loss: 0.7632 - acc: 0.8955 - val_loss: 1.0910 - val_acc: 0.7167\n",
      "Epoch 4/20\n",
      " - 13s - loss: 0.6894 - acc: 0.9573 - val_loss: 1.2025 - val_acc: 0.7148\n",
      "\n",
      "\t>> Score for split 10: 0.7148217636022514\n",
      "\n",
      "Average accuracy = 0.73925908749148\n"
     ]
    }
   ],
   "source": [
    "from sklearn.model_selection import StratifiedKFold, cross_val_score\n",
    "from keras.callbacks import EarlyStopping\n",
    "from sklearn.metrics import accuracy_score\n",
    "\n",
    "EPOCHS = 20\n",
    "BATCH_SIZE = 128\n",
    "\n",
    "# evaluate using 10-fold CV as in Yoon Kim article\n",
    "FOLDS = 10\n",
    "\n",
    "model = get_model()\n",
    "X = seqs\n",
    "y = np.array(df_all.rating.tolist())\n",
    "kfold = StratifiedKFold(n_splits=FOLDS, shuffle=True, random_state=SEED)\n",
    "acc = list()\n",
    "i = 0\n",
    "for train_index, valid_index in kfold.split(X, y):\n",
    "    i += 1\n",
    "    X_train, X_valid = X[train_index], X[valid_index]\n",
    "    y_train, y_valid = y[train_index], y[valid_index]\n",
    "    model = get_model()\n",
    "    model.fit(X_train, y_train, batch_size=BATCH_SIZE, epochs=EPOCHS, verbose=2, validation_data=(X_valid, y_valid),\\\n",
    "              callbacks=[EarlyStopping(patience=2, monitor='val_loss')])\n",
    "    y_hat = model.predict(X_valid)\n",
    "    y_pred = [round(pred) for pred in y_hat.reshape(-1)]\n",
    "    acc.append(accuracy_score(y_valid, y_pred))\n",
    "    print('\\n\\t>> Score for split {}: {}\\n'.format(i, acc[-1]))\n",
    "\n",
    "print('Average accuracy = {}'.format(np.mean(np.array(acc))))"
   ]
  },
  {
   "cell_type": "code",
   "execution_count": null,
   "metadata": {
    "collapsed": true
   },
   "outputs": [],
   "source": []
  }
 ],
 "metadata": {
  "kernelspec": {
   "display_name": "Python 3",
   "language": "python",
   "name": "python3"
  },
  "language_info": {
   "codemirror_mode": {
    "name": "ipython",
    "version": 3
   },
   "file_extension": ".py",
   "mimetype": "text/x-python",
   "name": "python",
   "nbconvert_exporter": "python",
   "pygments_lexer": "ipython3",
   "version": "3.5.3"
  }
 },
 "nbformat": 4,
 "nbformat_minor": 2
}
