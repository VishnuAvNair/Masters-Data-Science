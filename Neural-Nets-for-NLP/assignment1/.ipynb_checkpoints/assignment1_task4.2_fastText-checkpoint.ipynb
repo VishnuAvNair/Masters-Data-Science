{
 "cells": [
  {
   "cell_type": "markdown",
   "metadata": {},
   "source": [
    "# L665 ML for NLPSpring 2018 \n",
    "\n",
    "## Assignment 1 - Task 4, notebook 2 of 3 \n",
    "### fastTask implementation with Keras per article by Joulan, Armand, et al. \"Bag of tricks for efficient text classification.\" arXiv preprint arXiv:1607.01759 (2016)\n",
    "\n",
    "\n",
    "**My code is modeled after: https://github.com/keras-team/keras/blob/master/examples/imdb_fasttext.py** <br>\n",
    "**With  tips from: https://machinelearningmastery.com/use-word-embedding-layers-deep-learning-keras/** <br>\n",
    "\n",
    "Author: Carlos Sathler"
   ]
  },
  {
   "cell_type": "code",
   "execution_count": 1,
   "metadata": {},
   "outputs": [
    {
     "name": "stderr",
     "output_type": "stream",
     "text": [
      "Using TensorFlow backend.\n"
     ]
    }
   ],
   "source": [
    "import numpy as np\n",
    "import pandas as pd\n",
    "\n",
    "from keras.preprocessing.text import Tokenizer\n",
    "from keras.preprocessing.sequence import pad_sequences\n",
    "from keras.layers import Embedding, GlobalAveragePooling1D, Dense\n",
    "from keras.models import Sequential\n",
    "from keras.preprocessing.sequence import pad_sequences\n",
    "from sklearn.model_selection import train_test_split\n",
    "from sklearn.metrics import accuracy_score\n",
    "\n",
    "import matplotlib.pyplot as plt\n",
    "%matplotlib inline "
   ]
  },
  {
   "cell_type": "markdown",
   "metadata": {},
   "source": [
    "## Read Data"
   ]
  },
  {
   "cell_type": "code",
   "execution_count": 2,
   "metadata": {
    "collapsed": true
   },
   "outputs": [],
   "source": [
    "df_all = pd.read_csv('input/train.csv')\n",
    "drop_cols = ['id', 'severe_toxic', 'obscene', 'threat', 'insult', 'identity_hate']\n",
    "df_all = df_all.drop(drop_cols, axis=1)\n",
    "df_all = df_all.sample(frac=0.2)\n",
    "df_all.head()\n",
    "y_all = df_all.values[:,-1].reshape(-1,1)"
   ]
  },
  {
   "cell_type": "code",
   "execution_count": 3,
   "metadata": {
    "collapsed": true
   },
   "outputs": [],
   "source": [
    "# normalize text\n",
    "import re\n",
    "pat = re.compile(u'[^a-zA-Z0-9]')\n",
    "def normalize(txt):\n",
    "    return pat.sub(' ',txt)\n",
    "    \n",
    "df_all['comment_text'] = df_all['comment_text'].apply(lambda x: normalize(x)) "
   ]
  },
  {
   "cell_type": "markdown",
   "metadata": {},
   "source": [
    "## Define fastText NN model"
   ]
  },
  {
   "cell_type": "code",
   "execution_count": 4,
   "metadata": {
    "collapsed": true
   },
   "outputs": [],
   "source": [
    "def get_fastText_model(voc_size, seq_len, out_dim):\n",
    "    model = Sequential()\n",
    "    # first layer is for sequence of word embeddings that the model will train during classification task\n",
    "    model.add(Embedding(voc_size, out_dim, input_length=seq_len))\n",
    "    # second layer averages word embeddings in comment into a single variable\n",
    "    # this will create the \"hidden variable\" mentioned by Joulin et. al.\n",
    "    model.add(GlobalAveragePooling1D())\n",
    "    # use perceptron node with sigmoid activation since this is a single class problem\n",
    "    model.add(Dense(1, activation='sigmoid'))\n",
    "    print(model.summary())\n",
    "    return model"
   ]
  },
  {
   "cell_type": "markdown",
   "metadata": {},
   "source": [
    "## Create embeddings for words and create sequence of embeddings for each comment"
   ]
  },
  {
   "cell_type": "code",
   "execution_count": 5,
   "metadata": {},
   "outputs": [
    {
     "name": "stdout",
     "output_type": "stream",
     "text": [
      "CPU times: user 3.67 s, sys: 120 ms, total: 3.79 s\n",
      "Wall time: 3.79 s\n"
     ]
    }
   ],
   "source": [
    "%%time\n",
    "VOC_SIZE=10000\n",
    "SEQ_LEN=500\n",
    "EMBEDDING_DIM=300\n",
    "EPOCHS=30\n",
    "\n",
    "X_all = df_all.comment_text.values\n",
    "\n",
    "# use Keras tokenizer to create sequences of word embeddings\n",
    "t = Tokenizer(num_words=VOC_SIZE)\n",
    "t.fit_on_texts(X_all)\n",
    "X_all_seqs = t.texts_to_sequences(X_all)\n",
    "\n",
    "# make all sequences the same length (we don't worry about how big each row is)\n",
    "X_all_seqs = pad_sequences(X_all_seqs, maxlen=SEQ_LEN, dtype='int32', padding='pre', truncating='pre')\n",
    "\n",
    "#print(X_all[1], '\\n', X_all_seqs[1])"
   ]
  },
  {
   "cell_type": "code",
   "execution_count": 6,
   "metadata": {
    "scrolled": false
   },
   "outputs": [
    {
     "name": "stdout",
     "output_type": "stream",
     "text": [
      "_________________________________________________________________\n",
      "Layer (type)                 Output Shape              Param #   \n",
      "=================================================================\n",
      "embedding_1 (Embedding)      (None, 500, 300)          3000000   \n",
      "_________________________________________________________________\n",
      "global_average_pooling1d_1 ( (None, 300)               0         \n",
      "_________________________________________________________________\n",
      "dense_1 (Dense)              (None, 1)                 301       \n",
      "=================================================================\n",
      "Total params: 3,000,301\n",
      "Trainable params: 3,000,301\n",
      "Non-trainable params: 0\n",
      "_________________________________________________________________\n",
      "None\n",
      "Train on 14325 samples, validate on 7057 samples\n",
      "Epoch 1/30\n",
      " - 19s - loss: 0.3260 - acc: 0.9065 - val_loss: 0.3098 - val_acc: 0.9001\n",
      "Epoch 2/30\n",
      " - 18s - loss: 0.2869 - acc: 0.9070 - val_loss: 0.2933 - val_acc: 0.9005\n",
      "Epoch 3/30\n",
      " - 19s - loss: 0.2659 - acc: 0.9079 - val_loss: 0.2750 - val_acc: 0.9015\n",
      "Epoch 4/30\n",
      " - 18s - loss: 0.2377 - acc: 0.9096 - val_loss: 0.2527 - val_acc: 0.9031\n",
      "Epoch 5/30\n",
      " - 19s - loss: 0.2098 - acc: 0.9155 - val_loss: 0.2384 - val_acc: 0.9124\n",
      "Epoch 6/30\n",
      " - 18s - loss: 0.1875 - acc: 0.9228 - val_loss: 0.2296 - val_acc: 0.9123\n",
      "Epoch 7/30\n",
      " - 19s - loss: 0.1692 - acc: 0.9297 - val_loss: 0.2185 - val_acc: 0.9202\n",
      "Epoch 8/30\n",
      " - 19s - loss: 0.1541 - acc: 0.9356 - val_loss: 0.2201 - val_acc: 0.9175\n",
      "Epoch 9/30\n",
      " - 19s - loss: 0.1400 - acc: 0.9402 - val_loss: 0.2062 - val_acc: 0.9318\n",
      "Epoch 10/30\n",
      " - 18s - loss: 0.1287 - acc: 0.9477 - val_loss: 0.2061 - val_acc: 0.9265\n",
      "Epoch 11/30\n",
      " - 19s - loss: 0.1188 - acc: 0.9518 - val_loss: 0.1984 - val_acc: 0.9364\n",
      "Epoch 12/30\n",
      " - 19s - loss: 0.1086 - acc: 0.9561 - val_loss: 0.1957 - val_acc: 0.9403\n",
      "Epoch 13/30\n",
      " - 18s - loss: 0.1006 - acc: 0.9613 - val_loss: 0.1967 - val_acc: 0.9368\n",
      "Epoch 14/30\n",
      " - 18s - loss: 0.0932 - acc: 0.9657 - val_loss: 0.1961 - val_acc: 0.9386\n",
      "Epoch 15/30\n",
      " - 18s - loss: 0.0855 - acc: 0.9675 - val_loss: 0.1919 - val_acc: 0.9470\n",
      "Epoch 16/30\n",
      " - 18s - loss: 0.0794 - acc: 0.9702 - val_loss: 0.1924 - val_acc: 0.9479\n",
      "Epoch 17/30\n",
      " - 18s - loss: 0.0739 - acc: 0.9737 - val_loss: 0.1922 - val_acc: 0.9484\n",
      "Epoch 18/30\n",
      " - 19s - loss: 0.0695 - acc: 0.9750 - val_loss: 0.1933 - val_acc: 0.9477\n",
      "Epoch 19/30\n",
      " - 19s - loss: 0.0643 - acc: 0.9779 - val_loss: 0.1958 - val_acc: 0.9488\n",
      "Epoch 20/30\n",
      " - 19s - loss: 0.0619 - acc: 0.9791 - val_loss: 0.2007 - val_acc: 0.9491\n",
      "Epoch 21/30\n",
      " - 19s - loss: 0.0569 - acc: 0.9806 - val_loss: 0.1989 - val_acc: 0.9488\n",
      "Epoch 22/30\n",
      " - 19s - loss: 0.0528 - acc: 0.9822 - val_loss: 0.1989 - val_acc: 0.9493\n",
      "Epoch 23/30\n",
      " - 20s - loss: 0.0498 - acc: 0.9842 - val_loss: 0.2022 - val_acc: 0.9484\n",
      "Epoch 24/30\n",
      " - 19s - loss: 0.0464 - acc: 0.9846 - val_loss: 0.2133 - val_acc: 0.9487\n",
      "Epoch 25/30\n",
      " - 19s - loss: 0.0441 - acc: 0.9858 - val_loss: 0.2076 - val_acc: 0.9486\n",
      "Epoch 26/30\n",
      " - 19s - loss: 0.0416 - acc: 0.9865 - val_loss: 0.2387 - val_acc: 0.9442\n",
      "Epoch 27/30\n",
      " - 19s - loss: 0.0390 - acc: 0.9872 - val_loss: 0.2412 - val_acc: 0.9453\n",
      "Epoch 28/30\n",
      " - 19s - loss: 0.0368 - acc: 0.9885 - val_loss: 0.2174 - val_acc: 0.9498\n",
      "Epoch 29/30\n",
      " - 19s - loss: 0.0346 - acc: 0.9897 - val_loss: 0.2203 - val_acc: 0.9496\n",
      "Epoch 30/30\n",
      " - 19s - loss: 0.0330 - acc: 0.9900 - val_loss: 0.2272 - val_acc: 0.9496\n"
     ]
    },
    {
     "data": {
      "image/png": "[encoded data removed]",
      "text/plain": [
       "<matplotlib.figure.Figure at 0x1a19518128>"
      ]
     },
     "metadata": {},
     "output_type": "display_data"
    },
    {
     "name": "stdout",
     "output_type": "stream",
     "text": [
      "CPU times: user 38min 15s, sys: 4min 13s, total: 42min 29s\n",
      "Wall time: 9min 25s\n"
     ]
    }
   ],
   "source": [
    "%%time\n",
    "\n",
    "# partition data\n",
    "X_train, X_test, y_train, y_test = train_test_split(X_all_seqs, y_all, test_size=0.33)\n",
    "X_t, X_v, y_t, y_v = train_test_split(X_train, y_train, test_size=0.33)\n",
    "\n",
    "model = get_fastText_model(VOC_SIZE, SEQ_LEN, EMBEDDING_DIM)\n",
    "# define optimizer, loss and metric for learning\n",
    "model.compile(loss='binary_crossentropy', optimizer='adam', metrics=['accuracy'])\n",
    "# train the model\n",
    "history = model.fit(X_t, y_t, batch_size=32, epochs=EPOCHS, validation_data=(X_v, y_v), verbose=2)\n",
    "\n",
    "plt.plot(history.history['loss'], label='train')\n",
    "plt.plot(history.history['val_loss'], label='test')\n",
    "\n",
    "plt.legend()\n",
    "plt.show()"
   ]
  },
  {
   "cell_type": "code",
   "execution_count": 7,
   "metadata": {},
   "outputs": [
    {
     "name": "stdout",
     "output_type": "stream",
     "text": [
      "Accuracy = 0.9377136346372958\n"
     ]
    }
   ],
   "source": [
    "y_hat = model.predict(X_test)\n",
    "y_hat = np.round(y_hat,1).astype('int')\n",
    "acc = accuracy_score(y_test.astype('int'), y_hat)\n",
    "print(\"Accuracy = {}\".format(acc))"
   ]
  },
  {
   "cell_type": "code",
   "execution_count": null,
   "metadata": {
    "collapsed": true
   },
   "outputs": [],
   "source": []
  }
 ],
 "metadata": {
  "kernelspec": {
   "display_name": "Python 3",
   "language": "python",
   "name": "python3"
  },
  "language_info": {
   "codemirror_mode": {
    "name": "ipython",
    "version": 3
   },
   "file_extension": ".py",
   "mimetype": "text/x-python",
   "name": "python",
   "nbconvert_exporter": "python",
   "pygments_lexer": "ipython3",
   "version": "3.5.3"
  }
 },
 "nbformat": 4,
 "nbformat_minor": 2
}
