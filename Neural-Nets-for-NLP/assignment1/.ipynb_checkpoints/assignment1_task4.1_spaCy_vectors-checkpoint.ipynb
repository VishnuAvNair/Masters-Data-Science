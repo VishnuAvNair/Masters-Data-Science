{
 "cells": [
  {
   "cell_type": "markdown",
   "metadata": {},
   "source": [
    "# L665 ML for NLPSpring 2018 \n",
    "\n",
    "## Assignment 1 - Task 4, notebook 1 of 3 \n",
    "### Recurrent NN with Keras using vectorized vocabulary created with spaCy\n",
    "\n",
    "Author: Carlos Sathler"
   ]
  },
  {
   "cell_type": "code",
   "execution_count": 1,
   "metadata": {
    "collapsed": true
   },
   "outputs": [],
   "source": [
    "import numpy as np\n",
    "import pandas as pd\n",
    "import gc\n",
    "\n",
    "from sklearn.model_selection import train_test_split\n",
    "\n",
    "import matplotlib.pyplot as plt\n",
    "%matplotlib inline  "
   ]
  },
  {
   "cell_type": "markdown",
   "metadata": {},
   "source": [
    "## Read toxic comments dataset\n",
    "\n",
    "Source: Kaggle Toxic Comment Classification Challenge (https://www.kaggle.com/c/jigsaw-toxic-comment-classification-challenge/data)"
   ]
  },
  {
   "cell_type": "code",
   "execution_count": 2,
   "metadata": {},
   "outputs": [],
   "source": [
    "df_all = pd.read_csv('input/train.csv')\n",
    "drop_cols = ['id', 'severe_toxic', 'obscene', 'threat', 'insult', 'identity_hate']\n",
    "df_all = df_all.drop(drop_cols, axis=1)\n",
    "df_all = df_all.sample(frac=0.2)\n",
    "df_all.head()\n",
    "y_all = df_all.values[:,-1].reshape(-1,1)"
   ]
  },
  {
   "cell_type": "code",
   "execution_count": 3,
   "metadata": {},
   "outputs": [
    {
     "name": "stdout",
     "output_type": "stream",
     "text": [
      "Percentage of toxic comments: 0.09779407156733722\n"
     ]
    }
   ],
   "source": [
    "print('Percentage of toxic comments: {}'.format(df_all['toxic'].sum() / df_all['toxic'].count()))"
   ]
  },
  {
   "cell_type": "code",
   "execution_count": 4,
   "metadata": {
    "collapsed": true
   },
   "outputs": [],
   "source": [
    "# normalize text\n",
    "import re\n",
    "pat = re.compile(u'[^a-zA-Z0-9]')\n",
    "def normalize(txt):\n",
    "    return pat.sub(' ',txt)\n",
    "    \n",
    "df_all['comment_text'] = df_all['comment_text'].apply(lambda x: normalize(x)) "
   ]
  },
  {
   "cell_type": "markdown",
   "metadata": {},
   "source": [
    "## Vectorize vocabulary using spaCy\n",
    "\n",
    "Will following instructions found here: https://spacy.io/usage/vectors-similarity#section-custom"
   ]
  },
  {
   "cell_type": "code",
   "execution_count": 5,
   "metadata": {},
   "outputs": [
    {
     "name": "stdout",
     "output_type": "stream",
     "text": [
      "Vocabulary size: 1071394\n",
      "CPU times: user 11.8 s, sys: 1.83 s, total: 13.6 s\n",
      "Wall time: 14.8 s\n"
     ]
    }
   ],
   "source": [
    "%%time\n",
    "\n",
    "import spacy\n",
    "\n",
    "# load en_vectors_web_lg model which provides 300-dimensional GloVe vectors for over 1 million terms of English\n",
    "nlp = spacy.load('en_vectors_web_lg')\n",
    "print('Vocabulary size: {}'.format(nlp.vocab.length))"
   ]
  },
  {
   "cell_type": "code",
   "execution_count": 6,
   "metadata": {},
   "outputs": [
    {
     "name": "stdout",
     "output_type": "stream",
     "text": [
      "Human similarity with Human = 0.9999999403953552\n",
      "Human similarity with Man = 0.4376973807811737\n",
      "Human similarity with Woman = 0.42690593004226685\n",
      "Man similarity with Human = 0.4376973807811737\n",
      "Man similarity with Man = 1.0\n",
      "Man similarity with Woman = 0.740174412727356\n",
      "Woman similarity with Human = 0.42690593004226685\n",
      "Woman similarity with Man = 0.740174412727356\n",
      "Woman similarity with Woman = 1.0\n",
      "CPU times: user 104 ms, sys: 7.12 ms, total: 112 ms\n",
      "Wall time: 335 ms\n"
     ]
    }
   ],
   "source": [
    "%%time\n",
    "\n",
    "# exploring similarity using the loaded word vectors\n",
    "tokens = nlp(u'Human Man Woman')\n",
    "\n",
    "for token1 in tokens:\n",
    "    for token2 in tokens:\n",
    "        print(\"{} similarity with {} = {}\".format(token1.text, token2.text, token1.similarity(token2)))"
   ]
  },
  {
   "cell_type": "code",
   "execution_count": 7,
   "metadata": {},
   "outputs": [
    {
     "name": "stdout",
     "output_type": "stream",
     "text": [
      "CPU times: user 21.1 s, sys: 391 ms, total: 21.5 s\n",
      "Wall time: 21.5 s\n"
     ]
    },
    {
     "data": {
      "image/png": "[encoded data removed]",
      "text/plain": [
       "<matplotlib.figure.Figure at 0x1a8f5ce588>"
      ]
     },
     "metadata": {},
     "output_type": "display_data"
    }
   ],
   "source": [
    "%%time\n",
    "\n",
    "# create list of comments converted to embedded word vectors\n",
    "\n",
    "comm_list = []\n",
    "for comment in df_all.comment_text.values:\n",
    "    tokens = nlp(comment)\n",
    "    comm_row = []\n",
    "    for token in tokens:\n",
    "        # each workd is vector of dimmenstion (300,)\n",
    "        token_vec = token.vector\n",
    "        # each comment will be stored as a list of arrays \n",
    "        comm_row.append(token_vec)\n",
    "    # comment_list is a list of lists of arrays, each list of arrays representing a comment, \n",
    "    # eacha array of shape (300,) representing a vectorized word\n",
    "    comm_list.append(comm_row)\n",
    "\n",
    "del nlp\n",
    "gc.collect()\n",
    "    \n",
    "# plot comment token count for dataset\n",
    "comm_token_count = [len(comm) for comm in comm_list]\n",
    "_ = plt.hist(comm_token_count)"
   ]
  },
  {
   "cell_type": "code",
   "execution_count": 8,
   "metadata": {},
   "outputs": [
    {
     "name": "stdout",
     "output_type": "stream",
     "text": [
      "CPU times: user 489 ms, sys: 16.7 ms, total: 505 ms\n",
      "Wall time: 504 ms\n"
     ]
    },
    {
     "data": {
      "image/png": "[encoded data removed]",
      "text/plain": [
       "<matplotlib.figure.Figure at 0x1a182fae48>"
      ]
     },
     "metadata": {},
     "output_type": "display_data"
    }
   ],
   "source": [
    "%%time\n",
    "\n",
    "# trim comments to 200 tokens max\n",
    "comm_list_1k = [comm[:200] for comm in comm_list]\n",
    "\n",
    "# plot comment token count for dataset\n",
    "comm_token_count = [len(comm) for comm in comm_list_1k]\n",
    "_ = plt.hist(comm_token_count)\n",
    "\n",
    "del comm_list, df_all\n",
    "gc.collect()"
   ]
  },
  {
   "cell_type": "code",
   "execution_count": 9,
   "metadata": {},
   "outputs": [
    {
     "name": "stdout",
     "output_type": "stream",
     "text": [
      "CPU times: user 1.76 s, sys: 20.3 ms, total: 1.78 s\n",
      "Wall time: 1.79 s\n"
     ]
    },
    {
     "data": {
      "image/png": "[encoded data removed]",
      "text/plain": [
       "<matplotlib.figure.Figure at 0x1a42b995f8>"
      ]
     },
     "metadata": {},
     "output_type": "display_data"
    }
   ],
   "source": [
    "%%time\n",
    "\n",
    "# insert elements in comment list so each list element has 1000 arrays of size (300,)\n",
    "i = 0\n",
    "blank_vec = np.zeros(300)\n",
    "for comm in comm_list_1k:\n",
    "    for k in range(0,200-len(comm)):\n",
    "        comm.insert(0,blank_vec)\n",
    "    comm_list_1k[i] = comm\n",
    "    i += 1\n",
    "    \n",
    "# plot comment token count for dataset\n",
    "comm_token_count = [len(comm) for comm in comm_list_1k]\n",
    "_ = plt.hist(comm_token_count)\n",
    "\n",
    "del comm_token_count\n",
    "gc.collect()"
   ]
  },
  {
   "cell_type": "code",
   "execution_count": 10,
   "metadata": {},
   "outputs": [
    {
     "data": {
      "text/plain": [
       "91"
      ]
     },
     "execution_count": 10,
     "metadata": {},
     "output_type": "execute_result"
    }
   ],
   "source": [
    "X_all = np.array(comm_list_1k)\n",
    "\n",
    "del comm_list_1k\n",
    "gc.collect()"
   ]
  },
  {
   "cell_type": "code",
   "execution_count": 11,
   "metadata": {},
   "outputs": [
    {
     "name": "stdout",
     "output_type": "stream",
     "text": [
      "(31914, 200, 300)\n",
      "(31914, 1)\n"
     ]
    }
   ],
   "source": [
    "print(X_all.shape)\n",
    "print(y_all.shape)"
   ]
  },
  {
   "cell_type": "markdown",
   "metadata": {},
   "source": [
    "## LSTM implementation with keras\n",
    "\n",
    "Guidelines per https://keras.io/getting-started/sequential-model-guide/"
   ]
  },
  {
   "cell_type": "code",
   "execution_count": 12,
   "metadata": {},
   "outputs": [
    {
     "name": "stderr",
     "output_type": "stream",
     "text": [
      "Using TensorFlow backend.\n"
     ]
    }
   ],
   "source": [
    "from sklearn.metrics import accuracy_score\n",
    "from keras.models import Sequential\n",
    "from keras.layers import LSTM, Dense\n",
    "from keras import regularizers\n",
    "\n",
    "def LSTM_model(X, y, seqlen=10, epochs=50, batch_size=32):\n",
    "    \n",
    "    # create partitions for training\n",
    "    X_train, X_valid, y_train, y_valid = train_test_split(X, y, test_size=0.33)\n",
    "    \n",
    "    print(X_train.shape)\n",
    "    print(X_valid.shape)\n",
    "    print(y_train.shape)\n",
    "    print(y_valid.shape)\n",
    "    \n",
    "    # build graph\n",
    "    model = Sequential()\n",
    "    \n",
    "    #keras.layers.LSTM(units, activation='tanh', recurrent_activation='hard_sigmoid', \n",
    "    #              use_bias=True, kernel_initializer='glorot_uniform', \n",
    "    #              recurrent_initializer='orthogonal', bias_initializer='zeros', \n",
    "    #              unit_forget_bias=True, kernel_regularizer=None, recurrent_regularizer=None, \n",
    "    #              bias_regularizer=None, activity_regularizer=None, kernel_constraint=None, \n",
    "    #              recurrent_constraint=None, bias_constraint=None, dropout=0.0, \n",
    "    #              recurrent_dropout=0.0, implementation=1, return_sequences=False, \n",
    "    #              return_state=False, go_backwards=False, stateful=False, unroll=False)\n",
    "\n",
    "    model.add(LSTM(256, input_shape=(X_train.shape[1], X_train.shape[2]),return_sequences=False))\n",
    "    model.add(Dense(1, activation='sigmoid'))\n",
    "    model.compile(loss='binary_crossentropy', optimizer='rmsprop', metrics=['accuracy'])\n",
    "    \n",
    "    # fit net\n",
    "    history = model.fit(X_train, y_train, epochs=epochs, batch_size=batch_size, \n",
    "                        validation_data=(X_valid, y_valid), verbose=2, shuffle=False)\n",
    "    \n",
    "    plt.plot(history.history['loss'], label='train')\n",
    "    plt.plot(history.history['val_loss'], label='test')\n",
    "    \n",
    "    #print(\"Final loss train: {}\".format(history.history['loss'][-1]))\n",
    "    #print(\"Final loss valid: {}\".format(history.history['val_loss'][-1]))\n",
    "\n",
    "    plt.legend()\n",
    "    plt.show()\n",
    "    \n",
    "    return model"
   ]
  },
  {
   "cell_type": "code",
   "execution_count": 13,
   "metadata": {},
   "outputs": [
    {
     "name": "stdout",
     "output_type": "stream",
     "text": [
      "(14325, 200, 300)\n",
      "(7057, 200, 300)\n",
      "(14325, 1)\n",
      "(7057, 1)\n",
      "Train on 14325 samples, validate on 7057 samples\n",
      "Epoch 1/10\n",
      " - 253s - loss: 0.1637 - acc: 0.9475 - val_loss: 0.1871 - val_acc: 0.9392\n",
      "Epoch 2/10\n",
      " - 240s - loss: 0.1233 - acc: 0.9562 - val_loss: 0.1227 - val_acc: 0.9586\n",
      "Epoch 3/10\n",
      " - 232s - loss: 0.1065 - acc: 0.9616 - val_loss: 0.1238 - val_acc: 0.9562\n",
      "Epoch 4/10\n",
      " - 226s - loss: 0.0953 - acc: 0.9661 - val_loss: 0.1174 - val_acc: 0.9569\n",
      "Epoch 5/10\n",
      " - 244s - loss: 0.0873 - acc: 0.9694 - val_loss: 0.1229 - val_acc: 0.9593\n",
      "Epoch 6/10\n",
      " - 246s - loss: 0.0708 - acc: 0.9748 - val_loss: 0.1249 - val_acc: 0.9542\n",
      "Epoch 7/10\n",
      " - 249s - loss: 0.0588 - acc: 0.9793 - val_loss: 0.1339 - val_acc: 0.9581\n",
      "Epoch 8/10\n",
      " - 242s - loss: 0.0446 - acc: 0.9853 - val_loss: 0.1670 - val_acc: 0.9537\n",
      "Epoch 9/10\n",
      " - 234s - loss: 0.0340 - acc: 0.9892 - val_loss: 0.1800 - val_acc: 0.9501\n",
      "Epoch 10/10\n",
      " - 230s - loss: 0.0246 - acc: 0.9924 - val_loss: 0.1889 - val_acc: 0.9555\n"
     ]
    },
    {
     "data": {
      "image/png": "[encoded data removed]",
      "text/plain": [
       "<matplotlib.figure.Figure at 0x1a1a6c1d68>"
      ]
     },
     "metadata": {},
     "output_type": "display_data"
    },
    {
     "name": "stdout",
     "output_type": "stream",
     "text": [
      "CPU times: user 3h 42min 46s, sys: 19min 59s, total: 4h 2min 46s\n",
      "Wall time: 41min 26s\n"
     ]
    }
   ],
   "source": [
    "%%time\n",
    "\n",
    "X_t, X_v, y_t, y_v = train_test_split(X_all, y_all, test_size=0.33)\n",
    "\n",
    "del X_all, y_all\n",
    "gc.collect()\n",
    "\n",
    "model = LSTM_model(X_t, y_t, 200, 10, 32)"
   ]
  },
  {
   "cell_type": "code",
   "execution_count": 14,
   "metadata": {},
   "outputs": [
    {
     "name": "stdout",
     "output_type": "stream",
     "text": [
      "Accuracy = 0.9554690467147741\n"
     ]
    }
   ],
   "source": [
    "y_hat = model.predict(X_v)\n",
    "y_hat = np.round(y_hat,1).astype('int')\n",
    "acc = accuracy_score(y_v.astype('int'), y_hat)\n",
    "print(\"Accuracy = {}\".format(acc))"
   ]
  },
  {
   "cell_type": "code",
   "execution_count": null,
   "metadata": {
    "collapsed": true
   },
   "outputs": [],
   "source": []
  }
 ],
 "metadata": {
  "kernelspec": {
   "display_name": "Python 3",
   "language": "python",
   "name": "python3"
  },
  "language_info": {
   "codemirror_mode": {
    "name": "ipython",
    "version": 3
   },
   "file_extension": ".py",
   "mimetype": "text/x-python",
   "name": "python",
   "nbconvert_exporter": "python",
   "pygments_lexer": "ipython3",
   "version": "3.5.3"
  }
 },
 "nbformat": 4,
 "nbformat_minor": 2
}
