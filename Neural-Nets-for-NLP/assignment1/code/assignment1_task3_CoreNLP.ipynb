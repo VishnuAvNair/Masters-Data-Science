{
 "cells": [
  {
   "cell_type": "markdown",
   "metadata": {},
   "source": [
    "# L665 ML for NLPSpring 2018 \n",
    "\n",
    "## Assignment 1 - Task 3 \n",
    "\n",
    "Note: Notebook requires coreNLP server is installed and running..."
   ]
  },
  {
   "cell_type": "code",
   "execution_count": 1,
   "metadata": {
    "collapsed": true
   },
   "outputs": [],
   "source": [
    "# we will use the python CoreNLP wrapper py-coreNLP, per recommendation in Stanford CoreNLP official pages\n",
    "# https://github.com/smilli/py-corenlp\n",
    "\n",
    "from pycorenlp import StanfordCoreNLP\n",
    "nlp = StanfordCoreNLP('http://localhost:9000')"
   ]
  },
  {
   "cell_type": "markdown",
   "metadata": {},
   "source": [
    "## Exploring data structure received from server\n",
    "\n",
    "Below we explore the dictionary populated with data received from CoreNLP through different call types. <br>\n",
    "**Towards the end of the notebook we retrieve the sentenses parse trees and create a vector of embeddings to represent a contituint parse tree.**"
   ]
  },
  {
   "cell_type": "code",
   "execution_count": 2,
   "metadata": {
    "collapsed": true
   },
   "outputs": [],
   "source": [
    "# follwowing example from github, using sentence proposed in assignment\n",
    "# annotations defined here: https://stanfordnlp.github.io/CoreNLP/annotators.html\n",
    "txt = u'John met Susan in the mall.  She told him that she is traveling to Europe next week.'\n",
    "annotators = ['pos', 'ner', 'depparse', 'lemma', 'parse', 'dcoref']\n",
    "output = dict()\n",
    "for annotator in annotators:\n",
    "    output[annotator] = nlp.annotate(txt, properties={'annotators': annotator, 'outputFormat': 'json'})"
   ]
  },
  {
   "cell_type": "code",
   "execution_count": 3,
   "metadata": {
    "scrolled": false
   },
   "outputs": [
    {
     "name": "stdout",
     "output_type": "stream",
     "text": [
      "{'sentences': [{'index': 0, 'tokens': [{'after': ' ', 'index': 1, 'characterOffsetBegin': 0, 'lemma': 'John', 'originalText': 'John', 'word': 'John', 'before': '', 'pos': 'NNP', 'characterOffsetEnd': 4}, {'after': ' ', 'index': 2, 'characterOffsetBegin': 5, 'lemma': 'meet', 'originalText': 'met', 'word': 'met', 'before': ' ', 'pos': 'VBD', 'characterOffsetEnd': 8}, {'after': ' ', 'index': 3, 'characterOffsetBegin': 9, 'lemma': 'Susan', 'originalText': 'Susan', 'word': 'Susan', 'before': ' ', 'pos': 'NNP', 'characterOffsetEnd': 14}, {'after': ' ', 'index': 4, 'characterOffsetBegin': 15, 'lemma': 'in', 'originalText': 'in', 'word': 'in', 'before': ' ', 'pos': 'IN', 'characterOffsetEnd': 17}, {'after': ' ', 'index': 5, 'characterOffsetBegin': 18, 'lemma': 'the', 'originalText': 'the', 'word': 'the', 'before': ' ', 'pos': 'DT', 'characterOffsetEnd': 21}, {'after': '', 'index': 6, 'characterOffsetBegin': 22, 'lemma': 'mall', 'originalText': 'mall', 'word': 'mall', 'before': ' ', 'pos': 'NN', 'characterOffsetEnd': 26}, {'after': '  ', 'index': 7, 'characterOffsetBegin': 26, 'lemma': '.', 'originalText': '.', 'word': '.', 'before': '', 'pos': '.', 'characterOffsetEnd': 27}]}, {'index': 1, 'tokens': [{'after': ' ', 'index': 1, 'characterOffsetBegin': 29, 'lemma': 'she', 'originalText': 'She', 'word': 'She', 'before': '  ', 'pos': 'PRP', 'characterOffsetEnd': 32}, {'after': ' ', 'index': 2, 'characterOffsetBegin': 33, 'lemma': 'tell', 'originalText': 'told', 'word': 'told', 'before': ' ', 'pos': 'VBD', 'characterOffsetEnd': 37}, {'after': ' ', 'index': 3, 'characterOffsetBegin': 38, 'lemma': 'he', 'originalText': 'him', 'word': 'him', 'before': ' ', 'pos': 'PRP', 'characterOffsetEnd': 41}, {'after': ' ', 'index': 4, 'characterOffsetBegin': 42, 'lemma': 'that', 'originalText': 'that', 'word': 'that', 'before': ' ', 'pos': 'IN', 'characterOffsetEnd': 46}, {'after': ' ', 'index': 5, 'characterOffsetBegin': 47, 'lemma': 'she', 'originalText': 'she', 'word': 'she', 'before': ' ', 'pos': 'PRP', 'characterOffsetEnd': 50}, {'after': ' ', 'index': 6, 'characterOffsetBegin': 51, 'lemma': 'be', 'originalText': 'is', 'word': 'is', 'before': ' ', 'pos': 'VBZ', 'characterOffsetEnd': 53}, {'after': ' ', 'index': 7, 'characterOffsetBegin': 54, 'lemma': 'travel', 'originalText': 'traveling', 'word': 'traveling', 'before': ' ', 'pos': 'VBG', 'characterOffsetEnd': 63}, {'after': ' ', 'index': 8, 'characterOffsetBegin': 64, 'lemma': 'to', 'originalText': 'to', 'word': 'to', 'before': ' ', 'pos': 'TO', 'characterOffsetEnd': 66}, {'after': ' ', 'index': 9, 'characterOffsetBegin': 67, 'lemma': 'Europe', 'originalText': 'Europe', 'word': 'Europe', 'before': ' ', 'pos': 'NNP', 'characterOffsetEnd': 73}, {'after': ' ', 'index': 10, 'characterOffsetBegin': 74, 'lemma': 'next', 'originalText': 'next', 'word': 'next', 'before': ' ', 'pos': 'IN', 'characterOffsetEnd': 78}, {'after': '', 'index': 11, 'characterOffsetBegin': 79, 'lemma': 'week', 'originalText': 'week', 'word': 'week', 'before': ' ', 'pos': 'NN', 'characterOffsetEnd': 83}, {'after': '', 'index': 12, 'characterOffsetBegin': 83, 'lemma': '.', 'originalText': '.', 'word': '.', 'before': '', 'pos': '.', 'characterOffsetEnd': 84}]}]}\n"
     ]
    }
   ],
   "source": [
    "print(output['lemma'])"
   ]
  },
  {
   "cell_type": "code",
   "execution_count": 4,
   "metadata": {},
   "outputs": [
    {
     "name": "stdout",
     "output_type": "stream",
     "text": [
      "[{'index': 0, 'tokens': [{'after': ' ', 'index': 1, 'characterOffsetBegin': 0, 'lemma': 'John', 'originalText': 'John', 'word': 'John', 'before': '', 'pos': 'NNP', 'characterOffsetEnd': 4}, {'after': ' ', 'index': 2, 'characterOffsetBegin': 5, 'lemma': 'meet', 'originalText': 'met', 'word': 'met', 'before': ' ', 'pos': 'VBD', 'characterOffsetEnd': 8}, {'after': ' ', 'index': 3, 'characterOffsetBegin': 9, 'lemma': 'Susan', 'originalText': 'Susan', 'word': 'Susan', 'before': ' ', 'pos': 'NNP', 'characterOffsetEnd': 14}, {'after': ' ', 'index': 4, 'characterOffsetBegin': 15, 'lemma': 'in', 'originalText': 'in', 'word': 'in', 'before': ' ', 'pos': 'IN', 'characterOffsetEnd': 17}, {'after': ' ', 'index': 5, 'characterOffsetBegin': 18, 'lemma': 'the', 'originalText': 'the', 'word': 'the', 'before': ' ', 'pos': 'DT', 'characterOffsetEnd': 21}, {'after': '', 'index': 6, 'characterOffsetBegin': 22, 'lemma': 'mall', 'originalText': 'mall', 'word': 'mall', 'before': ' ', 'pos': 'NN', 'characterOffsetEnd': 26}, {'after': '  ', 'index': 7, 'characterOffsetBegin': 26, 'lemma': '.', 'originalText': '.', 'word': '.', 'before': '', 'pos': '.', 'characterOffsetEnd': 27}]}, {'index': 1, 'tokens': [{'after': ' ', 'index': 1, 'characterOffsetBegin': 29, 'lemma': 'she', 'originalText': 'She', 'word': 'She', 'before': '  ', 'pos': 'PRP', 'characterOffsetEnd': 32}, {'after': ' ', 'index': 2, 'characterOffsetBegin': 33, 'lemma': 'tell', 'originalText': 'told', 'word': 'told', 'before': ' ', 'pos': 'VBD', 'characterOffsetEnd': 37}, {'after': ' ', 'index': 3, 'characterOffsetBegin': 38, 'lemma': 'he', 'originalText': 'him', 'word': 'him', 'before': ' ', 'pos': 'PRP', 'characterOffsetEnd': 41}, {'after': ' ', 'index': 4, 'characterOffsetBegin': 42, 'lemma': 'that', 'originalText': 'that', 'word': 'that', 'before': ' ', 'pos': 'IN', 'characterOffsetEnd': 46}, {'after': ' ', 'index': 5, 'characterOffsetBegin': 47, 'lemma': 'she', 'originalText': 'she', 'word': 'she', 'before': ' ', 'pos': 'PRP', 'characterOffsetEnd': 50}, {'after': ' ', 'index': 6, 'characterOffsetBegin': 51, 'lemma': 'be', 'originalText': 'is', 'word': 'is', 'before': ' ', 'pos': 'VBZ', 'characterOffsetEnd': 53}, {'after': ' ', 'index': 7, 'characterOffsetBegin': 54, 'lemma': 'travel', 'originalText': 'traveling', 'word': 'traveling', 'before': ' ', 'pos': 'VBG', 'characterOffsetEnd': 63}, {'after': ' ', 'index': 8, 'characterOffsetBegin': 64, 'lemma': 'to', 'originalText': 'to', 'word': 'to', 'before': ' ', 'pos': 'TO', 'characterOffsetEnd': 66}, {'after': ' ', 'index': 9, 'characterOffsetBegin': 67, 'lemma': 'Europe', 'originalText': 'Europe', 'word': 'Europe', 'before': ' ', 'pos': 'NNP', 'characterOffsetEnd': 73}, {'after': ' ', 'index': 10, 'characterOffsetBegin': 74, 'lemma': 'next', 'originalText': 'next', 'word': 'next', 'before': ' ', 'pos': 'IN', 'characterOffsetEnd': 78}, {'after': '', 'index': 11, 'characterOffsetBegin': 79, 'lemma': 'week', 'originalText': 'week', 'word': 'week', 'before': ' ', 'pos': 'NN', 'characterOffsetEnd': 83}, {'after': '', 'index': 12, 'characterOffsetBegin': 83, 'lemma': '.', 'originalText': '.', 'word': '.', 'before': '', 'pos': '.', 'characterOffsetEnd': 84}]}]\n",
      "2\n"
     ]
    }
   ],
   "source": [
    "print(output['lemma']['sentences'])\n",
    "print(len(output['lemma']['sentences']))"
   ]
  },
  {
   "cell_type": "code",
   "execution_count": 5,
   "metadata": {},
   "outputs": [
    {
     "name": "stdout",
     "output_type": "stream",
     "text": [
      "[{'after': ' ', 'index': 1, 'characterOffsetBegin': 0, 'lemma': 'John', 'originalText': 'John', 'word': 'John', 'before': '', 'pos': 'NNP', 'characterOffsetEnd': 4}, {'after': ' ', 'index': 2, 'characterOffsetBegin': 5, 'lemma': 'meet', 'originalText': 'met', 'word': 'met', 'before': ' ', 'pos': 'VBD', 'characterOffsetEnd': 8}, {'after': ' ', 'index': 3, 'characterOffsetBegin': 9, 'lemma': 'Susan', 'originalText': 'Susan', 'word': 'Susan', 'before': ' ', 'pos': 'NNP', 'characterOffsetEnd': 14}, {'after': ' ', 'index': 4, 'characterOffsetBegin': 15, 'lemma': 'in', 'originalText': 'in', 'word': 'in', 'before': ' ', 'pos': 'IN', 'characterOffsetEnd': 17}, {'after': ' ', 'index': 5, 'characterOffsetBegin': 18, 'lemma': 'the', 'originalText': 'the', 'word': 'the', 'before': ' ', 'pos': 'DT', 'characterOffsetEnd': 21}, {'after': '', 'index': 6, 'characterOffsetBegin': 22, 'lemma': 'mall', 'originalText': 'mall', 'word': 'mall', 'before': ' ', 'pos': 'NN', 'characterOffsetEnd': 26}, {'after': '  ', 'index': 7, 'characterOffsetBegin': 26, 'lemma': '.', 'originalText': '.', 'word': '.', 'before': '', 'pos': '.', 'characterOffsetEnd': 27}]\n"
     ]
    }
   ],
   "source": [
    "print(output['lemma']['sentences'][0]['tokens'])"
   ]
  },
  {
   "cell_type": "code",
   "execution_count": 6,
   "metadata": {},
   "outputs": [
    {
     "name": "stdout",
     "output_type": "stream",
     "text": [
      "Token #1: John\n",
      "\tOriginal text: John \t=> lemma: John\n",
      "Token #2: met\n",
      "\tOriginal text: met \t=> lemma: meet\n",
      "Token #3: Susan\n",
      "\tOriginal text: Susan \t=> lemma: Susan\n",
      "Token #4: in\n",
      "\tOriginal text: in \t=> lemma: in\n",
      "Token #5: the\n",
      "\tOriginal text: the \t=> lemma: the\n",
      "Token #6: mall\n",
      "\tOriginal text: mall \t=> lemma: mall\n",
      "Token #7: .\n",
      "\tOriginal text: . \t=> lemma: .\n"
     ]
    }
   ],
   "source": [
    "annotation='lemma'\n",
    "t=0\n",
    "for token_info in output[annotation]['sentences'][0]['tokens']:\n",
    "    t+=1\n",
    "    print('Token #{}: {}'.format(t, token_info['word']))\n",
    "    print('\\tOriginal text: {} \\t=> '.format(token_info['originalText']) + annotation + ': {}'.format(token_info[annotation]))"
   ]
  },
  {
   "cell_type": "code",
   "execution_count": 7,
   "metadata": {
    "scrolled": false
   },
   "outputs": [
    {
     "name": "stdout",
     "output_type": "stream",
     "text": [
      "pos\n",
      "[{'after': ' ', 'characterOffsetEnd': 4, 'characterOffsetBegin': 0, 'originalText': 'John', 'word': 'John', 'before': '', 'pos': 'NNP', 'index': 1}, {'after': ' ', 'characterOffsetEnd': 8, 'characterOffsetBegin': 5, 'originalText': 'met', 'word': 'met', 'before': ' ', 'pos': 'VBD', 'index': 2}, {'after': ' ', 'characterOffsetEnd': 14, 'characterOffsetBegin': 9, 'originalText': 'Susan', 'word': 'Susan', 'before': ' ', 'pos': 'NNP', 'index': 3}, {'after': ' ', 'characterOffsetEnd': 17, 'characterOffsetBegin': 15, 'originalText': 'in', 'word': 'in', 'before': ' ', 'pos': 'IN', 'index': 4}, {'after': ' ', 'characterOffsetEnd': 21, 'characterOffsetBegin': 18, 'originalText': 'the', 'word': 'the', 'before': ' ', 'pos': 'DT', 'index': 5}, {'after': '', 'characterOffsetEnd': 26, 'characterOffsetBegin': 22, 'originalText': 'mall', 'word': 'mall', 'before': ' ', 'pos': 'NN', 'index': 6}, {'after': '  ', 'characterOffsetEnd': 27, 'characterOffsetBegin': 26, 'originalText': '.', 'word': '.', 'before': '', 'pos': '.', 'index': 7}]\n",
      "[{'after': ' ', 'characterOffsetEnd': 32, 'characterOffsetBegin': 29, 'originalText': 'She', 'word': 'She', 'before': '  ', 'pos': 'PRP', 'index': 1}, {'after': ' ', 'characterOffsetEnd': 37, 'characterOffsetBegin': 33, 'originalText': 'told', 'word': 'told', 'before': ' ', 'pos': 'VBD', 'index': 2}, {'after': ' ', 'characterOffsetEnd': 41, 'characterOffsetBegin': 38, 'originalText': 'him', 'word': 'him', 'before': ' ', 'pos': 'PRP', 'index': 3}, {'after': ' ', 'characterOffsetEnd': 46, 'characterOffsetBegin': 42, 'originalText': 'that', 'word': 'that', 'before': ' ', 'pos': 'IN', 'index': 4}, {'after': ' ', 'characterOffsetEnd': 50, 'characterOffsetBegin': 47, 'originalText': 'she', 'word': 'she', 'before': ' ', 'pos': 'PRP', 'index': 5}, {'after': ' ', 'characterOffsetEnd': 53, 'characterOffsetBegin': 51, 'originalText': 'is', 'word': 'is', 'before': ' ', 'pos': 'VBZ', 'index': 6}, {'after': ' ', 'characterOffsetEnd': 63, 'characterOffsetBegin': 54, 'originalText': 'traveling', 'word': 'traveling', 'before': ' ', 'pos': 'VBG', 'index': 7}, {'after': ' ', 'characterOffsetEnd': 66, 'characterOffsetBegin': 64, 'originalText': 'to', 'word': 'to', 'before': ' ', 'pos': 'TO', 'index': 8}, {'after': ' ', 'characterOffsetEnd': 73, 'characterOffsetBegin': 67, 'originalText': 'Europe', 'word': 'Europe', 'before': ' ', 'pos': 'NNP', 'index': 9}, {'after': ' ', 'characterOffsetEnd': 78, 'characterOffsetBegin': 74, 'originalText': 'next', 'word': 'next', 'before': ' ', 'pos': 'IN', 'index': 10}, {'after': '', 'characterOffsetEnd': 83, 'characterOffsetBegin': 79, 'originalText': 'week', 'word': 'week', 'before': ' ', 'pos': 'NN', 'index': 11}, {'after': '', 'characterOffsetEnd': 84, 'characterOffsetBegin': 83, 'originalText': '.', 'word': '.', 'before': '', 'pos': '.', 'index': 12}]\n",
      "ner\n",
      "[{'after': ' ', 'index': 1, 'characterOffsetBegin': 0, 'lemma': 'John', 'originalText': 'John', 'ner': 'PERSON', 'word': 'John', 'before': '', 'pos': 'NNP', 'characterOffsetEnd': 4}, {'after': ' ', 'index': 2, 'characterOffsetBegin': 5, 'lemma': 'meet', 'originalText': 'met', 'ner': 'O', 'word': 'met', 'before': ' ', 'pos': 'VBD', 'characterOffsetEnd': 8}, {'after': ' ', 'index': 3, 'characterOffsetBegin': 9, 'lemma': 'Susan', 'originalText': 'Susan', 'ner': 'PERSON', 'word': 'Susan', 'before': ' ', 'pos': 'NNP', 'characterOffsetEnd': 14}, {'after': ' ', 'index': 4, 'characterOffsetBegin': 15, 'lemma': 'in', 'originalText': 'in', 'ner': 'O', 'word': 'in', 'before': ' ', 'pos': 'IN', 'characterOffsetEnd': 17}, {'after': ' ', 'index': 5, 'characterOffsetBegin': 18, 'lemma': 'the', 'originalText': 'the', 'ner': 'O', 'word': 'the', 'before': ' ', 'pos': 'DT', 'characterOffsetEnd': 21}, {'after': '', 'index': 6, 'characterOffsetBegin': 22, 'lemma': 'mall', 'originalText': 'mall', 'ner': 'O', 'word': 'mall', 'before': ' ', 'pos': 'NN', 'characterOffsetEnd': 26}, {'after': '  ', 'index': 7, 'characterOffsetBegin': 26, 'lemma': '.', 'originalText': '.', 'ner': 'O', 'word': '.', 'before': '', 'pos': '.', 'characterOffsetEnd': 27}]\n",
      "[{'after': ' ', 'index': 1, 'characterOffsetBegin': 29, 'lemma': 'she', 'originalText': 'She', 'ner': 'O', 'word': 'She', 'before': '  ', 'pos': 'PRP', 'characterOffsetEnd': 32}, {'after': ' ', 'index': 2, 'characterOffsetBegin': 33, 'lemma': 'tell', 'originalText': 'told', 'ner': 'O', 'word': 'told', 'before': ' ', 'pos': 'VBD', 'characterOffsetEnd': 37}, {'after': ' ', 'index': 3, 'characterOffsetBegin': 38, 'lemma': 'he', 'originalText': 'him', 'ner': 'O', 'word': 'him', 'before': ' ', 'pos': 'PRP', 'characterOffsetEnd': 41}, {'after': ' ', 'index': 4, 'characterOffsetBegin': 42, 'lemma': 'that', 'originalText': 'that', 'ner': 'O', 'word': 'that', 'before': ' ', 'pos': 'IN', 'characterOffsetEnd': 46}, {'after': ' ', 'index': 5, 'characterOffsetBegin': 47, 'lemma': 'she', 'originalText': 'she', 'ner': 'O', 'word': 'she', 'before': ' ', 'pos': 'PRP', 'characterOffsetEnd': 50}, {'after': ' ', 'index': 6, 'characterOffsetBegin': 51, 'lemma': 'be', 'originalText': 'is', 'ner': 'O', 'word': 'is', 'before': ' ', 'pos': 'VBZ', 'characterOffsetEnd': 53}, {'after': ' ', 'index': 7, 'characterOffsetBegin': 54, 'lemma': 'travel', 'originalText': 'traveling', 'ner': 'O', 'word': 'traveling', 'before': ' ', 'pos': 'VBG', 'characterOffsetEnd': 63}, {'after': ' ', 'index': 8, 'characterOffsetBegin': 64, 'lemma': 'to', 'originalText': 'to', 'ner': 'O', 'word': 'to', 'before': ' ', 'pos': 'TO', 'characterOffsetEnd': 66}, {'after': ' ', 'index': 9, 'characterOffsetBegin': 67, 'lemma': 'Europe', 'originalText': 'Europe', 'ner': 'LOCATION', 'word': 'Europe', 'before': ' ', 'pos': 'NNP', 'characterOffsetEnd': 73}, {'word': 'next', 'after': ' ', 'characterOffsetBegin': 74, 'ner': 'DATE', 'originalText': 'next', 'before': ' ', 'characterOffsetEnd': 78, 'timex': {'altValue': 'THIS P1W OFFSET P1W', 'type': 'DATE', 'tid': 't1'}, 'index': 10, 'normalizedNER': 'THIS P1W OFFSET P1W', 'lemma': 'next', 'pos': 'IN'}, {'word': 'week', 'after': '', 'characterOffsetBegin': 79, 'ner': 'DATE', 'originalText': 'week', 'before': ' ', 'characterOffsetEnd': 83, 'timex': {'altValue': 'THIS P1W OFFSET P1W', 'type': 'DATE', 'tid': 't1'}, 'index': 11, 'normalizedNER': 'THIS P1W OFFSET P1W', 'lemma': 'week', 'pos': 'NN'}, {'after': '', 'index': 12, 'characterOffsetBegin': 83, 'lemma': '.', 'originalText': '.', 'ner': 'O', 'word': '.', 'before': '', 'pos': '.', 'characterOffsetEnd': 84}]\n",
      "depparse\n",
      "[{'after': ' ', 'characterOffsetEnd': 4, 'characterOffsetBegin': 0, 'originalText': 'John', 'word': 'John', 'before': '', 'pos': 'NNP', 'index': 1}, {'after': ' ', 'characterOffsetEnd': 8, 'characterOffsetBegin': 5, 'originalText': 'met', 'word': 'met', 'before': ' ', 'pos': 'VBD', 'index': 2}, {'after': ' ', 'characterOffsetEnd': 14, 'characterOffsetBegin': 9, 'originalText': 'Susan', 'word': 'Susan', 'before': ' ', 'pos': 'NNP', 'index': 3}, {'after': ' ', 'characterOffsetEnd': 17, 'characterOffsetBegin': 15, 'originalText': 'in', 'word': 'in', 'before': ' ', 'pos': 'IN', 'index': 4}, {'after': ' ', 'characterOffsetEnd': 21, 'characterOffsetBegin': 18, 'originalText': 'the', 'word': 'the', 'before': ' ', 'pos': 'DT', 'index': 5}, {'after': '', 'characterOffsetEnd': 26, 'characterOffsetBegin': 22, 'originalText': 'mall', 'word': 'mall', 'before': ' ', 'pos': 'NN', 'index': 6}, {'after': '  ', 'characterOffsetEnd': 27, 'characterOffsetBegin': 26, 'originalText': '.', 'word': '.', 'before': '', 'pos': '.', 'index': 7}]\n",
      "[{'after': ' ', 'characterOffsetEnd': 32, 'characterOffsetBegin': 29, 'originalText': 'She', 'word': 'She', 'before': '  ', 'pos': 'PRP', 'index': 1}, {'after': ' ', 'characterOffsetEnd': 37, 'characterOffsetBegin': 33, 'originalText': 'told', 'word': 'told', 'before': ' ', 'pos': 'VBD', 'index': 2}, {'after': ' ', 'characterOffsetEnd': 41, 'characterOffsetBegin': 38, 'originalText': 'him', 'word': 'him', 'before': ' ', 'pos': 'PRP', 'index': 3}, {'after': ' ', 'characterOffsetEnd': 46, 'characterOffsetBegin': 42, 'originalText': 'that', 'word': 'that', 'before': ' ', 'pos': 'IN', 'index': 4}, {'after': ' ', 'characterOffsetEnd': 50, 'characterOffsetBegin': 47, 'originalText': 'she', 'word': 'she', 'before': ' ', 'pos': 'PRP', 'index': 5}, {'after': ' ', 'characterOffsetEnd': 53, 'characterOffsetBegin': 51, 'originalText': 'is', 'word': 'is', 'before': ' ', 'pos': 'VBZ', 'index': 6}, {'after': ' ', 'characterOffsetEnd': 63, 'characterOffsetBegin': 54, 'originalText': 'traveling', 'word': 'traveling', 'before': ' ', 'pos': 'VBG', 'index': 7}, {'after': ' ', 'characterOffsetEnd': 66, 'characterOffsetBegin': 64, 'originalText': 'to', 'word': 'to', 'before': ' ', 'pos': 'TO', 'index': 8}, {'after': ' ', 'characterOffsetEnd': 73, 'characterOffsetBegin': 67, 'originalText': 'Europe', 'word': 'Europe', 'before': ' ', 'pos': 'NNP', 'index': 9}, {'after': ' ', 'characterOffsetEnd': 78, 'characterOffsetBegin': 74, 'originalText': 'next', 'word': 'next', 'before': ' ', 'pos': 'IN', 'index': 10}, {'after': '', 'characterOffsetEnd': 83, 'characterOffsetBegin': 79, 'originalText': 'week', 'word': 'week', 'before': ' ', 'pos': 'NN', 'index': 11}, {'after': '', 'characterOffsetEnd': 84, 'characterOffsetBegin': 83, 'originalText': '.', 'word': '.', 'before': '', 'pos': '.', 'index': 12}]\n",
      "lemma\n",
      "[{'after': ' ', 'index': 1, 'characterOffsetBegin': 0, 'lemma': 'John', 'originalText': 'John', 'word': 'John', 'before': '', 'pos': 'NNP', 'characterOffsetEnd': 4}, {'after': ' ', 'index': 2, 'characterOffsetBegin': 5, 'lemma': 'meet', 'originalText': 'met', 'word': 'met', 'before': ' ', 'pos': 'VBD', 'characterOffsetEnd': 8}, {'after': ' ', 'index': 3, 'characterOffsetBegin': 9, 'lemma': 'Susan', 'originalText': 'Susan', 'word': 'Susan', 'before': ' ', 'pos': 'NNP', 'characterOffsetEnd': 14}, {'after': ' ', 'index': 4, 'characterOffsetBegin': 15, 'lemma': 'in', 'originalText': 'in', 'word': 'in', 'before': ' ', 'pos': 'IN', 'characterOffsetEnd': 17}, {'after': ' ', 'index': 5, 'characterOffsetBegin': 18, 'lemma': 'the', 'originalText': 'the', 'word': 'the', 'before': ' ', 'pos': 'DT', 'characterOffsetEnd': 21}, {'after': '', 'index': 6, 'characterOffsetBegin': 22, 'lemma': 'mall', 'originalText': 'mall', 'word': 'mall', 'before': ' ', 'pos': 'NN', 'characterOffsetEnd': 26}, {'after': '  ', 'index': 7, 'characterOffsetBegin': 26, 'lemma': '.', 'originalText': '.', 'word': '.', 'before': '', 'pos': '.', 'characterOffsetEnd': 27}]\n",
      "[{'after': ' ', 'index': 1, 'characterOffsetBegin': 29, 'lemma': 'she', 'originalText': 'She', 'word': 'She', 'before': '  ', 'pos': 'PRP', 'characterOffsetEnd': 32}, {'after': ' ', 'index': 2, 'characterOffsetBegin': 33, 'lemma': 'tell', 'originalText': 'told', 'word': 'told', 'before': ' ', 'pos': 'VBD', 'characterOffsetEnd': 37}, {'after': ' ', 'index': 3, 'characterOffsetBegin': 38, 'lemma': 'he', 'originalText': 'him', 'word': 'him', 'before': ' ', 'pos': 'PRP', 'characterOffsetEnd': 41}, {'after': ' ', 'index': 4, 'characterOffsetBegin': 42, 'lemma': 'that', 'originalText': 'that', 'word': 'that', 'before': ' ', 'pos': 'IN', 'characterOffsetEnd': 46}, {'after': ' ', 'index': 5, 'characterOffsetBegin': 47, 'lemma': 'she', 'originalText': 'she', 'word': 'she', 'before': ' ', 'pos': 'PRP', 'characterOffsetEnd': 50}, {'after': ' ', 'index': 6, 'characterOffsetBegin': 51, 'lemma': 'be', 'originalText': 'is', 'word': 'is', 'before': ' ', 'pos': 'VBZ', 'characterOffsetEnd': 53}, {'after': ' ', 'index': 7, 'characterOffsetBegin': 54, 'lemma': 'travel', 'originalText': 'traveling', 'word': 'traveling', 'before': ' ', 'pos': 'VBG', 'characterOffsetEnd': 63}, {'after': ' ', 'index': 8, 'characterOffsetBegin': 64, 'lemma': 'to', 'originalText': 'to', 'word': 'to', 'before': ' ', 'pos': 'TO', 'characterOffsetEnd': 66}, {'after': ' ', 'index': 9, 'characterOffsetBegin': 67, 'lemma': 'Europe', 'originalText': 'Europe', 'word': 'Europe', 'before': ' ', 'pos': 'NNP', 'characterOffsetEnd': 73}, {'after': ' ', 'index': 10, 'characterOffsetBegin': 74, 'lemma': 'next', 'originalText': 'next', 'word': 'next', 'before': ' ', 'pos': 'IN', 'characterOffsetEnd': 78}, {'after': '', 'index': 11, 'characterOffsetBegin': 79, 'lemma': 'week', 'originalText': 'week', 'word': 'week', 'before': ' ', 'pos': 'NN', 'characterOffsetEnd': 83}, {'after': '', 'index': 12, 'characterOffsetBegin': 83, 'lemma': '.', 'originalText': '.', 'word': '.', 'before': '', 'pos': '.', 'characterOffsetEnd': 84}]\n",
      "parse\n",
      "[{'after': ' ', 'characterOffsetEnd': 4, 'characterOffsetBegin': 0, 'originalText': 'John', 'word': 'John', 'before': '', 'pos': 'NNP', 'index': 1}, {'after': ' ', 'characterOffsetEnd': 8, 'characterOffsetBegin': 5, 'originalText': 'met', 'word': 'met', 'before': ' ', 'pos': 'VBD', 'index': 2}, {'after': ' ', 'characterOffsetEnd': 14, 'characterOffsetBegin': 9, 'originalText': 'Susan', 'word': 'Susan', 'before': ' ', 'pos': 'NNP', 'index': 3}, {'after': ' ', 'characterOffsetEnd': 17, 'characterOffsetBegin': 15, 'originalText': 'in', 'word': 'in', 'before': ' ', 'pos': 'IN', 'index': 4}, {'after': ' ', 'characterOffsetEnd': 21, 'characterOffsetBegin': 18, 'originalText': 'the', 'word': 'the', 'before': ' ', 'pos': 'DT', 'index': 5}, {'after': '', 'characterOffsetEnd': 26, 'characterOffsetBegin': 22, 'originalText': 'mall', 'word': 'mall', 'before': ' ', 'pos': 'NN', 'index': 6}, {'after': '  ', 'characterOffsetEnd': 27, 'characterOffsetBegin': 26, 'originalText': '.', 'word': '.', 'before': '', 'pos': '.', 'index': 7}]\n",
      "[{'after': ' ', 'characterOffsetEnd': 32, 'characterOffsetBegin': 29, 'originalText': 'She', 'word': 'She', 'before': '  ', 'pos': 'PRP', 'index': 1}, {'after': ' ', 'characterOffsetEnd': 37, 'characterOffsetBegin': 33, 'originalText': 'told', 'word': 'told', 'before': ' ', 'pos': 'VBD', 'index': 2}, {'after': ' ', 'characterOffsetEnd': 41, 'characterOffsetBegin': 38, 'originalText': 'him', 'word': 'him', 'before': ' ', 'pos': 'PRP', 'index': 3}, {'after': ' ', 'characterOffsetEnd': 46, 'characterOffsetBegin': 42, 'originalText': 'that', 'word': 'that', 'before': ' ', 'pos': 'IN', 'index': 4}, {'after': ' ', 'characterOffsetEnd': 50, 'characterOffsetBegin': 47, 'originalText': 'she', 'word': 'she', 'before': ' ', 'pos': 'PRP', 'index': 5}, {'after': ' ', 'characterOffsetEnd': 53, 'characterOffsetBegin': 51, 'originalText': 'is', 'word': 'is', 'before': ' ', 'pos': 'VBZ', 'index': 6}, {'after': ' ', 'characterOffsetEnd': 63, 'characterOffsetBegin': 54, 'originalText': 'traveling', 'word': 'traveling', 'before': ' ', 'pos': 'VBG', 'index': 7}, {'after': ' ', 'characterOffsetEnd': 66, 'characterOffsetBegin': 64, 'originalText': 'to', 'word': 'to', 'before': ' ', 'pos': 'TO', 'index': 8}, {'after': ' ', 'characterOffsetEnd': 73, 'characterOffsetBegin': 67, 'originalText': 'Europe', 'word': 'Europe', 'before': ' ', 'pos': 'NNP', 'index': 9}, {'after': ' ', 'characterOffsetEnd': 78, 'characterOffsetBegin': 74, 'originalText': 'next', 'word': 'next', 'before': ' ', 'pos': 'IN', 'index': 10}, {'after': '', 'characterOffsetEnd': 83, 'characterOffsetBegin': 79, 'originalText': 'week', 'word': 'week', 'before': ' ', 'pos': 'NN', 'index': 11}, {'after': '', 'characterOffsetEnd': 84, 'characterOffsetBegin': 83, 'originalText': '.', 'word': '.', 'before': '', 'pos': '.', 'index': 12}]\n",
      "dcoref\n",
      "[{'speaker': 'PER0', 'after': ' ', 'index': 1, 'characterOffsetBegin': 0, 'lemma': 'John', 'originalText': 'John', 'ner': 'PERSON', 'word': 'John', 'before': '', 'pos': 'NNP', 'characterOffsetEnd': 4}, {'speaker': 'PER0', 'after': ' ', 'index': 2, 'characterOffsetBegin': 5, 'lemma': 'meet', 'originalText': 'met', 'ner': 'O', 'word': 'met', 'before': ' ', 'pos': 'VBD', 'characterOffsetEnd': 8}, {'speaker': 'PER0', 'after': ' ', 'index': 3, 'characterOffsetBegin': 9, 'lemma': 'Susan', 'originalText': 'Susan', 'ner': 'PERSON', 'word': 'Susan', 'before': ' ', 'pos': 'NNP', 'characterOffsetEnd': 14}, {'speaker': 'PER0', 'after': ' ', 'index': 4, 'characterOffsetBegin': 15, 'lemma': 'in', 'originalText': 'in', 'ner': 'O', 'word': 'in', 'before': ' ', 'pos': 'IN', 'characterOffsetEnd': 17}, {'speaker': 'PER0', 'after': ' ', 'index': 5, 'characterOffsetBegin': 18, 'lemma': 'the', 'originalText': 'the', 'ner': 'O', 'word': 'the', 'before': ' ', 'pos': 'DT', 'characterOffsetEnd': 21}, {'speaker': 'PER0', 'after': '', 'index': 6, 'characterOffsetBegin': 22, 'lemma': 'mall', 'originalText': 'mall', 'ner': 'O', 'word': 'mall', 'before': ' ', 'pos': 'NN', 'characterOffsetEnd': 26}, {'speaker': 'PER0', 'after': '  ', 'index': 7, 'characterOffsetBegin': 26, 'lemma': '.', 'originalText': '.', 'ner': 'O', 'word': '.', 'before': '', 'pos': '.', 'characterOffsetEnd': 27}]\n",
      "[{'speaker': 'PER0', 'after': ' ', 'index': 1, 'characterOffsetBegin': 29, 'lemma': 'she', 'originalText': 'She', 'ner': 'O', 'word': 'She', 'before': '  ', 'pos': 'PRP', 'characterOffsetEnd': 32}, {'speaker': 'PER0', 'after': ' ', 'index': 2, 'characterOffsetBegin': 33, 'lemma': 'tell', 'originalText': 'told', 'ner': 'O', 'word': 'told', 'before': ' ', 'pos': 'VBD', 'characterOffsetEnd': 37}, {'speaker': 'PER0', 'after': ' ', 'index': 3, 'characterOffsetBegin': 38, 'lemma': 'he', 'originalText': 'him', 'ner': 'O', 'word': 'him', 'before': ' ', 'pos': 'PRP', 'characterOffsetEnd': 41}, {'speaker': 'PER0', 'after': ' ', 'index': 4, 'characterOffsetBegin': 42, 'lemma': 'that', 'originalText': 'that', 'ner': 'O', 'word': 'that', 'before': ' ', 'pos': 'IN', 'characterOffsetEnd': 46}, {'speaker': 'PER0', 'after': ' ', 'index': 5, 'characterOffsetBegin': 47, 'lemma': 'she', 'originalText': 'she', 'ner': 'O', 'word': 'she', 'before': ' ', 'pos': 'PRP', 'characterOffsetEnd': 50}, {'speaker': 'PER0', 'after': ' ', 'index': 6, 'characterOffsetBegin': 51, 'lemma': 'be', 'originalText': 'is', 'ner': 'O', 'word': 'is', 'before': ' ', 'pos': 'VBZ', 'characterOffsetEnd': 53}, {'speaker': 'PER0', 'after': ' ', 'index': 7, 'characterOffsetBegin': 54, 'lemma': 'travel', 'originalText': 'traveling', 'ner': 'O', 'word': 'traveling', 'before': ' ', 'pos': 'VBG', 'characterOffsetEnd': 63}, {'speaker': 'PER0', 'after': ' ', 'index': 8, 'characterOffsetBegin': 64, 'lemma': 'to', 'originalText': 'to', 'ner': 'O', 'word': 'to', 'before': ' ', 'pos': 'TO', 'characterOffsetEnd': 66}, {'speaker': 'PER0', 'after': ' ', 'index': 9, 'characterOffsetBegin': 67, 'lemma': 'Europe', 'originalText': 'Europe', 'ner': 'LOCATION', 'word': 'Europe', 'before': ' ', 'pos': 'NNP', 'characterOffsetEnd': 73}, {'word': 'next', 'after': ' ', 'characterOffsetBegin': 74, 'ner': 'DATE', 'originalText': 'next', 'before': ' ', 'characterOffsetEnd': 78, 'timex': {'altValue': 'THIS P1W OFFSET P1W', 'type': 'DATE', 'tid': 't1'}, 'index': 10, 'normalizedNER': 'THIS P1W OFFSET P1W', 'lemma': 'next', 'speaker': 'PER0', 'pos': 'IN'}, {'word': 'week', 'after': '', 'characterOffsetBegin': 79, 'ner': 'DATE', 'originalText': 'week', 'before': ' ', 'characterOffsetEnd': 83, 'timex': {'altValue': 'THIS P1W OFFSET P1W', 'type': 'DATE', 'tid': 't1'}, 'index': 11, 'normalizedNER': 'THIS P1W OFFSET P1W', 'lemma': 'week', 'speaker': 'PER0', 'pos': 'NN'}, {'speaker': 'PER0', 'after': '', 'index': 12, 'characterOffsetBegin': 83, 'lemma': '.', 'originalText': '.', 'ner': 'O', 'word': '.', 'before': '', 'pos': '.', 'characterOffsetEnd': 84}]\n"
     ]
    }
   ],
   "source": [
    "text = {}\n",
    "for annotation in annotators:\n",
    "    print(annotation)\n",
    "    for sentence in output[annotation]['sentences']:\n",
    "        print(sentence['tokens'])"
   ]
  },
  {
   "cell_type": "code",
   "execution_count": 8,
   "metadata": {
    "collapsed": true
   },
   "outputs": [],
   "source": [
    "x = nlp.annotate(txt, properties={'annotators': 'pos,ner,depparse,lemma,parse,dcoref', 'outputFormat': 'json'})"
   ]
  },
  {
   "cell_type": "code",
   "execution_count": 9,
   "metadata": {
    "scrolled": false
   },
   "outputs": [
    {
     "name": "stdout",
     "output_type": "stream",
     "text": [
      "1 [{'type': 'PROPER', 'startIndex': 1, 'text': 'John', 'position': [1, 1], 'id': 1, 'gender': 'MALE', 'number': 'SINGULAR', 'animacy': 'ANIMATE', 'isRepresentativeMention': True, 'headIndex': 1, 'endIndex': 2, 'sentNum': 1}, {'type': 'PRONOMINAL', 'startIndex': 3, 'text': 'him', 'position': [2, 2], 'id': 6, 'gender': 'MALE', 'number': 'SINGULAR', 'animacy': 'ANIMATE', 'isRepresentativeMention': False, 'headIndex': 3, 'endIndex': 4, 'sentNum': 2}]\n",
      "3 [{'type': 'NOMINAL', 'startIndex': 5, 'text': 'the mall', 'position': [1, 3], 'id': 3, 'gender': 'NEUTRAL', 'number': 'SINGULAR', 'animacy': 'INANIMATE', 'isRepresentativeMention': True, 'headIndex': 6, 'endIndex': 7, 'sentNum': 1}]\n",
      "4 [{'type': 'PROPER', 'startIndex': 9, 'text': 'Europe', 'position': [2, 4], 'id': 4, 'gender': 'NEUTRAL', 'number': 'SINGULAR', 'animacy': 'INANIMATE', 'isRepresentativeMention': True, 'headIndex': 9, 'endIndex': 10, 'sentNum': 2}]\n",
      "8 [{'type': 'PROPER', 'startIndex': 10, 'text': 'next week', 'position': [2, 5], 'id': 8, 'gender': 'UNKNOWN', 'number': 'SINGULAR', 'animacy': 'INANIMATE', 'isRepresentativeMention': True, 'headIndex': 11, 'endIndex': 12, 'sentNum': 2}]\n",
      "2 [{'type': 'PROPER', 'startIndex': 3, 'text': 'Susan', 'position': [1, 2], 'id': 2, 'gender': 'FEMALE', 'number': 'SINGULAR', 'animacy': 'ANIMATE', 'isRepresentativeMention': True, 'headIndex': 3, 'endIndex': 4, 'sentNum': 1}, {'type': 'PRONOMINAL', 'startIndex': 1, 'text': 'She', 'position': [2, 1], 'id': 5, 'gender': 'FEMALE', 'number': 'SINGULAR', 'animacy': 'ANIMATE', 'isRepresentativeMention': False, 'headIndex': 1, 'endIndex': 2, 'sentNum': 2}, {'type': 'PRONOMINAL', 'startIndex': 5, 'text': 'she', 'position': [2, 3], 'id': 7, 'gender': 'FEMALE', 'number': 'SINGULAR', 'animacy': 'ANIMATE', 'isRepresentativeMention': False, 'headIndex': 5, 'endIndex': 6, 'sentNum': 2}]\n",
      "enhancedDependencies [{'dep': 'ROOT', 'governor': 0, 'dependent': 2, 'dependentGloss': 'met', 'governorGloss': 'ROOT'}, {'dep': 'nsubj', 'governor': 2, 'dependent': 1, 'dependentGloss': 'John', 'governorGloss': 'met'}, {'dep': 'dobj', 'governor': 2, 'dependent': 3, 'dependentGloss': 'Susan', 'governorGloss': 'met'}, {'dep': 'case', 'governor': 6, 'dependent': 4, 'dependentGloss': 'in', 'governorGloss': 'mall'}, {'dep': 'det', 'governor': 6, 'dependent': 5, 'dependentGloss': 'the', 'governorGloss': 'mall'}, {'dep': 'nmod:in', 'governor': 2, 'dependent': 6, 'dependentGloss': 'mall', 'governorGloss': 'met'}, {'dep': 'punct', 'governor': 2, 'dependent': 7, 'dependentGloss': '.', 'governorGloss': 'met'}]\n",
      "entitymentions [{'docTokenEnd': 1, 'docTokenBegin': 0, 'tokenEnd': 1, 'characterOffsetBegin': 0, 'ner': 'PERSON', 'text': 'John', 'characterOffsetEnd': 4, 'tokenBegin': 0}, {'docTokenEnd': 3, 'docTokenBegin': 2, 'tokenEnd': 3, 'characterOffsetBegin': 9, 'ner': 'PERSON', 'text': 'Susan', 'characterOffsetEnd': 14, 'tokenBegin': 2}]\n",
      "enhancedPlusPlusDependencies [{'dep': 'ROOT', 'governor': 0, 'dependent': 2, 'dependentGloss': 'met', 'governorGloss': 'ROOT'}, {'dep': 'nsubj', 'governor': 2, 'dependent': 1, 'dependentGloss': 'John', 'governorGloss': 'met'}, {'dep': 'dobj', 'governor': 2, 'dependent': 3, 'dependentGloss': 'Susan', 'governorGloss': 'met'}, {'dep': 'case', 'governor': 6, 'dependent': 4, 'dependentGloss': 'in', 'governorGloss': 'mall'}, {'dep': 'det', 'governor': 6, 'dependent': 5, 'dependentGloss': 'the', 'governorGloss': 'mall'}, {'dep': 'nmod:in', 'governor': 2, 'dependent': 6, 'dependentGloss': 'mall', 'governorGloss': 'met'}, {'dep': 'punct', 'governor': 2, 'dependent': 7, 'dependentGloss': '.', 'governorGloss': 'met'}]\n",
      "basicDependencies [{'dep': 'ROOT', 'governor': 0, 'dependent': 2, 'dependentGloss': 'met', 'governorGloss': 'ROOT'}, {'dep': 'nsubj', 'governor': 2, 'dependent': 1, 'dependentGloss': 'John', 'governorGloss': 'met'}, {'dep': 'dobj', 'governor': 2, 'dependent': 3, 'dependentGloss': 'Susan', 'governorGloss': 'met'}, {'dep': 'case', 'governor': 6, 'dependent': 4, 'dependentGloss': 'in', 'governorGloss': 'mall'}, {'dep': 'det', 'governor': 6, 'dependent': 5, 'dependentGloss': 'the', 'governorGloss': 'mall'}, {'dep': 'nmod', 'governor': 2, 'dependent': 6, 'dependentGloss': 'mall', 'governorGloss': 'met'}, {'dep': 'punct', 'governor': 2, 'dependent': 7, 'dependentGloss': '.', 'governorGloss': 'met'}]\n",
      "index 0\n",
      "tokens [{'speaker': 'PER0', 'after': ' ', 'index': 1, 'characterOffsetBegin': 0, 'lemma': 'John', 'originalText': 'John', 'ner': 'PERSON', 'word': 'John', 'before': '', 'pos': 'NNP', 'characterOffsetEnd': 4}, {'speaker': 'PER0', 'after': ' ', 'index': 2, 'characterOffsetBegin': 5, 'lemma': 'meet', 'originalText': 'met', 'ner': 'O', 'word': 'met', 'before': ' ', 'pos': 'VBD', 'characterOffsetEnd': 8}, {'speaker': 'PER0', 'after': ' ', 'index': 3, 'characterOffsetBegin': 9, 'lemma': 'Susan', 'originalText': 'Susan', 'ner': 'PERSON', 'word': 'Susan', 'before': ' ', 'pos': 'NNP', 'characterOffsetEnd': 14}, {'speaker': 'PER0', 'after': ' ', 'index': 4, 'characterOffsetBegin': 15, 'lemma': 'in', 'originalText': 'in', 'ner': 'O', 'word': 'in', 'before': ' ', 'pos': 'IN', 'characterOffsetEnd': 17}, {'speaker': 'PER0', 'after': ' ', 'index': 5, 'characterOffsetBegin': 18, 'lemma': 'the', 'originalText': 'the', 'ner': 'O', 'word': 'the', 'before': ' ', 'pos': 'DT', 'characterOffsetEnd': 21}, {'speaker': 'PER0', 'after': '', 'index': 6, 'characterOffsetBegin': 22, 'lemma': 'mall', 'originalText': 'mall', 'ner': 'O', 'word': 'mall', 'before': ' ', 'pos': 'NN', 'characterOffsetEnd': 26}, {'speaker': 'PER0', 'after': '  ', 'index': 7, 'characterOffsetBegin': 26, 'lemma': '.', 'originalText': '.', 'ner': 'O', 'word': '.', 'before': '', 'pos': '.', 'characterOffsetEnd': 27}]\n",
      "parse (ROOT\n",
      "  (S\n",
      "    (NP (NNP John))\n",
      "    (VP (VBD met)\n",
      "      (NP (NNP Susan))\n",
      "      (PP (IN in)\n",
      "        (NP (DT the) (NN mall))))\n",
      "    (. .)))\n",
      "enhancedDependencies [{'dep': 'ROOT', 'governor': 0, 'dependent': 2, 'dependentGloss': 'told', 'governorGloss': 'ROOT'}, {'dep': 'nsubj', 'governor': 2, 'dependent': 1, 'dependentGloss': 'She', 'governorGloss': 'told'}, {'dep': 'dobj', 'governor': 2, 'dependent': 3, 'dependentGloss': 'him', 'governorGloss': 'told'}, {'dep': 'mark', 'governor': 7, 'dependent': 4, 'dependentGloss': 'that', 'governorGloss': 'traveling'}, {'dep': 'nsubj', 'governor': 7, 'dependent': 5, 'dependentGloss': 'she', 'governorGloss': 'traveling'}, {'dep': 'aux', 'governor': 7, 'dependent': 6, 'dependentGloss': 'is', 'governorGloss': 'traveling'}, {'dep': 'ccomp', 'governor': 2, 'dependent': 7, 'dependentGloss': 'traveling', 'governorGloss': 'told'}, {'dep': 'case', 'governor': 9, 'dependent': 8, 'dependentGloss': 'to', 'governorGloss': 'Europe'}, {'dep': 'nmod:to', 'governor': 7, 'dependent': 9, 'dependentGloss': 'Europe', 'governorGloss': 'traveling'}, {'dep': 'amod', 'governor': 11, 'dependent': 10, 'dependentGloss': 'next', 'governorGloss': 'week'}, {'dep': 'nmod:tmod', 'governor': 7, 'dependent': 11, 'dependentGloss': 'week', 'governorGloss': 'traveling'}, {'dep': 'punct', 'governor': 2, 'dependent': 12, 'dependentGloss': '.', 'governorGloss': 'told'}]\n",
      "entitymentions [{'docTokenEnd': 16, 'docTokenBegin': 15, 'tokenEnd': 9, 'characterOffsetBegin': 67, 'ner': 'LOCATION', 'text': 'Europe', 'characterOffsetEnd': 73, 'tokenBegin': 8}, {'normalizedNER': 'THIS P1W OFFSET P1W', 'docTokenEnd': 18, 'docTokenBegin': 16, 'tokenEnd': 11, 'characterOffsetBegin': 74, 'ner': 'DATE', 'text': 'next week', 'timex': {'altValue': 'THIS P1W OFFSET P1W', 'type': 'DATE', 'tid': 't1'}, 'characterOffsetEnd': 83, 'tokenBegin': 9}, {'docTokenEnd': 8, 'docTokenBegin': 7, 'tokenEnd': 1, 'characterOffsetBegin': 29, 'ner': 'PERSON', 'text': 'She', 'characterOffsetEnd': 32, 'tokenBegin': 0}, {'docTokenEnd': 10, 'docTokenBegin': 9, 'tokenEnd': 3, 'characterOffsetBegin': 38, 'ner': 'PERSON', 'text': 'him', 'characterOffsetEnd': 41, 'tokenBegin': 2}, {'docTokenEnd': 12, 'docTokenBegin': 11, 'tokenEnd': 5, 'characterOffsetBegin': 47, 'ner': 'PERSON', 'text': 'she', 'characterOffsetEnd': 50, 'tokenBegin': 4}]\n",
      "enhancedPlusPlusDependencies [{'dep': 'ROOT', 'governor': 0, 'dependent': 2, 'dependentGloss': 'told', 'governorGloss': 'ROOT'}, {'dep': 'nsubj', 'governor': 2, 'dependent': 1, 'dependentGloss': 'She', 'governorGloss': 'told'}, {'dep': 'dobj', 'governor': 2, 'dependent': 3, 'dependentGloss': 'him', 'governorGloss': 'told'}, {'dep': 'mark', 'governor': 7, 'dependent': 4, 'dependentGloss': 'that', 'governorGloss': 'traveling'}, {'dep': 'nsubj', 'governor': 7, 'dependent': 5, 'dependentGloss': 'she', 'governorGloss': 'traveling'}, {'dep': 'aux', 'governor': 7, 'dependent': 6, 'dependentGloss': 'is', 'governorGloss': 'traveling'}, {'dep': 'ccomp', 'governor': 2, 'dependent': 7, 'dependentGloss': 'traveling', 'governorGloss': 'told'}, {'dep': 'case', 'governor': 9, 'dependent': 8, 'dependentGloss': 'to', 'governorGloss': 'Europe'}, {'dep': 'nmod:to', 'governor': 7, 'dependent': 9, 'dependentGloss': 'Europe', 'governorGloss': 'traveling'}, {'dep': 'amod', 'governor': 11, 'dependent': 10, 'dependentGloss': 'next', 'governorGloss': 'week'}, {'dep': 'nmod:tmod', 'governor': 7, 'dependent': 11, 'dependentGloss': 'week', 'governorGloss': 'traveling'}, {'dep': 'punct', 'governor': 2, 'dependent': 12, 'dependentGloss': '.', 'governorGloss': 'told'}]\n",
      "basicDependencies [{'dep': 'ROOT', 'governor': 0, 'dependent': 2, 'dependentGloss': 'told', 'governorGloss': 'ROOT'}, {'dep': 'nsubj', 'governor': 2, 'dependent': 1, 'dependentGloss': 'She', 'governorGloss': 'told'}, {'dep': 'dobj', 'governor': 2, 'dependent': 3, 'dependentGloss': 'him', 'governorGloss': 'told'}, {'dep': 'mark', 'governor': 7, 'dependent': 4, 'dependentGloss': 'that', 'governorGloss': 'traveling'}, {'dep': 'nsubj', 'governor': 7, 'dependent': 5, 'dependentGloss': 'she', 'governorGloss': 'traveling'}, {'dep': 'aux', 'governor': 7, 'dependent': 6, 'dependentGloss': 'is', 'governorGloss': 'traveling'}, {'dep': 'ccomp', 'governor': 2, 'dependent': 7, 'dependentGloss': 'traveling', 'governorGloss': 'told'}, {'dep': 'case', 'governor': 9, 'dependent': 8, 'dependentGloss': 'to', 'governorGloss': 'Europe'}, {'dep': 'nmod', 'governor': 7, 'dependent': 9, 'dependentGloss': 'Europe', 'governorGloss': 'traveling'}, {'dep': 'amod', 'governor': 11, 'dependent': 10, 'dependentGloss': 'next', 'governorGloss': 'week'}, {'dep': 'nmod:tmod', 'governor': 7, 'dependent': 11, 'dependentGloss': 'week', 'governorGloss': 'traveling'}, {'dep': 'punct', 'governor': 2, 'dependent': 12, 'dependentGloss': '.', 'governorGloss': 'told'}]\n",
      "index 1\n",
      "tokens [{'speaker': 'PER0', 'after': ' ', 'index': 1, 'characterOffsetBegin': 29, 'lemma': 'she', 'originalText': 'She', 'ner': 'O', 'word': 'She', 'before': '  ', 'pos': 'PRP', 'characterOffsetEnd': 32}, {'speaker': 'PER0', 'after': ' ', 'index': 2, 'characterOffsetBegin': 33, 'lemma': 'tell', 'originalText': 'told', 'ner': 'O', 'word': 'told', 'before': ' ', 'pos': 'VBD', 'characterOffsetEnd': 37}, {'speaker': 'PER0', 'after': ' ', 'index': 3, 'characterOffsetBegin': 38, 'lemma': 'he', 'originalText': 'him', 'ner': 'O', 'word': 'him', 'before': ' ', 'pos': 'PRP', 'characterOffsetEnd': 41}, {'speaker': 'PER0', 'after': ' ', 'index': 4, 'characterOffsetBegin': 42, 'lemma': 'that', 'originalText': 'that', 'ner': 'O', 'word': 'that', 'before': ' ', 'pos': 'IN', 'characterOffsetEnd': 46}, {'speaker': 'PER0', 'after': ' ', 'index': 5, 'characterOffsetBegin': 47, 'lemma': 'she', 'originalText': 'she', 'ner': 'O', 'word': 'she', 'before': ' ', 'pos': 'PRP', 'characterOffsetEnd': 50}, {'speaker': 'PER0', 'after': ' ', 'index': 6, 'characterOffsetBegin': 51, 'lemma': 'be', 'originalText': 'is', 'ner': 'O', 'word': 'is', 'before': ' ', 'pos': 'VBZ', 'characterOffsetEnd': 53}, {'speaker': 'PER0', 'after': ' ', 'index': 7, 'characterOffsetBegin': 54, 'lemma': 'travel', 'originalText': 'traveling', 'ner': 'O', 'word': 'traveling', 'before': ' ', 'pos': 'VBG', 'characterOffsetEnd': 63}, {'speaker': 'PER0', 'after': ' ', 'index': 8, 'characterOffsetBegin': 64, 'lemma': 'to', 'originalText': 'to', 'ner': 'O', 'word': 'to', 'before': ' ', 'pos': 'TO', 'characterOffsetEnd': 66}, {'speaker': 'PER0', 'after': ' ', 'index': 9, 'characterOffsetBegin': 67, 'lemma': 'Europe', 'originalText': 'Europe', 'ner': 'LOCATION', 'word': 'Europe', 'before': ' ', 'pos': 'NNP', 'characterOffsetEnd': 73}, {'word': 'next', 'after': ' ', 'characterOffsetBegin': 74, 'ner': 'DATE', 'originalText': 'next', 'before': ' ', 'characterOffsetEnd': 78, 'timex': {'altValue': 'THIS P1W OFFSET P1W', 'type': 'DATE', 'tid': 't1'}, 'index': 10, 'normalizedNER': 'THIS P1W OFFSET P1W', 'lemma': 'next', 'speaker': 'PER0', 'pos': 'IN'}, {'word': 'week', 'after': '', 'characterOffsetBegin': 79, 'ner': 'DATE', 'originalText': 'week', 'before': ' ', 'characterOffsetEnd': 83, 'timex': {'altValue': 'THIS P1W OFFSET P1W', 'type': 'DATE', 'tid': 't1'}, 'index': 11, 'normalizedNER': 'THIS P1W OFFSET P1W', 'lemma': 'week', 'speaker': 'PER0', 'pos': 'NN'}, {'speaker': 'PER0', 'after': '', 'index': 12, 'characterOffsetBegin': 83, 'lemma': '.', 'originalText': '.', 'ner': 'O', 'word': '.', 'before': '', 'pos': '.', 'characterOffsetEnd': 84}]\n",
      "parse (ROOT\n",
      "  (S\n",
      "    (NP (PRP She))\n",
      "    (VP (VBD told)\n",
      "      (NP (PRP him))\n",
      "      (SBAR (IN that)\n",
      "        (S\n",
      "          (NP (PRP she))\n",
      "          (VP (VBZ is)\n",
      "            (VP (VBG traveling)\n",
      "              (PP (TO to)\n",
      "                (NP (NNP Europe)))\n",
      "              (NP (IN next) (NN week)))))))\n",
      "    (. .)))\n"
     ]
    }
   ],
   "source": [
    "for k, v in x.items():\n",
    "    element = x[k]\n",
    "    if type(element) is list:\n",
    "        for item in element:\n",
    "            for k, v in item.items():\n",
    "                print(k, v)\n",
    "    else:\n",
    "        # dict\n",
    "        for k, v in element.items():\n",
    "            print(k, v)"
   ]
  },
  {
   "cell_type": "markdown",
   "metadata": {},
   "source": [
    "## Vectorization of constituint parse tree"
   ]
  },
  {
   "cell_type": "code",
   "execution_count": 10,
   "metadata": {
    "scrolled": false
   },
   "outputs": [
    {
     "data": {
      "text/plain": [
       "'(ROOT  (S    (NP (NNP John))    (VP (VBD met)      (NP (NNP Susan))      (PP (IN in)        (NP (DT the) (NN mall))))    (. .)))'"
      ]
     },
     "execution_count": 10,
     "metadata": {},
     "output_type": "execute_result"
    }
   ],
   "source": [
    "# get dependency parse in bracketted format\n",
    "dep_parse = nlp.annotate(txt, properties={'annotators': 'parse', 'outputFormat': 'json'})\n",
    "dep_parse = dep_parse['sentences'][0]['parse'].replace('\\n','')\n",
    "dep_parse"
   ]
  },
  {
   "cell_type": "code",
   "execution_count": 11,
   "metadata": {},
   "outputs": [
    {
     "data": {
      "text/plain": [
       "' ( ROOT   ( S     ( NP  ( NNP John )  )      ( VP  ( VBD met )        ( NP  ( NNP Susan )  )        ( PP  ( IN in )          ( NP  ( DT the )   ( NN mall )  )  )  )      ( . . )  )  ) '"
      ]
     },
     "execution_count": 11,
     "metadata": {},
     "output_type": "execute_result"
    }
   ],
   "source": [
    "import re\n",
    "import numpy as np\n",
    "\n",
    "# prepare string for vectorization\n",
    "#parse = re.sub(r'[\\w|\\.]+\\)',r' ) ',dep_parse)\n",
    "parse = re.sub(r'([\\(\\)])',r' \\1 ',dep_parse)\n",
    "parse"
   ]
  },
  {
   "cell_type": "code",
   "execution_count": 12,
   "metadata": {},
   "outputs": [
    {
     "name": "stdout",
     "output_type": "stream",
     "text": [
      "{'NP': 0, 'the': 1, 'met': 2, 'ROOT': 3, 'DT': 7, 'John': 5, 'in': 12, 'VBD': 8, ')': 9, 'VP': 11, 'NNP': 10, 'IN': 6, 'mall': 13, '.': 14, 'PP': 4, 'Susan': 16, '(': 17, 'NN': 15, 'S': 18}\n"
     ]
    }
   ],
   "source": [
    "# build \"vocabulary\" of parse tags\n",
    "parse_tags = set([parse_tag for parse_tag in parse.split()])\n",
    "tags_dict = {tag:num for num, tag in enumerate(parse_tags)}\n",
    "print(tags_dict)"
   ]
  },
  {
   "cell_type": "code",
   "execution_count": 13,
   "metadata": {},
   "outputs": [
    {
     "name": "stdout",
     "output_type": "stream",
     "text": [
      " ( ROOT   ( S     ( NP  ( NNP John )  )      ( VP  ( VBD met )        ( NP  ( NNP Susan )  )        ( PP  ( IN in )          ( NP  ( DT the )   ( NN mall )  )  )  )      ( . . )  )  ) \n",
      "[17  3 17 18 17  0 17 10  5  9  9 17 11 17  8  2  9 17  0 17 10 16  9  9 17\n",
      "  4 17  6 12  9 17  0 17  7  1  9 17 15 13  9  9  9  9 17 14 14  9  9  9]\n"
     ]
    }
   ],
   "source": [
    "print(parse)\n",
    "print(np.array([tags_dict[tag] for tag in parse.split()]))"
   ]
  },
  {
   "cell_type": "code",
   "execution_count": null,
   "metadata": {
    "collapsed": true
   },
   "outputs": [],
   "source": []
  }
 ],
 "metadata": {
  "kernelspec": {
   "display_name": "Python 3",
   "language": "python",
   "name": "python3"
  },
  "language_info": {
   "codemirror_mode": {
    "name": "ipython",
    "version": 3
   },
   "file_extension": ".py",
   "mimetype": "text/x-python",
   "name": "python",
   "nbconvert_exporter": "python",
   "pygments_lexer": "ipython3",
   "version": "3.5.3"
  }
 },
 "nbformat": 4,
 "nbformat_minor": 2
}
