{
 "cells": [
  {
   "cell_type": "code",
   "execution_count": 1,
   "metadata": {},
   "outputs": [
    {
     "name": "stderr",
     "output_type": "stream",
     "text": [
      "Using TensorFlow backend.\n"
     ]
    }
   ],
   "source": [
    "import scipy as sp\n",
    "import numpy as np\n",
    "import matplotlib as mpl\n",
    "import matplotlib.pyplot as plt\n",
    "import seaborn as sns\n",
    "import pandas as pd\n",
    "import statsmodels as stats\n",
    "from sklearn.model_selection import train_test_split\n",
    "from sklearn.metrics import mean_squared_error\n",
    "import theano \n",
    "import tensorflow as tf\n",
    "import keras\n",
    "from keras.models import Sequential\n",
    "from keras import initializers\n",
    "from keras.layers import Dense, Activation, Dropout\n",
    "from keras.layers import LSTM, GRU\n",
    "from keras import regularizers\n",
    "%matplotlib inline\n",
    "import myutil_lstm as myutil"
   ]
  },
  {
   "cell_type": "code",
   "execution_count": 2,
   "metadata": {
    "collapsed": true
   },
   "outputs": [],
   "source": [
    "import importlib\n",
    "_ = importlib.reload(myutil)"
   ]
  },
  {
   "cell_type": "markdown",
   "metadata": {},
   "source": [
    "## Get training datasets"
   ]
  },
  {
   "cell_type": "code",
   "execution_count": 3,
   "metadata": {},
   "outputs": [],
   "source": [
    "#\n",
    "# iq training data\n",
    "#\n",
    "dfx_train_iq = pd.read_csv('data/dengue_features_train_with_outliers_iq.csv')\n",
    "dfx_train_iq.set_index('yearweekofyear', inplace=True)\n",
    "dfy_train_iq = pd.read_csv('data/dengue_labels_train_iq.csv')\n",
    "dfy_train_iq.set_index('yearweekofyear', inplace=True)\n",
    "#dftrain_iq = pd.merge(dfx_train_iq, dfy_train_iq)\n",
    "#dftrain_iq.set_index('yearweekofyear', inplace=True)\n",
    "#\n",
    "# sj training data\n",
    "# \n",
    "dfx_train_sj = pd.read_csv('data/dengue_features_train_with_outliers_sj.csv')\n",
    "dfx_train_sj.set_index('yearweekofyear', inplace=True)\n",
    "dfy_train_sj = pd.read_csv('data/dengue_labels_train_sj.csv')\n",
    "dfy_train_sj.set_index('yearweekofyear', inplace=True)\n",
    "#dftrain_sj = pd.merge(dfx_train_sj, dfy_train_sj)\n",
    "#dftrain_sj.set_index('yearweekofyear', inplace=True)"
   ]
  },
  {
   "cell_type": "code",
   "execution_count": 4,
   "metadata": {
    "collapsed": true,
    "scrolled": false
   },
   "outputs": [],
   "source": [
    "# split dataset into test and validation partitions\n",
    "def prep_GRU_run(city_data, timesteps):\n",
    "    \n",
    "    X = city_data[:,:-1]\n",
    "    y = city_data[:,-1]\n",
    "    X_train, X_valid, y_train, y_valid = train_test_split(X, y, test_size=0.33, random_state=42)\n",
    "\n",
    "    # LSTM exped 3D input of the form [no_samples, timesteps, no_features] \n",
    "    X_train = X_train.reshape(X_train.shape[0], timesteps, int(X_train.shape[1]/timesteps))\n",
    "    X_valid = X_valid.reshape(X_valid.shape[0], timesteps, int(X_valid.shape[1]/timesteps))\n",
    "    \n",
    "    return X_train, X_valid, y_train, y_valid\n",
    "\n",
    "\n",
    "def GRU_run(nptrain, timesteps=1, epochs=50, batch_size=32, periods=2, exploring=False):\n",
    "    \n",
    "    # create partitions for training\n",
    "    X_train, X_valid, y_train, y_valid = prep_LSTM_run(nptrain, timesteps)\n",
    "    #if exploring: print(X_train.shape, X_valid.shape, y_train.shape, y_valid.shape)\n",
    "    \n",
    "    # build graph\n",
    "    model = Sequential()\n",
    "    \n",
    "    #keras.layers.LSTM(units, activation='tanh', recurrent_activation='hard_sigmoid', \n",
    "    #              use_bias=True, kernel_initializer='glorot_uniform', \n",
    "    #              recurrent_initializer='orthogonal', bias_initializer='zeros', \n",
    "    #              unit_forget_bias=True, kernel_regularizer=None, recurrent_regularizer=None, \n",
    "    #              bias_regularizer=None, activity_regularizer=None, kernel_constraint=None, \n",
    "    #              recurrent_constraint=None, bias_constraint=None, dropout=0.0, \n",
    "    #              recurrent_dropout=0.0, implementation=1, return_sequences=False, \n",
    "    #              return_state=False, go_backwards=False, stateful=False, unroll=False)\n",
    "\n",
    "    model.add(GRU(X_train.shape[2], input_shape=(X_train.shape[1], X_train.shape[2]), \\\n",
    "                  implementation=2, return_sequences=True))\n",
    "    model.add(GRU(10))\n",
    "    model.add(Dense(1, kernel_regularizer=regularizers.l2(0.01), activation='linear'))\n",
    "    model.compile(loss='mae', optimizer='rmsprop')  # 'adam'\n",
    "    \n",
    "    # fit net\n",
    "    history = model.fit(X_train, y_train, epochs=epochs, batch_size=batch_size, \n",
    "                        validation_data=(X_valid, y_valid), verbose=0, shuffle=False)\n",
    "    \n",
    "    plt.plot(history.history['loss'], label='train')\n",
    "    plt.plot(history.history['val_loss'], label='test')\n",
    "    \n",
    "    if exploring:\n",
    "        print(\"Final loss train: {}\".format(history.history['loss'][-1]))\n",
    "        print(\"Final loss valid: {}\".format(history.history['val_loss'][-1]))\n",
    "            # Explained variance score: 1 is perfect prediction\n",
    "    print('Variance score: %.2f' % r2_score(y_valid, y_pred))\n",
    "\n",
    "    plt.legend()\n",
    "    plt.show()\n",
    "    \n",
    "    return model\n",
    "\n",
    "# Get test dataset, create predictions and save them in the proper submission file format\n",
    "def GRU_predict_and_save(df_iq, model_iq, ts_iq, df_sj, model_sj, ts_sj, dftest_iq, dftest_sj, filename):\n",
    "\n",
    "    nptest_iq = myutil.preprocess_test(df_iq.copy(), dftest_iq, ts_iq)\n",
    "    nptest_sj = myutil.preprocess_test(df_sj.copy(), dftest_sj, ts_sj)\n",
    "\n",
    "    yhat_iq = model_iq.predict(nptest_iq.reshape(nptest_iq.shape[0], ts_iq, int(nptest_iq.shape[1]/ts_iq)))\n",
    "    yhat_sj = model_sj.predict(nptest_sj.reshape(nptest_sj.shape[0], ts_sj, int(nptest_sj.shape[1]/ts_sj)))\n",
    "    \n",
    "    print(yhat_iq.shape)\n",
    "    print(yhat_sj.shape)\n",
    "\n",
    "    dfsubm = pd.read_csv('data/submission_format.csv')\n",
    "    npsubm_sj = np.concatenate((dfsubm[dfsubm['city']=='sj'][['city','year','weekofyear']].values, \\\n",
    "                                yhat_sj.round().astype('int64')), axis=1)\n",
    "    npsubm_iq = np.concatenate((dfsubm[dfsubm['city']=='iq'][['city','year','weekofyear']].values, \\\n",
    "                                yhat_iq.round().astype('int64')), axis=1)\n",
    "    dfresults = pd.DataFrame(np.concatenate((npsubm_sj, npsubm_iq), axis=0), columns=dfsubm.columns)\n",
    "    dfresults.to_csv(filename, index=False)\n",
    "    "
   ]
  },
  {
   "cell_type": "code",
   "execution_count": 117,
   "metadata": {},
   "outputs": [
    {
     "name": "stdout",
     "output_type": "stream",
     "text": [
      "Final loss train: 5.586473837600532\n",
      "Final loss valid: 6.377424698081805\n"
     ]
    },
    {
     "data": {
      "image/png": "[encoded data removed]",
      "text/plain": [
       "<matplotlib.figure.Figure at 0x1c778cee10>"
      ]
     },
     "metadata": {},
     "output_type": "display_data"
    }
   ],
   "source": [
    "import importlib\n",
    "_ = importlib.reload(myutil)\n",
    "periods_iq = 3\n",
    "nptrain_iq = myutil.preprocess(dftrain_iq.copy(), periods_iq)\n",
    "model_iq = GRU_run(nptrain_iq, timesteps=periods_iq, epochs=30, batch_size=2, periods=periods_iq, exploring=True)"
   ]
  },
  {
   "cell_type": "code",
   "execution_count": 119,
   "metadata": {},
   "outputs": [
    {
     "name": "stdout",
     "output_type": "stream",
     "text": [
      "Final loss train: 24.421322124919005\n",
      "Final loss valid: 26.350550941224984\n"
     ]
    },
    {
     "data": {
      "image/png": "[encoded data removed]",
      "text/plain": [
       "<matplotlib.figure.Figure at 0x1c79ba57f0>"
      ]
     },
     "metadata": {},
     "output_type": "display_data"
    }
   ],
   "source": [
    "periods_sj = 2\n",
    "nptrain_sj = myutil.preprocess(dftrain_sj.copy(), periods_sj)\n",
    "model_sj = GRU_run(nptrain_sj, timesteps=periods_sj, epochs=30, batch_size=2, periods=periods_sj, exploring=True)"
   ]
  },
  {
   "cell_type": "markdown",
   "metadata": {},
   "source": [
    "## Get test dataset and create predictions"
   ]
  },
  {
   "cell_type": "code",
   "execution_count": 136,
   "metadata": {},
   "outputs": [
    {
     "name": "stdout",
     "output_type": "stream",
     "text": [
      "(156, 1)\n",
      "(260, 1)\n"
     ]
    }
   ],
   "source": [
    "GRU_predict_and_save(dftrain_iq, model_iq, periods_iq, dftrain_sj, model_sj, periods_sj, dftest_iq, dftest_sj,\\\n",
    "                      \"data/submission_20171111_lstm_3.csv\")"
   ]
  },
  {
   "cell_type": "code",
   "execution_count": null,
   "metadata": {
    "collapsed": true
   },
   "outputs": [],
   "source": []
  }
 ],
 "metadata": {
  "kernelspec": {
   "display_name": "Python 3",
   "language": "python",
   "name": "python3"
  },
  "language_info": {
   "codemirror_mode": {
    "name": "ipython",
    "version": 3
   },
   "file_extension": ".py",
   "mimetype": "text/x-python",
   "name": "python",
   "nbconvert_exporter": "python",
   "pygments_lexer": "ipython3",
   "version": "3.6.3"
  }
 },
 "nbformat": 4,
 "nbformat_minor": 2
}
