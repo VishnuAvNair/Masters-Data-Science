{
 "cells": [
  {
   "cell_type": "markdown",
   "metadata": {},
   "source": [
    "## Learning from here: https://matplotlib.org/users/gridspec.html"
   ]
  },
  {
   "cell_type": "code",
   "execution_count": 18,
   "metadata": {
    "collapsed": false
   },
   "outputs": [],
   "source": [
    "import matplotlib.pyplot as plt\n",
    "from matplotlib.gridspec import GridSpec\n",
    "import matplotlib.gridspec as gridspec\n",
    "\n",
    "import itertools\n",
    "from mpl_toolkits.basemap import Basemap\n",
    "import warnings\n",
    "%matplotlib inline\n",
    "\n",
    "#fontsizes = itertools.cycle([8, 16, 24, 32])\n",
    "fontsizes = itertools.cycle([12, 12, 12, 12])\n",
    "\n",
    "def make_ticklabels_invisible(fig):\n",
    "    for i, ax in enumerate(fig.axes):\n",
    "        ax.text(0.5, 0.5, \"ax%d\" % (i+1), va=\"center\", ha=\"center\")\n",
    "        for tl in ax.get_xticklabels() + ax.get_yticklabels():\n",
    "            tl.set_visible(False)"
   ]
  },
  {
   "cell_type": "code",
   "execution_count": 19,
   "metadata": {
    "collapsed": false
   },
   "outputs": [
    {
     "data": {
      "image/png": "[encoded data removed]",
      "text/plain": [
       "<matplotlib.figure.Figure at 0x1034c0160>"
      ]
     },
     "metadata": {},
     "output_type": "display_data"
    }
   ],
   "source": [
    "plt.figure(0)\n",
    "ax1 = plt.subplot2grid((3,3), (0,0), colspan=3)\n",
    "ax2 = plt.subplot2grid((3,3), (1,0), colspan=2)\n",
    "ax3 = plt.subplot2grid((3,3), (1, 2), rowspan=2)\n",
    "ax4 = plt.subplot2grid((3,3), (2, 0))\n",
    "ax5 = plt.subplot2grid((3,3), (2, 1))\n",
    "\n",
    "plt.suptitle(\"subplot2grid\")\n",
    "make_ticklabels_invisible(plt.gcf())\n",
    "plt.show()"
   ]
  },
  {
   "cell_type": "code",
   "execution_count": 20,
   "metadata": {
    "collapsed": false
   },
   "outputs": [
    {
     "data": {
      "image/png": "[encoded data removed]",
      "text/plain": [
       "<matplotlib.figure.Figure at 0x10f13e5c0>"
      ]
     },
     "metadata": {},
     "output_type": "display_data"
    }
   ],
   "source": [
    "plt.figure()\n",
    "\n",
    "gs = GridSpec(3, 3)\n",
    "ax1 = plt.subplot(gs[0, :])\n",
    "# identical to ax1 = plt.subplot(gs.new_subplotspec((0,0), colspan=3))\n",
    "ax2 = plt.subplot(gs[1,:-1])\n",
    "ax3 = plt.subplot(gs[1:, -1])\n",
    "ax4 = plt.subplot(gs[-1,0])\n",
    "ax5 = plt.subplot(gs[-1,-2])\n",
    "\n",
    "plt.suptitle(\"GridSpec\")\n",
    "make_ticklabels_invisible(plt.gcf())\n",
    "\n",
    "plt.show()"
   ]
  },
  {
   "cell_type": "code",
   "execution_count": 21,
   "metadata": {
    "collapsed": false
   },
   "outputs": [
    {
     "data": {
      "image/png": "[encoded data removed]",
      "text/plain": [
       "<matplotlib.figure.Figure at 0x10f028198>"
      ]
     },
     "metadata": {},
     "output_type": "display_data"
    }
   ],
   "source": [
    "f = plt.figure()\n",
    "\n",
    "plt.suptitle(\"GridSpec w/ different subplotpars\")\n",
    "\n",
    "gs1 = GridSpec(3, 3)\n",
    "gs1.update(left=0.05, right=0.48, wspace=0.05)\n",
    "ax1 = plt.subplot(gs1[:-1, :])\n",
    "ax2 = plt.subplot(gs1[-1, :-1])\n",
    "ax3 = plt.subplot(gs1[-1, -1])\n",
    "\n",
    "gs2 = GridSpec(3, 3)\n",
    "gs2.update(left=0.55, right=0.98, hspace=0.05)\n",
    "ax4 = plt.subplot(gs2[:, :-1])\n",
    "ax5 = plt.subplot(gs2[:-1, -1])\n",
    "ax6 = plt.subplot(gs2[-1, -1])\n",
    "\n",
    "make_ticklabels_invisible(plt.gcf())\n",
    "\n",
    "plt.show()"
   ]
  },
  {
   "cell_type": "code",
   "execution_count": 22,
   "metadata": {
    "collapsed": false
   },
   "outputs": [
    {
     "data": {
      "image/png": "[encoded data removed]",
      "text/plain": [
       "<matplotlib.figure.Figure at 0x10ef82b38>"
      ]
     },
     "metadata": {},
     "output_type": "display_data"
    }
   ],
   "source": [
    "f = plt.figure()\n",
    "\n",
    "gs0 = gridspec.GridSpec(1, 2)\n",
    "\n",
    "gs00 = gridspec.GridSpecFromSubplotSpec(3, 3, subplot_spec=gs0[0])\n",
    "\n",
    "ax1 = plt.Subplot(f, gs00[:-1, :])\n",
    "f.add_subplot(ax1)\n",
    "ax2 = plt.Subplot(f, gs00[-1, :-1])\n",
    "f.add_subplot(ax2)\n",
    "ax3 = plt.Subplot(f, gs00[-1, -1])\n",
    "f.add_subplot(ax3)\n",
    "\n",
    "\n",
    "gs01 = gridspec.GridSpecFromSubplotSpec(3, 3, subplot_spec=gs0[1])\n",
    "\n",
    "ax4 = plt.Subplot(f, gs01[:, :-1])\n",
    "f.add_subplot(ax4)\n",
    "ax5 = plt.Subplot(f, gs01[:-1, -1])\n",
    "f.add_subplot(ax5)\n",
    "ax6 = plt.Subplot(f, gs01[-1, -1])\n",
    "f.add_subplot(ax6)\n",
    "\n",
    "plt.suptitle(\"GirdSpec Inside GridSpec\")\n",
    "make_ticklabels_invisible(plt.gcf())\n",
    "\n",
    "plt.show()"
   ]
  },
  {
   "cell_type": "code",
   "execution_count": 23,
   "metadata": {
    "collapsed": false
   },
   "outputs": [
    {
     "data": {
      "image/png": "[encoded data removed]",
      "text/plain": [
       "<matplotlib.figure.Figure at 0x10edcad68>"
      ]
     },
     "metadata": {},
     "output_type": "display_data"
    }
   ],
   "source": [
    "f = plt.figure()\n",
    "\n",
    "gs = gridspec.GridSpec(2, 2,\n",
    "                       width_ratios=[1,2],\n",
    "                       height_ratios=[4,1]\n",
    "                       )\n",
    "\n",
    "ax1 = plt.subplot(gs[0])\n",
    "ax2 = plt.subplot(gs[1])\n",
    "ax3 = plt.subplot(gs[2])\n",
    "ax4 = plt.subplot(gs[3])\n",
    "\n",
    "make_ticklabels_invisible(f)\n",
    "plt.show()"
   ]
  },
  {
   "cell_type": "code",
   "execution_count": null,
   "metadata": {
    "collapsed": true
   },
   "outputs": [],
   "source": []
  }
 ],
 "metadata": {
  "kernelspec": {
   "display_name": "Python 3",
   "language": "python",
   "name": "python3"
  },
  "language_info": {
   "codemirror_mode": {
    "name": "ipython",
    "version": 3
   },
   "file_extension": ".py",
   "mimetype": "text/x-python",
   "name": "python",
   "nbconvert_exporter": "python",
   "pygments_lexer": "ipython3",
   "version": "3.6.0"
  }
 },
 "nbformat": 4,
 "nbformat_minor": 2
}
