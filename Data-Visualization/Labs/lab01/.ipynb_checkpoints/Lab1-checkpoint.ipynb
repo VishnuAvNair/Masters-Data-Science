{
 "cells": [
  {
   "cell_type": "markdown",
   "metadata": {},
   "source": [
    "# Data Visualization Fall 2017 - Lab1\n",
    "\n",
    "## The Importance of Visualization\n",
    "\n",
    "**The Anscombe file contains 4 datasets with 11 x, y paired values where each x1 goes with y1, x2 goes with y2, and so on.** <br/>\n",
    "**These datasets offer a good opportunity to stress the importance of visualization [1].**"
   ]
  },
  {
   "cell_type": "code",
   "execution_count": 157,
   "metadata": {
    "collapsed": false
   },
   "outputs": [
    {
     "data": {
      "text/html": [
       "<div>\n",
       "<table border=\"1\" class=\"dataframe\">\n",
       "  <thead>\n",
       "    <tr style=\"text-align: right;\">\n",
       "      <th></th>\n",
       "      <th>Unnamed: 0</th>\n",
       "      <th>x1</th>\n",
       "      <th>x2</th>\n",
       "      <th>x3</th>\n",
       "      <th>x4</th>\n",
       "      <th>y1</th>\n",
       "      <th>y2</th>\n",
       "      <th>y3</th>\n",
       "      <th>y4</th>\n",
       "    </tr>\n",
       "  </thead>\n",
       "  <tbody>\n",
       "    <tr>\n",
       "      <th>0</th>\n",
       "      <td>1</td>\n",
       "      <td>10</td>\n",
       "      <td>10</td>\n",
       "      <td>10</td>\n",
       "      <td>8</td>\n",
       "      <td>8.04</td>\n",
       "      <td>9.14</td>\n",
       "      <td>7.46</td>\n",
       "      <td>6.58</td>\n",
       "    </tr>\n",
       "    <tr>\n",
       "      <th>1</th>\n",
       "      <td>2</td>\n",
       "      <td>8</td>\n",
       "      <td>8</td>\n",
       "      <td>8</td>\n",
       "      <td>8</td>\n",
       "      <td>6.95</td>\n",
       "      <td>8.14</td>\n",
       "      <td>6.77</td>\n",
       "      <td>5.76</td>\n",
       "    </tr>\n",
       "    <tr>\n",
       "      <th>2</th>\n",
       "      <td>3</td>\n",
       "      <td>13</td>\n",
       "      <td>13</td>\n",
       "      <td>13</td>\n",
       "      <td>8</td>\n",
       "      <td>7.58</td>\n",
       "      <td>8.74</td>\n",
       "      <td>12.74</td>\n",
       "      <td>7.71</td>\n",
       "    </tr>\n",
       "    <tr>\n",
       "      <th>3</th>\n",
       "      <td>4</td>\n",
       "      <td>9</td>\n",
       "      <td>9</td>\n",
       "      <td>9</td>\n",
       "      <td>8</td>\n",
       "      <td>8.81</td>\n",
       "      <td>8.77</td>\n",
       "      <td>7.11</td>\n",
       "      <td>8.84</td>\n",
       "    </tr>\n",
       "    <tr>\n",
       "      <th>4</th>\n",
       "      <td>5</td>\n",
       "      <td>11</td>\n",
       "      <td>11</td>\n",
       "      <td>11</td>\n",
       "      <td>8</td>\n",
       "      <td>8.33</td>\n",
       "      <td>9.26</td>\n",
       "      <td>7.81</td>\n",
       "      <td>8.47</td>\n",
       "    </tr>\n",
       "    <tr>\n",
       "      <th>5</th>\n",
       "      <td>6</td>\n",
       "      <td>14</td>\n",
       "      <td>14</td>\n",
       "      <td>14</td>\n",
       "      <td>8</td>\n",
       "      <td>9.96</td>\n",
       "      <td>8.10</td>\n",
       "      <td>8.84</td>\n",
       "      <td>7.04</td>\n",
       "    </tr>\n",
       "    <tr>\n",
       "      <th>6</th>\n",
       "      <td>7</td>\n",
       "      <td>6</td>\n",
       "      <td>6</td>\n",
       "      <td>6</td>\n",
       "      <td>8</td>\n",
       "      <td>7.24</td>\n",
       "      <td>6.13</td>\n",
       "      <td>6.08</td>\n",
       "      <td>5.25</td>\n",
       "    </tr>\n",
       "    <tr>\n",
       "      <th>7</th>\n",
       "      <td>8</td>\n",
       "      <td>4</td>\n",
       "      <td>4</td>\n",
       "      <td>4</td>\n",
       "      <td>19</td>\n",
       "      <td>4.26</td>\n",
       "      <td>3.10</td>\n",
       "      <td>5.39</td>\n",
       "      <td>12.50</td>\n",
       "    </tr>\n",
       "    <tr>\n",
       "      <th>8</th>\n",
       "      <td>9</td>\n",
       "      <td>12</td>\n",
       "      <td>12</td>\n",
       "      <td>12</td>\n",
       "      <td>8</td>\n",
       "      <td>10.84</td>\n",
       "      <td>9.13</td>\n",
       "      <td>8.15</td>\n",
       "      <td>5.56</td>\n",
       "    </tr>\n",
       "    <tr>\n",
       "      <th>9</th>\n",
       "      <td>10</td>\n",
       "      <td>7</td>\n",
       "      <td>7</td>\n",
       "      <td>7</td>\n",
       "      <td>8</td>\n",
       "      <td>4.82</td>\n",
       "      <td>7.26</td>\n",
       "      <td>6.42</td>\n",
       "      <td>7.91</td>\n",
       "    </tr>\n",
       "    <tr>\n",
       "      <th>10</th>\n",
       "      <td>11</td>\n",
       "      <td>5</td>\n",
       "      <td>5</td>\n",
       "      <td>5</td>\n",
       "      <td>8</td>\n",
       "      <td>5.68</td>\n",
       "      <td>4.74</td>\n",
       "      <td>5.73</td>\n",
       "      <td>6.89</td>\n",
       "    </tr>\n",
       "  </tbody>\n",
       "</table>\n",
       "</div>"
      ],
      "text/plain": [
       "    Unnamed: 0  x1  x2  x3  x4     y1    y2     y3     y4\n",
       "0            1  10  10  10   8   8.04  9.14   7.46   6.58\n",
       "1            2   8   8   8   8   6.95  8.14   6.77   5.76\n",
       "2            3  13  13  13   8   7.58  8.74  12.74   7.71\n",
       "3            4   9   9   9   8   8.81  8.77   7.11   8.84\n",
       "4            5  11  11  11   8   8.33  9.26   7.81   8.47\n",
       "5            6  14  14  14   8   9.96  8.10   8.84   7.04\n",
       "6            7   6   6   6   8   7.24  6.13   6.08   5.25\n",
       "7            8   4   4   4  19   4.26  3.10   5.39  12.50\n",
       "8            9  12  12  12   8  10.84  9.13   8.15   5.56\n",
       "9           10   7   7   7   8   4.82  7.26   6.42   7.91\n",
       "10          11   5   5   5   8   5.68  4.74   5.73   6.89"
      ]
     },
     "execution_count": 157,
     "metadata": {},
     "output_type": "execute_result"
    }
   ],
   "source": [
    "%matplotlib inline \n",
    "\n",
    "from scipy import stats\n",
    "import matplotlib\n",
    "import matplotlib.pyplot as plt\n",
    "import pandas as pd\n",
    "import numpy as np\n",
    "df = pd.read_csv('anscombe.csv')\n",
    "df"
   ]
  },
  {
   "cell_type": "code",
   "execution_count": 158,
   "metadata": {
    "collapsed": true
   },
   "outputs": [],
   "source": [
    "df1 = df[['x1','y1']]\n",
    "df2 = df[['x2','y2']]\n",
    "df3 = df[['x3','y3']]\n",
    "df4 = df[['x4','y4']]"
   ]
  },
  {
   "cell_type": "markdown",
   "metadata": {},
   "source": [
    "**Basic descriptive statistics show very similar centrality and dispersion accross the 4 datasets:**"
   ]
  },
  {
   "cell_type": "code",
   "execution_count": 159,
   "metadata": {
    "collapsed": false
   },
   "outputs": [
    {
     "name": "stdout",
     "output_type": "stream",
     "text": [
      "MEANS:\n",
      "=====\n",
      "Dataset 1: x1 mean = 9.0000; y1 mean = 7.5009\n",
      "Dataset 2: x2 mean = 9.0000; y2 mean = 7.5009\n",
      "Dataset 3: x3 mean = 9.0000; y3 mean = 7.5000\n",
      "Dataset 4: x4 mean = 9.0000; y4 mean = 7.5009\n"
     ]
    }
   ],
   "source": [
    "print('MEANS:\\n=====')\n",
    "print('Dataset 1: x1 mean = {0:0.4f}; y1 mean = {1:0.4f}'.format(df1.x1.mean(), df1.y1.mean()))\n",
    "print('Dataset 2: x2 mean = {0:0.4f}; y2 mean = {1:0.4f}'.format(df2.x2.mean(), df2.y2.mean()))\n",
    "print('Dataset 3: x3 mean = {0:0.4f}; y3 mean = {1:0.4f}'.format(df3.x3.mean(), df3.y3.mean()))\n",
    "print('Dataset 4: x4 mean = {0:0.4f}; y4 mean = {1:0.4f}'.format(df4.x4.mean(), df4.y4.mean()))"
   ]
  },
  {
   "cell_type": "code",
   "execution_count": 160,
   "metadata": {
    "collapsed": false
   },
   "outputs": [
    {
     "name": "stdout",
     "output_type": "stream",
     "text": [
      "STANDARD DEVIATIONS:\n",
      "===================\n",
      "Dataset 1: x1 std = 3.3166; y1 std = 2.0316\n",
      "Dataset 2: x2 std = 3.3166; y2 std = 2.0317\n",
      "Dataset 3: x3 std = 3.3166; y3 std = 2.0304\n",
      "Dataset 4: x4 std = 3.3166; y4 std = 2.0306\n"
     ]
    }
   ],
   "source": [
    "print('STANDARD DEVIATIONS:\\n===================')\n",
    "print('Dataset 1: x1 std = {0:0.4f}; y1 std = {1:0.4f}'.format(df1.x1.std(), df1.y1.std()))\n",
    "print('Dataset 2: x2 std = {0:0.4f}; y2 std = {1:0.4f}'.format(df2.x2.std(), df2.y2.std()))\n",
    "print('Dataset 3: x3 std = {0:0.4f}; y3 std = {1:0.4f}'.format(df3.x3.std(), df3.y3.std()))\n",
    "print('Dataset 4: x4 std = {0:0.4f}; y4 std = {1:0.4f}'.format(df4.x4.std(), df4.y4.std()))"
   ]
  },
  {
   "cell_type": "markdown",
   "metadata": {},
   "source": [
    "**Basic descriptive statistics show very similar coefficient of determination r-squared for the 4 datasets:**"
   ]
  },
  {
   "cell_type": "code",
   "execution_count": 161,
   "metadata": {
    "collapsed": false
   },
   "outputs": [
    {
     "name": "stdout",
     "output_type": "stream",
     "text": [
      "COEFITIENTS OF DETERMINATION:\n",
      "============================\n",
      "Dataset 1 r-squared: 0.6665\n",
      "Dataset 2 r-squared: 0.6662\n",
      "Dataset 3 r-squared: 0.6663\n",
      "Dataset 4 r-squared: 0.6667\n"
     ]
    }
   ],
   "source": [
    "print('COEFITIENTS OF DETERMINATION:\\n============================')\n",
    "r1 = stats.linregress(df1.x1, df1.y1)[2]\n",
    "r2 = stats.linregress(df2.x2, df2.y2)[2]\n",
    "r3 = stats.linregress(df3.x3, df3.y3)[2]\n",
    "r4 = stats.linregress(df4.x4, df4.y4)[2]\n",
    "print('Dataset 1 r-squared: {0:0.4f}'.format(r1**2))\n",
    "print('Dataset 2 r-squared: {0:0.4f}'.format(r2**2))\n",
    "print('Dataset 3 r-squared: {0:0.4f}'.format(r3**2))\n",
    "print('Dataset 4 r-squared: {0:0.4f}'.format(r4**2))"
   ]
  },
  {
   "cell_type": "markdown",
   "metadata": {},
   "source": [
    "**Yet, through visualization we see the data is not similar at all, despite the fact regression lines have the same slope.** <br/>\n",
    "Source for regression line code: https://stackoverflow.com/questions/19068862/how-to-overplot-a-line-on-a-scatter-plot-in-python <br/>\n",
    "Author: Greg Whittier"
   ]
  },
  {
   "cell_type": "code",
   "execution_count": 179,
   "metadata": {
    "collapsed": false
   },
   "outputs": [
    {
     "data": {
      "image/png": "[encoded data removed]",
      "text/plain": [
       "<matplotlib.figure.Figure at 0x127139828>"
      ]
     },
     "metadata": {},
     "output_type": "display_data"
    }
   ],
   "source": [
    "def show_plot(position, dataset, xlabel, ylabel, color, x, y):\n",
    "    f_plot = fig.add_subplot(position)\n",
    "    f_plot.set_xlabel(xlabel); f_plot.set_ylabel(ylabel)\n",
    "    plt.scatter(x, y, color=color)\n",
    "    m, b = np.polyfit(x, y, 1)\n",
    "    anot = 'Slope=' + str(round(m,1))\n",
    "    f_plot.set_title(dataset + '\\n' + anot); \n",
    "    plt.plot(x, m*x + b, '-', color='k')\n",
    "\n",
    "    \n",
    "fig = plt.figure()\n",
    "fig.subplots_adjust(left=None, bottom=None, right=None, top=None, wspace=0.75, hspace=1)\n",
    "\n",
    "show_plot(221, 'Dataset 1','x1', 'y1', 'r', df1.x1, df1.y1)\n",
    "show_plot(222, 'Dataset 2','x2', 'y2', 'b', df2.x2, df2.y2)\n",
    "show_plot(223, 'Dataset 3','x3', 'y3', 'm', df3.x3, df3.y3)\n",
    "show_plot(224, 'Dataset 4','x4', 'y4', 'g', df4.x4, df4.y4)\n"
   ]
  },
  {
   "cell_type": "markdown",
   "metadata": {},
   "source": [
    "References:\n",
    "\n",
    "[1] Tufte, Edward, and P. Graves-Morris. \"The visual display of quantitative information.; 1983.\" (2014) (pp 13-14)"
   ]
  }
 ],
 "metadata": {
  "kernelspec": {
   "display_name": "Python 3",
   "language": "python",
   "name": "python3"
  },
  "language_info": {
   "codemirror_mode": {
    "name": "ipython",
    "version": 3
   },
   "file_extension": ".py",
   "mimetype": "text/x-python",
   "name": "python",
   "nbconvert_exporter": "python",
   "pygments_lexer": "ipython3",
   "version": "3.6.0"
  }
 },
 "nbformat": 4,
 "nbformat_minor": 2
}
