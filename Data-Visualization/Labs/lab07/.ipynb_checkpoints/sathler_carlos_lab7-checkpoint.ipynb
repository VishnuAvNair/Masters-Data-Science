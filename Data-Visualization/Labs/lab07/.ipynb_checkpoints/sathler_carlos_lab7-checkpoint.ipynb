{
 "cells": [
  {
   "cell_type": "markdown",
   "metadata": {},
   "source": [
    "# W7 Lab Assignment\n"
   ]
  },
  {
   "cell_type": "code",
   "execution_count": 1,
   "metadata": {
    "collapsed": true
   },
   "outputs": [],
   "source": [
    "import matplotlib.pyplot as plt\n",
    "import pandas as pd\n",
    "import seaborn as sns\n",
    "import numpy as np\n",
    "import random\n",
    "sns.set_style('white')\n",
    "\n",
    "%matplotlib inline"
   ]
  },
  {
   "cell_type": "markdown",
   "metadata": {},
   "source": [
    "# Cumulative histogram and CDF\n",
    "\n",
    "How can we plot a cumulative histogram? "
   ]
  },
  {
   "cell_type": "code",
   "execution_count": 2,
   "metadata": {
    "collapsed": false
   },
   "outputs": [
    {
     "name": "stdout",
     "output_type": "stream",
     "text": [
      "Title     313011\n",
      "Year      313011\n",
      "Rating    313011\n",
      "Votes     313011\n",
      "dtype: int64\n"
     ]
    },
    {
     "data": {
      "text/html": [
       "<div>\n",
       "<table border=\"1\" class=\"dataframe\">\n",
       "  <thead>\n",
       "    <tr style=\"text-align: right;\">\n",
       "      <th></th>\n",
       "      <th>Title</th>\n",
       "      <th>Year</th>\n",
       "      <th>Rating</th>\n",
       "      <th>Votes</th>\n",
       "    </tr>\n",
       "  </thead>\n",
       "  <tbody>\n",
       "    <tr>\n",
       "      <th>0</th>\n",
       "      <td>!Next?</td>\n",
       "      <td>1994</td>\n",
       "      <td>5.4</td>\n",
       "      <td>5</td>\n",
       "    </tr>\n",
       "    <tr>\n",
       "      <th>1</th>\n",
       "      <td>#1 Single</td>\n",
       "      <td>2006</td>\n",
       "      <td>6.1</td>\n",
       "      <td>61</td>\n",
       "    </tr>\n",
       "    <tr>\n",
       "      <th>2</th>\n",
       "      <td>#7DaysLater</td>\n",
       "      <td>2013</td>\n",
       "      <td>7.1</td>\n",
       "      <td>14</td>\n",
       "    </tr>\n",
       "    <tr>\n",
       "      <th>3</th>\n",
       "      <td>#Bikerlive</td>\n",
       "      <td>2014</td>\n",
       "      <td>6.8</td>\n",
       "      <td>11</td>\n",
       "    </tr>\n",
       "    <tr>\n",
       "      <th>4</th>\n",
       "      <td>#ByMySide</td>\n",
       "      <td>2012</td>\n",
       "      <td>5.5</td>\n",
       "      <td>13</td>\n",
       "    </tr>\n",
       "  </tbody>\n",
       "</table>\n",
       "</div>"
      ],
      "text/plain": [
       "         Title  Year  Rating  Votes\n",
       "0       !Next?  1994     5.4      5\n",
       "1    #1 Single  2006     6.1     61\n",
       "2  #7DaysLater  2013     7.1     14\n",
       "3   #Bikerlive  2014     6.8     11\n",
       "4    #ByMySide  2012     5.5     13"
      ]
     },
     "execution_count": 2,
     "metadata": {},
     "output_type": "execute_result"
    }
   ],
   "source": [
    "# TODO: Load IMDB data into movie_df using pandas\n",
    "df = pd.read_csv(\"imdb.csv\", delimiter=\"\\t\")\n",
    "print(df.count())\n",
    "df.head()"
   ]
  },
  {
   "cell_type": "code",
   "execution_count": 3,
   "metadata": {
    "collapsed": false
   },
   "outputs": [
    {
     "data": {
      "image/png": "[encoded data removed]",
      "text/plain": [
       "<matplotlib.figure.Figure at 0x1036000b8>"
      ]
     },
     "metadata": {},
     "output_type": "display_data"
    }
   ],
   "source": [
    "# TODO: draw a cumulative histogram of movie ratings with 20 bins. Hint: use plt.hist()\n",
    "_ = plt.hist(df.Rating.values, bins=20, cumulative=True)"
   ]
  },
  {
   "cell_type": "code",
   "execution_count": 4,
   "metadata": {
    "collapsed": false
   },
   "outputs": [
    {
     "data": {
      "text/plain": [
       "<matplotlib.lines.Line2D at 0x10224e5f8>"
      ]
     },
     "execution_count": 4,
     "metadata": {},
     "output_type": "execute_result"
    },
    {
     "data": {
      "image/png": "[encoded data removed]",
      "text/plain": [
       "<matplotlib.figure.Figure at 0x10e028f98>"
      ]
     },
     "metadata": {},
     "output_type": "display_data"
    }
   ],
   "source": [
    "# TODO: same histogram, but with normalization \n",
    "plt.hist(df.Rating.values, bins=20, cumulative=True, normed=True)\n",
    "plt.axhline(y=1, color='red', linestyle='dashed', linewidth=1)"
   ]
  },
  {
   "cell_type": "markdown",
   "metadata": {},
   "source": [
    "Does it reach 1.0? Why should it become 1.0 at the right end? Also you can do the plot with pandas. "
   ]
  },
  {
   "cell_type": "markdown",
   "metadata": {},
   "source": [
    "** It does reach 1, as it should since the data was normalized. <br> \n",
    "It happens at the end because at the end 100% of the observations have been accounted for. **"
   ]
  },
  {
   "cell_type": "code",
   "execution_count": 5,
   "metadata": {
    "collapsed": false
   },
   "outputs": [
    {
     "data": {
      "text/plain": [
       "<matplotlib.axes._subplots.AxesSubplot at 0x10f564b38>"
      ]
     },
     "execution_count": 5,
     "metadata": {},
     "output_type": "execute_result"
    },
    {
     "data": {
      "image/png": "[encoded data removed]",
      "text/plain": [
       "<matplotlib.figure.Figure at 0x10e838748>"
      ]
     },
     "metadata": {},
     "output_type": "display_data"
    }
   ],
   "source": [
    "# TODO: same plot, but call directly from dataframe movie_df\n",
    "df['Rating'].hist(bins=20, cumulative=True, normed=True)"
   ]
  },
  {
   "cell_type": "code",
   "execution_count": 6,
   "metadata": {
    "collapsed": false
   },
   "outputs": [
    {
     "data": {
      "text/plain": [
       "<matplotlib.axes._subplots.AxesSubplot at 0x10f7b4400>"
      ]
     },
     "execution_count": 6,
     "metadata": {},
     "output_type": "execute_result"
    },
    {
     "data": {
      "image/png": "[encoded data removed]",
      "text/plain": [
       "<matplotlib.figure.Figure at 0x10e0443c8>"
      ]
     },
     "metadata": {},
     "output_type": "display_data"
    }
   ],
   "source": [
    "# This is just something I tried for a CDF, but probably it should be considered a cumulative distribution\n",
    "x = np.linspace(0,10,num=101)\n",
    "count = df.Rating.size\n",
    "y = list()\n",
    "for xi in x:\n",
    "    yi = df[df['Rating'] <= xi]['Rating'].values.size / count\n",
    "    y.append(yi)\n",
    "plt.plot(x, np.array(y), color='r', linestyle='-', linewidth=3)\n",
    "plt.grid(True)\n",
    "plt.xticks(np.arange(0,11))\n",
    "df['Rating'].hist(bins=20, cumulative=True, normed=True)"
   ]
  },
  {
   "cell_type": "markdown",
   "metadata": {},
   "source": [
    "## CDF"
   ]
  },
  {
   "cell_type": "markdown",
   "metadata": {},
   "source": [
    "Let's make it CDF rather than cumulative histogram. You can sort a Series with `order` function. You can use [`np.linspace`](http://docs.scipy.org/doc/numpy/reference/generated/numpy.linspace.html) to generate a list of evenly spaced value. "
   ]
  },
  {
   "cell_type": "code",
   "execution_count": 7,
   "metadata": {
    "collapsed": false
   },
   "outputs": [
    {
     "data": {
      "image/png": "[encoded data removed]",
      "text/plain": [
       "<matplotlib.figure.Figure at 0x10e377748>"
      ]
     },
     "metadata": {},
     "output_type": "display_data"
    }
   ],
   "source": [
    "# TODO: plot CDF (not cumulative histogram) of movie ratings.\n",
    "# Code adapted from video at https://www.youtube.com/watch?v=ap4mfGvgDsM\n",
    "# Video Name: Python tutorial: Cumulative Distribution Functions\n",
    "# Author: DataCamp\n",
    "x = df.Rating.sort_values(ascending=True)\n",
    "y = np.linspace(0, 1, len(x))\n",
    "plt.plot(x, y, color='r', linestyle='-', linewidth=1.5)\n",
    "#plt.plot(x, y, marker='.', linestyle='none')\n",
    "plt.grid(True)\n",
    "plt.yticks(np.arange(0,1.1,0.1))\n",
    "_ = plt.xticks(np.arange(0,11))"
   ]
  },
  {
   "cell_type": "markdown",
   "metadata": {},
   "source": [
    "The main advantange of CDF is that we can directly observe percentiles from the plot. Given the number of movies we have, can you estimate the following statistics by observing the plot? Compare your estimation to the precise results calculated from movie_df.\n",
    "\n",
    "- The numer of movies with rating <= 7\n",
    "- The median rating of movies\n",
    "- The rating which 90% of movies are under or equal to\n"
   ]
  },
  {
   "cell_type": "code",
   "execution_count": 8,
   "metadata": {
    "collapsed": false
   },
   "outputs": [
    {
     "name": "stdout",
     "output_type": "stream",
     "text": [
      "The numer of movies with rating <= 7\n",
      "\t69% of the total number of movies = .69 * 313011 ~= 215978\n",
      "The median rating of movies:\n",
      "\t6.4\n",
      "The rating which 90% of movies are under or equal to\n",
      "\t7.9\n"
     ]
    }
   ],
   "source": [
    "#TODO: provide your estimations.\n",
    "print(\"The numer of movies with rating <= 7\\n\\t69% of the total number of movies = .69 * 313011 ~= 215978\")\n",
    "print(\"The median rating of movies:\\n\\t6.4\")\n",
    "print(\"The rating which 90% of movies are under or equal to\\n\\t7.9\")"
   ]
  },
  {
   "cell_type": "code",
   "execution_count": 9,
   "metadata": {
    "collapsed": false
   },
   "outputs": [
    {
     "name": "stdout",
     "output_type": "stream",
     "text": [
      "The numer of movies with rating <= 7\n",
      "\t213807\n",
      "The median rating of movies:\n",
      "\t6.5\n",
      "The rating which 90% of movies are under or equal to\n",
      "\t8.0\n"
     ]
    }
   ],
   "source": [
    "#TODO: calculate the statistics from movie_df.\n",
    "stat1 = df[df['Rating']<=7]['Rating'].size\n",
    "stat2 = np.percentile(df.Rating.values,50)\n",
    "stat3 = np.percentile(df.Rating.values,90)\n",
    "print(\"The numer of movies with rating <= 7\\n\\t{}\".format(stat1))\n",
    "print(\"The median rating of movies:\\n\\t{}\".format(stat2))\n",
    "print(\"The rating which 90% of movies are under or equal to\\n\\t{}\".format(stat3))"
   ]
  },
  {
   "cell_type": "markdown",
   "metadata": {},
   "source": [
    "# Bootstrap Resampling"
   ]
  },
  {
   "cell_type": "markdown",
   "metadata": {},
   "source": [
    "Let's imagine that we only have a sample of the IMDB data, say 50 movies. How much can we infer about the original data from this small sample? This is a question that we encounter very often in statistical analysis.\n",
    "\n",
    "In such situations, we can seek help from the bootstraping method. This is a family of statistical methods that relies on random sampling with replacement. Different to the traditional methods, it does not assume that our data follows a particular distribution, and so is very flexible to use."
   ]
  },
  {
   "cell_type": "code",
   "execution_count": 10,
   "metadata": {
    "collapsed": true
   },
   "outputs": [],
   "source": [
    "movie_df = df.copy()"
   ]
  },
  {
   "cell_type": "code",
   "execution_count": 11,
   "metadata": {
    "collapsed": false
   },
   "outputs": [],
   "source": [
    "#create a random sample from the movie table.\n",
    "movie_df_sample = movie_df.sample(50)"
   ]
  },
  {
   "cell_type": "code",
   "execution_count": 12,
   "metadata": {
    "collapsed": false
   },
   "outputs": [
    {
     "data": {
      "text/plain": [
       "50"
      ]
     },
     "execution_count": 12,
     "metadata": {},
     "output_type": "execute_result"
    }
   ],
   "source": [
    "len(movie_df_sample)"
   ]
  },
  {
   "cell_type": "markdown",
   "metadata": {},
   "source": [
    "Now we have a sample with size = 50. We can compute, for example, the mean of movie ratings in this sample:"
   ]
  },
  {
   "cell_type": "code",
   "execution_count": 13,
   "metadata": {
    "collapsed": false
   },
   "outputs": [
    {
     "name": "stdout",
     "output_type": "stream",
     "text": [
      "Mean of sample:  5.9620000000000015\n"
     ]
    }
   ],
   "source": [
    "print('Mean of sample: ', movie_df_sample.Rating.mean())"
   ]
  },
  {
   "cell_type": "markdown",
   "metadata": {},
   "source": [
    "But we only have one statistic. How can we know if this correctly represents the mean of the actual data? We need to compute a confidence interval. This is when we can use bootstrapping."
   ]
  },
  {
   "cell_type": "markdown",
   "metadata": {},
   "source": [
    "First, Let's create a function that does the resampling with replacement. It should create a list of the same length as the sample(50 in this case), in which each element is taken randomly from the sample. In this way, some elements may appear more than once, and some none. Then we calculate the mean value of this list.  "
   ]
  },
  {
   "cell_type": "code",
   "execution_count": 14,
   "metadata": {
    "collapsed": true
   },
   "outputs": [],
   "source": [
    "def bootstrap_resample(rating_list):\n",
    "    resampled_list = rating_list.sample(50)\n",
    "    #todo: write the function that returns the mean of resampled list.\n",
    "    return resampled_list.values.mean()"
   ]
  },
  {
   "cell_type": "markdown",
   "metadata": {},
   "source": [
    "We don't usually just do this once: the typical minimal resample number is 1000. We can create a new list to keep this 1000 mean values."
   ]
  },
  {
   "cell_type": "code",
   "execution_count": 15,
   "metadata": {
    "collapsed": false
   },
   "outputs": [
    {
     "name": "stdout",
     "output_type": "stream",
     "text": [
      "1000\n"
     ]
    }
   ],
   "source": [
    "#todo: call the function 1000 times and populate the list with its returned values.\n",
    "sampled_means = list()\n",
    "for i in np.arange(1,1001): sampled_means.append(bootstrap_resample(movie_df.Rating))\n",
    "print(len(sampled_means))"
   ]
  },
  {
   "cell_type": "markdown",
   "metadata": {},
   "source": [
    "Now we can compute the confidence interval. Say we want the 90% confidence, then we only need to pick out the .95 and .05 critical values."
   ]
  },
  {
   "cell_type": "code",
   "execution_count": 16,
   "metadata": {
    "collapsed": false
   },
   "outputs": [
    {
     "name": "stdout",
     "output_type": "stream",
     "text": [
      "50.0 950.0\n"
     ]
    }
   ],
   "source": [
    "print(1000*0.05, 1000*0.95)"
   ]
  },
  {
   "cell_type": "markdown",
   "metadata": {},
   "source": [
    "That is, we need to pick the 50th and 950th largest values from the list. We can name it x_a and x_b."
   ]
  },
  {
   "cell_type": "code",
   "execution_count": 17,
   "metadata": {
    "collapsed": false
   },
   "outputs": [
    {
     "name": "stdout",
     "output_type": "stream",
     "text": [
      " 50th value: 5.962000000000001\n",
      "950th value: 6.608\n"
     ]
    }
   ],
   "source": [
    "#todo: sort the list by ascending and pick out the 50th and 950th value. \n",
    "sampled_means.sort()\n",
    "x_a = sampled_means[49]\n",
    "x_b = sampled_means[949]\n",
    "print(\" 50th value: {}\".format(x_a))\n",
    "print(\"950th value: {}\".format(x_b))"
   ]
  },
  {
   "cell_type": "markdown",
   "metadata": {},
   "source": [
    "The confidence interval will then be: `[x - (x - x_a), x + (x_b - x)]`, which is `[x_a, x_b]`."
   ]
  },
  {
   "cell_type": "code",
   "execution_count": 18,
   "metadata": {
    "collapsed": false
   },
   "outputs": [
    {
     "name": "stdout",
     "output_type": "stream",
     "text": [
      "Confidence interval: [5.962000000000001, 6.608]\n",
      "Original data mean : 6.296195341377723\n"
     ]
    }
   ],
   "source": [
    "#todo: calculate the confidence interval. \n",
    "#Does the mean of the original data fall within this interval? Show your statistics.\n",
    "print(\"Confidence interval: [{}, {}]\".format(x_a, x_b))\n",
    "print(\"Original data mean : {}\".format(movie_df.Rating.mean()))"
   ]
  }
 ],
 "metadata": {
  "anaconda-cloud": {},
  "kernelspec": {
   "display_name": "Python 3",
   "language": "python",
   "name": "python3"
  },
  "language_info": {
   "codemirror_mode": {
    "name": "ipython",
    "version": 3
   },
   "file_extension": ".py",
   "mimetype": "text/x-python",
   "name": "python",
   "nbconvert_exporter": "python",
   "pygments_lexer": "ipython3",
   "version": "3.6.0"
  }
 },
 "nbformat": 4,
 "nbformat_minor": 1
}
